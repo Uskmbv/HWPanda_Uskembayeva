{
  "nbformat": 4,
  "nbformat_minor": 0,
  "metadata": {
    "colab": {
      "provenance": [],
      "collapsed_sections": [
        "ZEHsHqnBEnM0",
        "MRYNWqK-Gu3F",
        "vyls_Vs7MxYj"
      ],
      "toc_visible": true,
      "include_colab_link": true
    },
    "kernelspec": {
      "name": "python3",
      "display_name": "Python 3"
    },
    "widgets": {
      "application/vnd.jupyter.widget-state+json": {
        "2defcc9a75714afebab21d4a662fdfc3": {
          "model_module": "@jupyter-widgets/controls",
          "model_name": "HBoxModel",
          "model_module_version": "1.5.0",
          "state": {
            "_dom_classes": [],
            "_model_module": "@jupyter-widgets/controls",
            "_model_module_version": "1.5.0",
            "_model_name": "HBoxModel",
            "_view_count": null,
            "_view_module": "@jupyter-widgets/controls",
            "_view_module_version": "1.5.0",
            "_view_name": "HBoxView",
            "box_style": "",
            "children": [
              "IPY_MODEL_05b300a86eaf4986b2847ed1ec3dd590",
              "IPY_MODEL_59077d33848d4af89dec6672324073c3",
              "IPY_MODEL_0d912da05bf24630921b46169b2e1c7c"
            ],
            "layout": "IPY_MODEL_90213ab1b6c94932b7a169f0580defa8"
          }
        },
        "05b300a86eaf4986b2847ed1ec3dd590": {
          "model_module": "@jupyter-widgets/controls",
          "model_name": "HTMLModel",
          "model_module_version": "1.5.0",
          "state": {
            "_dom_classes": [],
            "_model_module": "@jupyter-widgets/controls",
            "_model_module_version": "1.5.0",
            "_model_name": "HTMLModel",
            "_view_count": null,
            "_view_module": "@jupyter-widgets/controls",
            "_view_module_version": "1.5.0",
            "_view_name": "HTMLView",
            "description": "",
            "description_tooltip": null,
            "layout": "IPY_MODEL_0f70bada0ab7414fbcb4961ec54c68de",
            "placeholder": "​",
            "style": "IPY_MODEL_7548984c32f242f6b75a1de3063f721f",
            "value": ""
          }
        },
        "59077d33848d4af89dec6672324073c3": {
          "model_module": "@jupyter-widgets/controls",
          "model_name": "FloatProgressModel",
          "model_module_version": "1.5.0",
          "state": {
            "_dom_classes": [],
            "_model_module": "@jupyter-widgets/controls",
            "_model_module_version": "1.5.0",
            "_model_name": "FloatProgressModel",
            "_view_count": null,
            "_view_module": "@jupyter-widgets/controls",
            "_view_module_version": "1.5.0",
            "_view_name": "ProgressView",
            "bar_style": "success",
            "description": "",
            "description_tooltip": null,
            "layout": "IPY_MODEL_3dd70a9a6ef54ed6afbf2eb236a243b5",
            "max": 1,
            "min": 0,
            "orientation": "horizontal",
            "style": "IPY_MODEL_5d211c2cda094750ad7a0550215f697c",
            "value": 1
          }
        },
        "0d912da05bf24630921b46169b2e1c7c": {
          "model_module": "@jupyter-widgets/controls",
          "model_name": "HTMLModel",
          "model_module_version": "1.5.0",
          "state": {
            "_dom_classes": [],
            "_model_module": "@jupyter-widgets/controls",
            "_model_module_version": "1.5.0",
            "_model_name": "HTMLModel",
            "_view_count": null,
            "_view_module": "@jupyter-widgets/controls",
            "_view_module_version": "1.5.0",
            "_view_name": "HTMLView",
            "description": "",
            "description_tooltip": null,
            "layout": "IPY_MODEL_8ed162cbf6514367a495447e68284a17",
            "placeholder": "​",
            "style": "IPY_MODEL_fcbcdaf4f23447169baefe400f564ec1",
            "value": " 25858/? [00:00&lt;00:00, 243102.41it/s]"
          }
        },
        "90213ab1b6c94932b7a169f0580defa8": {
          "model_module": "@jupyter-widgets/base",
          "model_name": "LayoutModel",
          "model_module_version": "1.2.0",
          "state": {
            "_model_module": "@jupyter-widgets/base",
            "_model_module_version": "1.2.0",
            "_model_name": "LayoutModel",
            "_view_count": null,
            "_view_module": "@jupyter-widgets/base",
            "_view_module_version": "1.2.0",
            "_view_name": "LayoutView",
            "align_content": null,
            "align_items": null,
            "align_self": null,
            "border": null,
            "bottom": null,
            "display": null,
            "flex": null,
            "flex_flow": null,
            "grid_area": null,
            "grid_auto_columns": null,
            "grid_auto_flow": null,
            "grid_auto_rows": null,
            "grid_column": null,
            "grid_gap": null,
            "grid_row": null,
            "grid_template_areas": null,
            "grid_template_columns": null,
            "grid_template_rows": null,
            "height": null,
            "justify_content": null,
            "justify_items": null,
            "left": null,
            "margin": null,
            "max_height": null,
            "max_width": null,
            "min_height": null,
            "min_width": null,
            "object_fit": null,
            "object_position": null,
            "order": null,
            "overflow": null,
            "overflow_x": null,
            "overflow_y": null,
            "padding": null,
            "right": null,
            "top": null,
            "visibility": null,
            "width": null
          }
        },
        "0f70bada0ab7414fbcb4961ec54c68de": {
          "model_module": "@jupyter-widgets/base",
          "model_name": "LayoutModel",
          "model_module_version": "1.2.0",
          "state": {
            "_model_module": "@jupyter-widgets/base",
            "_model_module_version": "1.2.0",
            "_model_name": "LayoutModel",
            "_view_count": null,
            "_view_module": "@jupyter-widgets/base",
            "_view_module_version": "1.2.0",
            "_view_name": "LayoutView",
            "align_content": null,
            "align_items": null,
            "align_self": null,
            "border": null,
            "bottom": null,
            "display": null,
            "flex": null,
            "flex_flow": null,
            "grid_area": null,
            "grid_auto_columns": null,
            "grid_auto_flow": null,
            "grid_auto_rows": null,
            "grid_column": null,
            "grid_gap": null,
            "grid_row": null,
            "grid_template_areas": null,
            "grid_template_columns": null,
            "grid_template_rows": null,
            "height": null,
            "justify_content": null,
            "justify_items": null,
            "left": null,
            "margin": null,
            "max_height": null,
            "max_width": null,
            "min_height": null,
            "min_width": null,
            "object_fit": null,
            "object_position": null,
            "order": null,
            "overflow": null,
            "overflow_x": null,
            "overflow_y": null,
            "padding": null,
            "right": null,
            "top": null,
            "visibility": null,
            "width": null
          }
        },
        "7548984c32f242f6b75a1de3063f721f": {
          "model_module": "@jupyter-widgets/controls",
          "model_name": "DescriptionStyleModel",
          "model_module_version": "1.5.0",
          "state": {
            "_model_module": "@jupyter-widgets/controls",
            "_model_module_version": "1.5.0",
            "_model_name": "DescriptionStyleModel",
            "_view_count": null,
            "_view_module": "@jupyter-widgets/base",
            "_view_module_version": "1.2.0",
            "_view_name": "StyleView",
            "description_width": ""
          }
        },
        "3dd70a9a6ef54ed6afbf2eb236a243b5": {
          "model_module": "@jupyter-widgets/base",
          "model_name": "LayoutModel",
          "model_module_version": "1.2.0",
          "state": {
            "_model_module": "@jupyter-widgets/base",
            "_model_module_version": "1.2.0",
            "_model_name": "LayoutModel",
            "_view_count": null,
            "_view_module": "@jupyter-widgets/base",
            "_view_module_version": "1.2.0",
            "_view_name": "LayoutView",
            "align_content": null,
            "align_items": null,
            "align_self": null,
            "border": null,
            "bottom": null,
            "display": null,
            "flex": null,
            "flex_flow": null,
            "grid_area": null,
            "grid_auto_columns": null,
            "grid_auto_flow": null,
            "grid_auto_rows": null,
            "grid_column": null,
            "grid_gap": null,
            "grid_row": null,
            "grid_template_areas": null,
            "grid_template_columns": null,
            "grid_template_rows": null,
            "height": null,
            "justify_content": null,
            "justify_items": null,
            "left": null,
            "margin": null,
            "max_height": null,
            "max_width": null,
            "min_height": null,
            "min_width": null,
            "object_fit": null,
            "object_position": null,
            "order": null,
            "overflow": null,
            "overflow_x": null,
            "overflow_y": null,
            "padding": null,
            "right": null,
            "top": null,
            "visibility": null,
            "width": "20px"
          }
        },
        "5d211c2cda094750ad7a0550215f697c": {
          "model_module": "@jupyter-widgets/controls",
          "model_name": "ProgressStyleModel",
          "model_module_version": "1.5.0",
          "state": {
            "_model_module": "@jupyter-widgets/controls",
            "_model_module_version": "1.5.0",
            "_model_name": "ProgressStyleModel",
            "_view_count": null,
            "_view_module": "@jupyter-widgets/base",
            "_view_module_version": "1.2.0",
            "_view_name": "StyleView",
            "bar_color": null,
            "description_width": ""
          }
        },
        "8ed162cbf6514367a495447e68284a17": {
          "model_module": "@jupyter-widgets/base",
          "model_name": "LayoutModel",
          "model_module_version": "1.2.0",
          "state": {
            "_model_module": "@jupyter-widgets/base",
            "_model_module_version": "1.2.0",
            "_model_name": "LayoutModel",
            "_view_count": null,
            "_view_module": "@jupyter-widgets/base",
            "_view_module_version": "1.2.0",
            "_view_name": "LayoutView",
            "align_content": null,
            "align_items": null,
            "align_self": null,
            "border": null,
            "bottom": null,
            "display": null,
            "flex": null,
            "flex_flow": null,
            "grid_area": null,
            "grid_auto_columns": null,
            "grid_auto_flow": null,
            "grid_auto_rows": null,
            "grid_column": null,
            "grid_gap": null,
            "grid_row": null,
            "grid_template_areas": null,
            "grid_template_columns": null,
            "grid_template_rows": null,
            "height": null,
            "justify_content": null,
            "justify_items": null,
            "left": null,
            "margin": null,
            "max_height": null,
            "max_width": null,
            "min_height": null,
            "min_width": null,
            "object_fit": null,
            "object_position": null,
            "order": null,
            "overflow": null,
            "overflow_x": null,
            "overflow_y": null,
            "padding": null,
            "right": null,
            "top": null,
            "visibility": null,
            "width": null
          }
        },
        "fcbcdaf4f23447169baefe400f564ec1": {
          "model_module": "@jupyter-widgets/controls",
          "model_name": "DescriptionStyleModel",
          "model_module_version": "1.5.0",
          "state": {
            "_model_module": "@jupyter-widgets/controls",
            "_model_module_version": "1.5.0",
            "_model_name": "DescriptionStyleModel",
            "_view_count": null,
            "_view_module": "@jupyter-widgets/base",
            "_view_module_version": "1.2.0",
            "_view_name": "StyleView",
            "description_width": ""
          }
        },
        "9f5251cd65f2441e907f43531ed52db0": {
          "model_module": "@jupyter-widgets/controls",
          "model_name": "HBoxModel",
          "model_module_version": "1.5.0",
          "state": {
            "_dom_classes": [],
            "_model_module": "@jupyter-widgets/controls",
            "_model_module_version": "1.5.0",
            "_model_name": "HBoxModel",
            "_view_count": null,
            "_view_module": "@jupyter-widgets/controls",
            "_view_module_version": "1.5.0",
            "_view_name": "HBoxView",
            "box_style": "",
            "children": [
              "IPY_MODEL_948aaa51fafe4ed79afe67166e074814",
              "IPY_MODEL_3457e5bc53a04ae88950ef15bb40b86a",
              "IPY_MODEL_8b349d1248d649409c6dcb45c65cc812"
            ],
            "layout": "IPY_MODEL_282c1804fc9b4a8f859b5422cea73a87"
          }
        },
        "948aaa51fafe4ed79afe67166e074814": {
          "model_module": "@jupyter-widgets/controls",
          "model_name": "HTMLModel",
          "model_module_version": "1.5.0",
          "state": {
            "_dom_classes": [],
            "_model_module": "@jupyter-widgets/controls",
            "_model_module_version": "1.5.0",
            "_model_name": "HTMLModel",
            "_view_count": null,
            "_view_module": "@jupyter-widgets/controls",
            "_view_module_version": "1.5.0",
            "_view_name": "HTMLView",
            "description": "",
            "description_tooltip": null,
            "layout": "IPY_MODEL_2effd55f43cc4d74ad1f416fd5ec04d6",
            "placeholder": "​",
            "style": "IPY_MODEL_c68995549d59472cbbd7cc0e5975add8",
            "value": ""
          }
        },
        "3457e5bc53a04ae88950ef15bb40b86a": {
          "model_module": "@jupyter-widgets/controls",
          "model_name": "FloatProgressModel",
          "model_module_version": "1.5.0",
          "state": {
            "_dom_classes": [],
            "_model_module": "@jupyter-widgets/controls",
            "_model_module_version": "1.5.0",
            "_model_name": "FloatProgressModel",
            "_view_count": null,
            "_view_module": "@jupyter-widgets/controls",
            "_view_module_version": "1.5.0",
            "_view_name": "ProgressView",
            "bar_style": "success",
            "description": "",
            "description_tooltip": null,
            "layout": "IPY_MODEL_1cdfcfa620cb48fdafbd81d84ada7c71",
            "max": 1,
            "min": 0,
            "orientation": "horizontal",
            "style": "IPY_MODEL_fa2d663a75c248e5ae9371618de46e14",
            "value": 1
          }
        },
        "8b349d1248d649409c6dcb45c65cc812": {
          "model_module": "@jupyter-widgets/controls",
          "model_name": "HTMLModel",
          "model_module_version": "1.5.0",
          "state": {
            "_dom_classes": [],
            "_model_module": "@jupyter-widgets/controls",
            "_model_module_version": "1.5.0",
            "_model_name": "HTMLModel",
            "_view_count": null,
            "_view_module": "@jupyter-widgets/controls",
            "_view_module_version": "1.5.0",
            "_view_name": "HTMLView",
            "description": "",
            "description_tooltip": null,
            "layout": "IPY_MODEL_65844ff0cf9847faa8ae1f491e0b385c",
            "placeholder": "​",
            "style": "IPY_MODEL_b5362ffcf4b543b19f5c4e59158cd079",
            "value": " 25858/? [00:00&lt;00:00, 107218.84it/s]"
          }
        },
        "282c1804fc9b4a8f859b5422cea73a87": {
          "model_module": "@jupyter-widgets/base",
          "model_name": "LayoutModel",
          "model_module_version": "1.2.0",
          "state": {
            "_model_module": "@jupyter-widgets/base",
            "_model_module_version": "1.2.0",
            "_model_name": "LayoutModel",
            "_view_count": null,
            "_view_module": "@jupyter-widgets/base",
            "_view_module_version": "1.2.0",
            "_view_name": "LayoutView",
            "align_content": null,
            "align_items": null,
            "align_self": null,
            "border": null,
            "bottom": null,
            "display": null,
            "flex": null,
            "flex_flow": null,
            "grid_area": null,
            "grid_auto_columns": null,
            "grid_auto_flow": null,
            "grid_auto_rows": null,
            "grid_column": null,
            "grid_gap": null,
            "grid_row": null,
            "grid_template_areas": null,
            "grid_template_columns": null,
            "grid_template_rows": null,
            "height": null,
            "justify_content": null,
            "justify_items": null,
            "left": null,
            "margin": null,
            "max_height": null,
            "max_width": null,
            "min_height": null,
            "min_width": null,
            "object_fit": null,
            "object_position": null,
            "order": null,
            "overflow": null,
            "overflow_x": null,
            "overflow_y": null,
            "padding": null,
            "right": null,
            "top": null,
            "visibility": null,
            "width": null
          }
        },
        "2effd55f43cc4d74ad1f416fd5ec04d6": {
          "model_module": "@jupyter-widgets/base",
          "model_name": "LayoutModel",
          "model_module_version": "1.2.0",
          "state": {
            "_model_module": "@jupyter-widgets/base",
            "_model_module_version": "1.2.0",
            "_model_name": "LayoutModel",
            "_view_count": null,
            "_view_module": "@jupyter-widgets/base",
            "_view_module_version": "1.2.0",
            "_view_name": "LayoutView",
            "align_content": null,
            "align_items": null,
            "align_self": null,
            "border": null,
            "bottom": null,
            "display": null,
            "flex": null,
            "flex_flow": null,
            "grid_area": null,
            "grid_auto_columns": null,
            "grid_auto_flow": null,
            "grid_auto_rows": null,
            "grid_column": null,
            "grid_gap": null,
            "grid_row": null,
            "grid_template_areas": null,
            "grid_template_columns": null,
            "grid_template_rows": null,
            "height": null,
            "justify_content": null,
            "justify_items": null,
            "left": null,
            "margin": null,
            "max_height": null,
            "max_width": null,
            "min_height": null,
            "min_width": null,
            "object_fit": null,
            "object_position": null,
            "order": null,
            "overflow": null,
            "overflow_x": null,
            "overflow_y": null,
            "padding": null,
            "right": null,
            "top": null,
            "visibility": null,
            "width": null
          }
        },
        "c68995549d59472cbbd7cc0e5975add8": {
          "model_module": "@jupyter-widgets/controls",
          "model_name": "DescriptionStyleModel",
          "model_module_version": "1.5.0",
          "state": {
            "_model_module": "@jupyter-widgets/controls",
            "_model_module_version": "1.5.0",
            "_model_name": "DescriptionStyleModel",
            "_view_count": null,
            "_view_module": "@jupyter-widgets/base",
            "_view_module_version": "1.2.0",
            "_view_name": "StyleView",
            "description_width": ""
          }
        },
        "1cdfcfa620cb48fdafbd81d84ada7c71": {
          "model_module": "@jupyter-widgets/base",
          "model_name": "LayoutModel",
          "model_module_version": "1.2.0",
          "state": {
            "_model_module": "@jupyter-widgets/base",
            "_model_module_version": "1.2.0",
            "_model_name": "LayoutModel",
            "_view_count": null,
            "_view_module": "@jupyter-widgets/base",
            "_view_module_version": "1.2.0",
            "_view_name": "LayoutView",
            "align_content": null,
            "align_items": null,
            "align_self": null,
            "border": null,
            "bottom": null,
            "display": null,
            "flex": null,
            "flex_flow": null,
            "grid_area": null,
            "grid_auto_columns": null,
            "grid_auto_flow": null,
            "grid_auto_rows": null,
            "grid_column": null,
            "grid_gap": null,
            "grid_row": null,
            "grid_template_areas": null,
            "grid_template_columns": null,
            "grid_template_rows": null,
            "height": null,
            "justify_content": null,
            "justify_items": null,
            "left": null,
            "margin": null,
            "max_height": null,
            "max_width": null,
            "min_height": null,
            "min_width": null,
            "object_fit": null,
            "object_position": null,
            "order": null,
            "overflow": null,
            "overflow_x": null,
            "overflow_y": null,
            "padding": null,
            "right": null,
            "top": null,
            "visibility": null,
            "width": "20px"
          }
        },
        "fa2d663a75c248e5ae9371618de46e14": {
          "model_module": "@jupyter-widgets/controls",
          "model_name": "ProgressStyleModel",
          "model_module_version": "1.5.0",
          "state": {
            "_model_module": "@jupyter-widgets/controls",
            "_model_module_version": "1.5.0",
            "_model_name": "ProgressStyleModel",
            "_view_count": null,
            "_view_module": "@jupyter-widgets/base",
            "_view_module_version": "1.2.0",
            "_view_name": "StyleView",
            "bar_color": null,
            "description_width": ""
          }
        },
        "65844ff0cf9847faa8ae1f491e0b385c": {
          "model_module": "@jupyter-widgets/base",
          "model_name": "LayoutModel",
          "model_module_version": "1.2.0",
          "state": {
            "_model_module": "@jupyter-widgets/base",
            "_model_module_version": "1.2.0",
            "_model_name": "LayoutModel",
            "_view_count": null,
            "_view_module": "@jupyter-widgets/base",
            "_view_module_version": "1.2.0",
            "_view_name": "LayoutView",
            "align_content": null,
            "align_items": null,
            "align_self": null,
            "border": null,
            "bottom": null,
            "display": null,
            "flex": null,
            "flex_flow": null,
            "grid_area": null,
            "grid_auto_columns": null,
            "grid_auto_flow": null,
            "grid_auto_rows": null,
            "grid_column": null,
            "grid_gap": null,
            "grid_row": null,
            "grid_template_areas": null,
            "grid_template_columns": null,
            "grid_template_rows": null,
            "height": null,
            "justify_content": null,
            "justify_items": null,
            "left": null,
            "margin": null,
            "max_height": null,
            "max_width": null,
            "min_height": null,
            "min_width": null,
            "object_fit": null,
            "object_position": null,
            "order": null,
            "overflow": null,
            "overflow_x": null,
            "overflow_y": null,
            "padding": null,
            "right": null,
            "top": null,
            "visibility": null,
            "width": null
          }
        },
        "b5362ffcf4b543b19f5c4e59158cd079": {
          "model_module": "@jupyter-widgets/controls",
          "model_name": "DescriptionStyleModel",
          "model_module_version": "1.5.0",
          "state": {
            "_model_module": "@jupyter-widgets/controls",
            "_model_module_version": "1.5.0",
            "_model_name": "DescriptionStyleModel",
            "_view_count": null,
            "_view_module": "@jupyter-widgets/base",
            "_view_module_version": "1.2.0",
            "_view_name": "StyleView",
            "description_width": ""
          }
        }
      }
    }
  },
  "cells": [
    {
      "cell_type": "markdown",
      "metadata": {
        "id": "view-in-github",
        "colab_type": "text"
      },
      "source": [
        "<a href=\"https://colab.research.google.com/github/Uskmbv/HWPanda_Uskembayeva/blob/main/04_LM_PP_Attachment_classification_AltynUskembayeva.ipynb\" target=\"_parent\"><img src=\"https://colab.research.google.com/assets/colab-badge.svg\" alt=\"Open In Colab\"/></a>"
      ]
    },
    {
      "cell_type": "markdown",
      "metadata": {
        "id": "w-EolZK1El9L"
      },
      "source": [
        "# PP Attachment"
      ]
    },
    {
      "cell_type": "markdown",
      "source": [
        "The Preposition Phrase attachment problem is the difficulty to decide if a preposition in a sentence is attached to a verb or a noun.\n",
        "\n",
        "In some cases it may even confuse the reader. For example, the sentence:\n",
        "\n",
        "> San Jose cops kill man with a knife\n",
        "\n",
        "can be interpreted as either the man or the cops had a knife. The difference in the syntax parsing would be attaching the preposition phrase either to the Verb Phrase (\"kill with knife\")\n",
        "\n",
        "![image.png](data:image/png;base64,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)\n",
        "\n",
        "or to the Noun Phrase (\"man with knife\").\n",
        "\n",
        "![image.png](data:image/png;base64,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)"
      ],
      "metadata": {
        "id": "ndm17vHr9oR2"
      }
    },
    {
      "cell_type": "markdown",
      "source": [
        "\n",
        "Let's try out the Preposition Phrase attachment classification!\n",
        "\n",
        "Through this exercise, you'll practice classification of linguistic aspects of text."
      ],
      "metadata": {
        "id": "gddvmPua9ncH"
      }
    },
    {
      "cell_type": "markdown",
      "metadata": {
        "id": "ZEHsHqnBEnM0"
      },
      "source": [
        "# Setup\n",
        "Loading the data"
      ]
    },
    {
      "cell_type": "code",
      "metadata": {
        "id": "IQeJMBC9EjQj"
      },
      "source": [
        "import csv\n",
        "\n",
        "from tqdm.notebook import tqdm\n",
        "from typing import Dict, List, Tuple\n",
        "from random import choice\n",
        "from urllib.request import urlopen\n"
      ],
      "execution_count": 5,
      "outputs": []
    },
    {
      "cell_type": "code",
      "metadata": {
        "id": "f5y8hLSTDcmT"
      },
      "source": [
        "def read_pp_examples(file_url: str) -> List[Dict]:\n",
        "  \"\"\"Reads the pp samples from a remtoe url and loads them into a dictionary\n",
        "\n",
        "  Args:\n",
        "      file_url (str): a url to load the dataset from\n",
        "\n",
        "  Returns:\n",
        "      Dict: a dictionary with two keys: answer and pp\n",
        "  \"\"\"\n",
        "  pp_examples = []\n",
        "\n",
        "  for line in tqdm(urlopen(file_url)):\n",
        "    line = line.decode(\"utf-8\").strip().split()\n",
        "    assert(len(line) == 5)\n",
        "    v,n1,p,n2,answer = line\n",
        "    pp_examples.append( {'answer':answer,'keywords':(v,n1,p,n2)} )\n",
        "  return pp_examples"
      ],
      "execution_count": 6,
      "outputs": []
    },
    {
      "cell_type": "code",
      "metadata": {
        "id": "_kc6IkpCDphJ"
      },
      "source": [
        "pp_samples_url = 'https://raw.githubusercontent.com/liadmagen/NLP-Course/master/dataset/pp_examples.txt'"
      ],
      "execution_count": 7,
      "outputs": []
    },
    {
      "cell_type": "code",
      "metadata": {
        "id": "4i0rtj1RFkug",
        "outputId": "3bccaa76-4d16-4a33-e789-6989bc023aca",
        "colab": {
          "base_uri": "https://localhost:8080/",
          "referenced_widgets": [
            "2defcc9a75714afebab21d4a662fdfc3",
            "05b300a86eaf4986b2847ed1ec3dd590",
            "59077d33848d4af89dec6672324073c3",
            "0d912da05bf24630921b46169b2e1c7c",
            "90213ab1b6c94932b7a169f0580defa8",
            "0f70bada0ab7414fbcb4961ec54c68de",
            "7548984c32f242f6b75a1de3063f721f",
            "3dd70a9a6ef54ed6afbf2eb236a243b5",
            "5d211c2cda094750ad7a0550215f697c",
            "8ed162cbf6514367a495447e68284a17",
            "fcbcdaf4f23447169baefe400f564ec1"
          ],
          "height": 49
        }
      },
      "source": [
        "pp_examples = read_pp_examples(pp_samples_url)\n"
      ],
      "execution_count": 8,
      "outputs": [
        {
          "output_type": "display_data",
          "data": {
            "text/plain": [
              "0it [00:00, ?it/s]"
            ],
            "application/vnd.jupyter.widget-view+json": {
              "version_major": 2,
              "version_minor": 0,
              "model_id": "2defcc9a75714afebab21d4a662fdfc3"
            }
          },
          "metadata": {}
        }
      ]
    },
    {
      "cell_type": "markdown",
      "metadata": {
        "id": "MRYNWqK-Gu3F"
      },
      "source": [
        "# Step #1 - Look at the data\n",
        "\n",
        "Step 1 is (always) to examine the data!\n",
        "\n",
        "That means to check the data statistics, load some sample at random and ensure it is correctly labeled, and if possible, plot and visualize the data (histograms, distribution, etc.)."
      ]
    },
    {
      "cell_type": "code",
      "metadata": {
        "id": "a59ypmWhGlIZ",
        "outputId": "45c067e1-b22c-4521-bc2d-71744727aeed",
        "colab": {
          "base_uri": "https://localhost:8080/"
        }
      },
      "source": [
        "print(f\"There are {len(pp_examples)} samples in the dataset\")"
      ],
      "execution_count": 9,
      "outputs": [
        {
          "output_type": "stream",
          "name": "stdout",
          "text": [
            "There are 25858 samples in the dataset\n"
          ]
        }
      ]
    },
    {
      "cell_type": "code",
      "metadata": {
        "id": "_W9FOJmkG1HF",
        "outputId": "5240d7a8-da0b-4a5f-9974-57e0d1d7459b",
        "colab": {
          "base_uri": "https://localhost:8080/"
        }
      },
      "source": [
        "print(choice(pp_examples))"
      ],
      "execution_count": 10,
      "outputs": [
        {
          "output_type": "stream",
          "name": "stdout",
          "text": [
            "{'answer': 'N', 'keywords': ('been', 'president', 'for', 'advertising')}\n"
          ]
        }
      ]
    },
    {
      "cell_type": "markdown",
      "source": [
        "Of course, we can reach the dictionary's parts by specifying the key in a squared brackets."
      ],
      "metadata": {
        "id": "avutga3uvG29"
      }
    },
    {
      "cell_type": "code",
      "metadata": {
        "id": "iLCTVAyAG4Cm",
        "outputId": "8af70163-09b9-460c-cb02-3f2d00cfaba0",
        "colab": {
          "base_uri": "https://localhost:8080/"
        }
      },
      "source": [
        "random_example = choice(pp_examples)\n",
        "random_example['keywords']"
      ],
      "execution_count": 11,
      "outputs": [
        {
          "output_type": "execute_result",
          "data": {
            "text/plain": [
              "('want', 'experience', 'in', 'field')"
            ]
          },
          "metadata": {},
          "execution_count": 11
        }
      ]
    },
    {
      "cell_type": "code",
      "metadata": {
        "id": "W4tkr91VHHC0",
        "outputId": "bb7edfc5-51a8-42ef-a6a2-44defba037ac",
        "colab": {
          "base_uri": "https://localhost:8080/",
          "height": 35
        }
      },
      "source": [
        "random_example['answer']"
      ],
      "execution_count": 12,
      "outputs": [
        {
          "output_type": "execute_result",
          "data": {
            "text/plain": [
              "'N'"
            ],
            "application/vnd.google.colaboratory.intrinsic+json": {
              "type": "string"
            }
          },
          "metadata": {},
          "execution_count": 12
        }
      ]
    },
    {
      "cell_type": "markdown",
      "metadata": {
        "id": "vyls_Vs7MxYj"
      },
      "source": [
        "# Step 2: Deciding on the measurement"
      ]
    },
    {
      "cell_type": "code",
      "metadata": {
        "id": "r1Av7fCNHN2K",
        "outputId": "97ee36fd-8833-4be8-cc81-86a49c94c62f",
        "colab": {
          "base_uri": "https://localhost:8080/"
        }
      },
      "source": [
        "# we can split the dataset simply through dividing the list\n",
        "\n",
        "amt = int(0.75 * len(pp_examples))\n",
        "train_examples, test_examples = pp_examples[:amt], pp_examples[amt:]\n",
        "\n",
        "print(len(train_examples), len(test_examples))"
      ],
      "execution_count": 13,
      "outputs": [
        {
          "output_type": "stream",
          "name": "stdout",
          "text": [
            "19393 6465\n"
          ]
        }
      ]
    },
    {
      "cell_type": "markdown",
      "metadata": {
        "id": "ds9ZfBzmNXjN"
      },
      "source": [
        "We'll define a classifier evaluator.\n",
        "\n",
        "Given a set of examples and an evaluator, it returns the accuracy score"
      ]
    },
    {
      "cell_type": "code",
      "metadata": {
        "id": "r-uR21gwNGo1"
      },
      "source": [
        "def evaluate_classifier(examples, pp_resolver):\n",
        "  \"\"\"evaluate the classifier and returns the accuracy score.\n",
        "\n",
        "  Args:\n",
        "      examples (List): a list of {'keywords':(v,n1,p,n2), 'answer':answer }\n",
        "      pp_resolver (_type_): a model with a classify() function that maps from\n",
        "        (v,n1,p,n2) to 'N' / 'V'\n",
        "\n",
        "  Returns:\n",
        "      float: The accurcy score of the classifier\n",
        "  \"\"\"\n",
        "  correct = 0.0\n",
        "  incorrect = 0.0\n",
        "  for example in examples:\n",
        "      answer = pp_resolver.classify(example['keywords'])\n",
        "      if answer == example['answer']:\n",
        "          correct += 1\n",
        "      else:\n",
        "          incorrect += 1\n",
        "  return correct / (correct + incorrect)\n"
      ],
      "execution_count": 15,
      "outputs": []
    },
    {
      "cell_type": "markdown",
      "metadata": {
        "id": "w8v47ip3OkRi"
      },
      "source": [
        "# Classifiers"
      ]
    },
    {
      "cell_type": "markdown",
      "metadata": {
        "id": "dUdapHv7NzVD"
      },
      "source": [
        "Let's test it on an extremely naive classifiers:"
      ]
    },
    {
      "cell_type": "code",
      "metadata": {
        "id": "z9gXjgytNJLN"
      },
      "source": [
        "class AlwaysSayN:\n",
        "    \"\"\"\n",
        "    This naive clasifier answers always with 'Noun'\n",
        "    \"\"\"\n",
        "    def __init__(self): pass\n",
        "    def classify(self, pp):\n",
        "        return 'N'\n"
      ],
      "execution_count": 16,
      "outputs": []
    },
    {
      "cell_type": "code",
      "metadata": {
        "id": "h7DkSKB1NScS"
      },
      "source": [
        "class AlwaysSayV:\n",
        "    \"\"\"\n",
        "    This naive clasifier answers always with 'Verb'\n",
        "    \"\"\"\n",
        "    def __init__(self): pass\n",
        "    def classify(self, pp):\n",
        "        return 'V'\n"
      ],
      "execution_count": 17,
      "outputs": []
    },
    {
      "cell_type": "code",
      "source": [
        "evaluate_classifier(test_examples, AlwaysSayV())"
      ],
      "metadata": {
        "colab": {
          "base_uri": "https://localhost:8080/"
        },
        "id": "Qk8WtRXdtr1D",
        "outputId": "d567bd5e-006d-4133-e39c-087db6158635"
      },
      "execution_count": 18,
      "outputs": [
        {
          "output_type": "execute_result",
          "data": {
            "text/plain": [
              "0.4634184068058778"
            ]
          },
          "metadata": {},
          "execution_count": 18
        }
      ]
    },
    {
      "cell_type": "code",
      "metadata": {
        "id": "Y61B9XkjNT2u",
        "outputId": "669124ff-e37e-47f0-d01c-f5643ddd14c9",
        "colab": {
          "base_uri": "https://localhost:8080/"
        }
      },
      "source": [
        "evaluate_classifier(test_examples, AlwaysSayN())"
      ],
      "execution_count": 19,
      "outputs": [
        {
          "output_type": "execute_result",
          "data": {
            "text/plain": [
              "0.5365815931941222"
            ]
          },
          "metadata": {},
          "execution_count": 19
        }
      ]
    },
    {
      "cell_type": "markdown",
      "metadata": {
        "id": "3xHV9Q9WOOFC"
      },
      "source": [
        "We can see that saying always 'Noun', leads to an accuracy result of 53%.\n",
        "\n",
        "---\n",
        "\n",
        "\n",
        "\n",
        "It also means that our dataset is quite balaneced ;)\n",
        "\n",
        "We could, instead, have tested which class has the majority and simply select it:"
      ]
    },
    {
      "cell_type": "code",
      "metadata": {
        "id": "eozkgMzfOCWD"
      },
      "source": [
        "class MajorityClassResolver:\n",
        "  def __init__(self, training_examples: List):\n",
        "    \"\"\"Initializes the class, testing which class is the majority and saves it as a property.\n",
        "\n",
        "    Args:\n",
        "        training_examples (List): A list of dictionary training examples.\n",
        "    \"\"\"\n",
        "    answers = [item['answer'] for item in training_examples]\n",
        "    num_n = len([a for a in answers if a == 'N'])\n",
        "    num_v = len([a for a in answers if a == 'V'])\n",
        "    if num_v > num_n:\n",
        "        self.answer = 'V'\n",
        "    else:\n",
        "        self.answer = 'N'\n",
        "\n",
        "  def classify(self, pp: Tuple) -> str:\n",
        "    \"\"\"classify a 4 keywords tuple as N or V attachment, based on the previously calculated majority class\n",
        "\n",
        "    Args:\n",
        "        pp (Tuple): a tuple of V, N1, PP, N2 to be classified\n",
        "\n",
        "    Returns:\n",
        "        str: the prediction - N or V\n",
        "    \"\"\"\n",
        "    return self.answer\n"
      ],
      "execution_count": 28,
      "outputs": []
    },
    {
      "cell_type": "code",
      "metadata": {
        "id": "SGM5CODLODIv",
        "outputId": "88e3c5aa-be75-42c6-8706-43275633ea02",
        "colab": {
          "base_uri": "https://localhost:8080/"
        }
      },
      "source": [
        "evaluate_classifier(test_examples, MajorityClassResolver(train_examples))"
      ],
      "execution_count": 29,
      "outputs": [
        {
          "output_type": "execute_result",
          "data": {
            "text/plain": [
              "0.5365815931941222"
            ]
          },
          "metadata": {},
          "execution_count": 29
        }
      ]
    },
    {
      "cell_type": "markdown",
      "source": [
        "Or make it a bit more sophisticated by peeking at the training examples:"
      ],
      "metadata": {
        "id": "1fQDTH8YuX9t"
      }
    },
    {
      "cell_type": "code",
      "metadata": {
        "id": "EVTth8ybNUkQ"
      },
      "source": [
        "class LookupResolver:\n",
        "  def __init__(self, training_examples: List):\n",
        "    \"\"\"Initializes the class, load all the training dataset into the memory and during prediction, return the answer if the keywords match a previously saved one.\n",
        "\n",
        "    Args:\n",
        "        training_examples (List): _description_\n",
        "    \"\"\"\n",
        "    self.answers = {}\n",
        "    for item in training_examples:\n",
        "        self.answers[item['keywords']] = item['answer']\n",
        "    self.backoff = MajorityClassResolver(training_examples)\n",
        "\n",
        "  def classify(self, pp: Tuple) -> str:\n",
        "    \"\"\"Classify a 4 keywords tuple as N or V attachment.\n",
        "     If the tuple was found in the previously stored answers, return it.\n",
        "     Otherwise, return the majority class.\n",
        "\n",
        "    Args:\n",
        "        pp (Tuple): a tuple of V, N1, PP, N2 to be classified\n",
        "\n",
        "    Returns:\n",
        "        str: the prediction - N or V\n",
        "    \"\"\"\n",
        "    if pp in self.answers:\n",
        "        return self.answers[pp]\n",
        "    else:\n",
        "        return self.backoff.classify(pp)"
      ],
      "execution_count": 30,
      "outputs": []
    },
    {
      "cell_type": "code",
      "source": [
        "# If you want to understand what is stored in the `answers` property, uncomment and run the following line:\n",
        "# lookupResolver(train_examples).answers"
      ],
      "metadata": {
        "id": "N_BBE-dM2-k4"
      },
      "execution_count": 32,
      "outputs": []
    },
    {
      "cell_type": "code",
      "metadata": {
        "id": "gqi-FzCAN71L",
        "outputId": "cd6743d6-a0ec-44a1-e696-278610da36c7",
        "colab": {
          "base_uri": "https://localhost:8080/"
        }
      },
      "source": [
        "evaluate_classifier(test_examples, LookupResolver(train_examples))"
      ],
      "execution_count": 33,
      "outputs": [
        {
          "output_type": "execute_result",
          "data": {
            "text/plain": [
              "0.6009280742459396"
            ]
          },
          "metadata": {},
          "execution_count": 33
        }
      ]
    },
    {
      "cell_type": "markdown",
      "metadata": {
        "id": "Rm2DFH7YPN_Z"
      },
      "source": [
        "# Exercise - Your Turn:"
      ]
    },
    {
      "cell_type": "markdown",
      "metadata": {
        "id": "BFRReTKOHTN8"
      },
      "source": [
        "Implement a discriminative PP-attachment model, using a classifier of your choice (i.e. - Naive Bayes Classifier https://web.stanford.edu/~jurafsky/slp3/4.pdf, [Support Vector Machine](https://scikit-learn.org/stable/modules/generated/sklearn.svm.SVC.html#sklearn.svm.SVC), etc.) from a toolkit such as [sklearn](https://scikit-learn.org/stable/modules/generated/sklearn.naive_bayes.GaussianNB.html#sklearn.naive_bayes.GaussianNB).\n",
        "\n",
        "Please take a good look at the data beforehand. Try to answer questions such as:\n",
        "- What is the frequency of the propesitions?\n",
        "- Which prepositions are a clear indicator to be almost only V or N? Or in other words, which pair frequency of preposition and the answer is above 90?\n",
        "- Which prepositionas are relatively \"confusing\"? e.g., their frequency is almost equal for V and N.\n",
        "- Which words are frequent as verbs? as first noun? as second noun?\n",
        "\n",
        "Regarding the model itself, try to think which features may be helpful.\n",
        "\n",
        "Possible features for back-off algorithm or ML one:\n",
        "\n",
        "Single items ​\n",
        "* Identity of v ​\n",
        "* Identity of p ​\n",
        "* Identity of n1 ​\n",
        "* Identity of n2 ​\n",
        "\n",
        "Pairs:​\n",
        "* dentity of (v, p) ​\n",
        "* Identity of (n1, p) ​\n",
        "* Identity of (p, n1)​\n",
        "\n",
        "Triplets:​\n",
        "* Identity of (v, n1, p)​\n",
        "* Identity of (v, p, n2) ​\n",
        "* Identity of (n1, p, n2) ​\n",
        "\n",
        "Quadruple:​\n",
        "* Identity of (v, n1, p, n2)​\n",
        "\n",
        "\n",
        "Corpus Level:​\n",
        "\n",
        "* Have we seen the (v, p) pair in a 5-word window in a big corpus?​\n",
        "* Have we seen the (n1, p) pair in a 5-word window in a big corpus? ​\n",
        "* Have we seen the (n1, p, n2) triplet in a 5-word window in a big corpus?​\n",
        "*  Also: we can use counts, or binned counts.​\n",
        "* You can use a bigger corpus for additional training purposes as well.\n",
        "\n",
        "If we had the original sentnces, we could have used a distance feature, such as:​\n",
        "* Distance (in words) between v and p ​\n",
        "* Distance (in words) between n1 and p​\n",
        "\n",
        "However, you can try implementing the average distance (in words) from a larger corpus.\n",
        "\n",
        "Additionally, think which other methods we learned that could help. Looking at the data might give you some ideas.\n"
      ]
    },
    {
      "cell_type": "markdown",
      "source": [
        "For the corpus level features, you can simply load one of the english corpuses in NLTK (such as [brown - but don't forget to download it first](https://www.nltk.org/book/ch02.html)). If you use a tagged corpus - such that the words are tagged by their parts of speech, you can create more interesting linguistic-related features.\n",
        "\n",
        "You can also consider using [WordNet](https://wordnet.princeton.edu/), a large *lexical* database of English words, which is also [implemented in NLTK](https://www.nltk.org/howto/wordnet.html).\n",
        "\n",
        "Finally, if you need inspiration and ideas, here are some selected papers:\n",
        "- [An Analysis of Prepositional-Phrase Attachment Disambiguation](http://ejournals.asia/stj1/ijclr2.pdf) - an overview of different papers dealing with this problem using different methods (kNN, SVN, etc.).\n",
        "- [The spy saw a cop with a telescope: Who has the telescope?](https://www.semanticscholar.org/paper/The-spy-saw-a-cop-with-a-telescope%3A-Who-has-the-Yan-Nguyen/3220ad0619b72404cb9b1acb9e093a8a564f0f4e) - An linguistic analysis of the potentials reasons (and features) to disambiguify pp attachment.\n",
        "- [PREPOSITIONAL PHRASE ATTACHMENT AMBIGUITY RESOLUTION USING SEMANTIC HIERARCHIES](https://eprints.mdx.ac.uk/2471/1/ppattachhier.pdf)\n",
        "- [Corpus Based PP Attachment Ambiguity Resolution with a Semantic Dictionary](https://aclanthology.org/W97-0109.pdf)"
      ],
      "metadata": {
        "id": "4mZAGEBA7K1I"
      }
    },
    {
      "cell_type": "code",
      "source": [
        "import csv\n",
        "from tqdm.notebook import tqdm\n",
        "from typing import Dict, List, Tuple\n",
        "from random import choice\n",
        "from urllib.request import urlopen\n",
        "from sklearn.naive_bayes import MultinomialNB\n",
        "from sklearn.feature_extraction import DictVectorizer\n",
        "from nltk import download, word_tokenize\n",
        "from nltk.corpus import brown\n",
        "\n",
        "download('brown')\n",
        "download('punkt')\n",
        "\n",
        "\n"
      ],
      "metadata": {
        "colab": {
          "base_uri": "https://localhost:8080/"
        },
        "id": "dzMK0KO5Fp2Z",
        "outputId": "5421383c-6759-4371-81fd-dac64ae7e6a6"
      },
      "execution_count": 36,
      "outputs": [
        {
          "output_type": "stream",
          "name": "stderr",
          "text": [
            "[nltk_data] Downloading package brown to /root/nltk_data...\n",
            "[nltk_data]   Package brown is already up-to-date!\n",
            "[nltk_data] Downloading package punkt to /root/nltk_data...\n",
            "[nltk_data]   Package punkt is already up-to-date!\n"
          ]
        },
        {
          "output_type": "execute_result",
          "data": {
            "text/plain": [
              "True"
            ]
          },
          "metadata": {},
          "execution_count": 36
        }
      ]
    },
    {
      "cell_type": "code",
      "source": [
        "# step 1 loading data\n",
        "\n",
        "def read_pp_examples(file_url: str) -> List[Dict]:\n",
        "    pp_examples = []\n",
        "    for line in tqdm(urlopen(file_url)):\n",
        "        line = line.decode(\"utf-8\").strip().split()\n",
        "        assert(len(line) == 5)\n",
        "        v, n1, p, n2, answer = line\n",
        "        pp_examples.append({'answer': answer, 'keywords': (v, n1, p, n2)})\n",
        "    return pp_examples\n",
        "\n",
        "pp_samples_url = 'https://raw.githubusercontent.com/liadmagen/NLP-Course/master/dataset/pp_examples.txt'\n",
        "pp_examples = read_pp_examples(pp_samples_url)"
      ],
      "metadata": {
        "colab": {
          "base_uri": "https://localhost:8080/",
          "height": 49,
          "referenced_widgets": [
            "9f5251cd65f2441e907f43531ed52db0",
            "948aaa51fafe4ed79afe67166e074814",
            "3457e5bc53a04ae88950ef15bb40b86a",
            "8b349d1248d649409c6dcb45c65cc812",
            "282c1804fc9b4a8f859b5422cea73a87",
            "2effd55f43cc4d74ad1f416fd5ec04d6",
            "c68995549d59472cbbd7cc0e5975add8",
            "1cdfcfa620cb48fdafbd81d84ada7c71",
            "fa2d663a75c248e5ae9371618de46e14",
            "65844ff0cf9847faa8ae1f491e0b385c",
            "b5362ffcf4b543b19f5c4e59158cd079"
          ]
        },
        "id": "qoKshz_PGHHN",
        "outputId": "a74a1089-20a1-488b-86db-e9ff9987807c"
      },
      "execution_count": 44,
      "outputs": [
        {
          "output_type": "display_data",
          "data": {
            "text/plain": [
              "0it [00:00, ?it/s]"
            ],
            "application/vnd.jupyter.widget-view+json": {
              "version_major": 2,
              "version_minor": 0,
              "model_id": "9f5251cd65f2441e907f43531ed52db0"
            }
          },
          "metadata": {}
        }
      ]
    },
    {
      "cell_type": "code",
      "source": [
        "# step 2: exploring data\n",
        "prepositions = [example['keywords'][2] for example in pp_examples]\n",
        "preposition_counts = {preposition: prepositions.count(preposition) for preposition in set(prepositions)}\n",
        "print(\"Preposition Frequencies:\", preposition_counts)\n"
      ],
      "metadata": {
        "colab": {
          "base_uri": "https://localhost:8080/"
        },
        "id": "fyDPhaRBGHj9",
        "outputId": "ae8a990b-389d-496f-d7c7-4b05be4406eb"
      },
      "execution_count": 45,
      "outputs": [
        {
          "output_type": "stream",
          "name": "stdout",
          "text": [
            "Preposition Frequencies: {'Till': 1, 'of': 6727, 'toward': 38, 'behind': 19, 'by': 560, 'across': 23, 'above': 27, 'unto': 1, 'Around': 1, 'besides': 1, 'off': 28, 'below': 16, 'per': 16, 'like': 46, 'onto': 5, 'after': 153, 'near': 6, 'past': 4, 'beyond': 13, 'up': 3, 'out': 4, 'WITH': 1, 'amid': 26, 'as': 660, 'pending': 1, 'during': 135, 'upon': 11, 'through': 170, 'until': 51, 'From': 1, 'against': 193, 'throughout': 18, 'down': 3, 'around': 31, 'On': 1, 'from': 1649, 'amongst': 1, 'alongside': 2, 'unlike': 2, 'via': 10, 'for': 2763, 'vs.': 1, 'over': 214, 'inside': 7, 'about': 242, 'despite': 32, 'without': 67, 'than': 108, 'beside': 1, 'among': 93, 'on': 1603, 'versus': 1, 'between': 143, 'In': 2, 'in': 4428, 'under': 124, 'into': 292, 'before': 82, 'beneath': 4, 'next': 2, 'along': 11, 'since': 100, 'with': 1106, 'within': 61, 'aboard': 1, 'except': 5, 'towards': 2, 'to': 2754, 'at': 941, 'outside': 8, 'For': 2}\n"
          ]
        }
      ]
    },
    {
      "cell_type": "code",
      "source": [
        "# step 3 exploring word frequencies\n",
        "verbs = [example['keywords'][0] for example in pp_examples]\n",
        "nouns1 = [example['keywords'][1] for example in pp_examples]\n",
        "nouns2 = [example['keywords'][3] for example in pp_examples]\n",
        "\n",
        "print(\"Top Verbs:\", set(verbs))\n",
        "print(\"Top Nouns1:\", set(nouns1))\n",
        "print(\"Top Nouns2:\", set(nouns2))"
      ],
      "metadata": {
        "colab": {
          "base_uri": "https://localhost:8080/"
        },
        "id": "IpwpY7S4GQ28",
        "outputId": "dc495526-9ca0-467e-9fa9-d75ef1cb28a8"
      },
      "execution_count": 46,
      "outputs": [
        {
          "output_type": "stream",
          "name": "stdout",
          "text": [
            "Top Verbs: {'selects', 'involves', 'demand', 'divide', 'announce', 'postponed', 'resisted', 'radioing', 'reporting', 'blasting', 'dispute', 'boost', 'take', 'pulls', 'induce', 'haul', 'remanded', 'amortize', 'reckoning', 'waive', 'map', 'involve', 'propelled', 'signaled', 'scanning', 'misrepresented', 'ending', 'opposing', 'wrestle', 'questioning', 'commencing', 'assigned', 'pits', 'contributed', 'socialize', 'handles', 'expresses', 'speaking', 'slashing', 'cited', 'eliminating', 'eked', 'exposed', 'forging', 'considering', 'Sharing', 'heating', 'rescheduled', 'emboldened', 'land', 'release', 'originating', 'elected', 'phoned', 'pick', 'kicks', 'totaled', 'orchestrating', 'concerns', 'reshape', 'refused', 'swear', 'comparing', 'spared', 'stem', 'attracts', 'hampered', 'start', 'generated', 'shrouded', 'needed', 'scuttled', 'dabs', 'reaching', 'delivered', 'close', 'risk', 'slipping', 'firmed', 'quoting', 'looking', 're-establishing', 'emphasizes', 'outweigh', 'reclaims', 'manipulating', 'lock', 'computerize', 'doubling', 'regulates', 'picture', 'participated', 'shouldering', 'modified', 'following', 'chase', 'distilling', 'redevelop', 'precluded', 'play', 'indicates', 'wrestles', 'brew', 'holed', 'rest', 'reminds', 'including', 'ask', 'Explains', 'reassessing', 'controlling', 'routing', 'cleaning', 'filled', 'Keeping', 'stand', 'reinforced', 'ignore', 'playing', 'Place', 'assign', 'fueled', 'investigated', 'starts', 'stabbing', 'proven', 'borrowed', 'meting', 'reclaim', 'deactivates', 'defend', 'considered', 'eke', 'leaped', 'proclaimed', 'funneled', 'flash', 'boosted', 'portray', 'becomes', 'replaces', 'faking', 'stating', 'sweeps', 'code', 'postpone', 'note', 'borrowing', 'washed', 'breed', 'refuted', 'furthering', 'ensures', 'skipped', 'attributing', 'combines', 'covered', 'owes', 'Put', 'easing', 'miscalculated', 'filmed', 'edged', 'purchased', 'consult', 'transfers', 'begins', 'unloading', 'went', 'vacated', 'readied', 'performs', 'round', 'vault', 'construct', 'accomodate', 'sacrifice', 'indicted', 'shares', 'shown', 'trades', 'Stroking', 'returned', 'regulated', 'open', 'put', 'Produce', 'spreads', 'assert', 'monitored', 'fulfilling', 'imposed', 'probe', 'exonerating', 'sublet', 'blurred', 'grace', 'stated', 'panic', 'underline', 'stomach', 'settle', 'explore', 'cloud', 'lost', 'reading', 'ferret', 'slowing', 'signal', 'featured', 'pillorying', 'announces', 'emphaticize', 'invites', 'replaced', 'safeguard', 'pose', 'revise', 'Born', 'climbed', 'co-founded', 'airing', 'knew', 'holding', 'interrupt', 'describing', 'landed', 'Backs', 'funding', 'measure', 'authorize', 'evaluate', 'acquiring', 'dismissing', 'increasing', 'chanted', 'tipped', 'owning', 'starting', 'accused', 'transmitted', 'convicted', 'strengthens', 'burdened', 'fended', 'wreak', 'reinvented', 'demonstrates', 'rethinking', 'field', 'jump', 'unnerved', 'relaxed', 'depriving', 'shortening', 'arranged', 'breathed', 'continues', 'quashed', 'embark', 'pointed', 'captioned', 'yanking', 'predicting', 'announced', 'dump', 'head', 'detecting', 'occupy', 'hurt', 'rerouting', 'had', 'shriveled', 'accompany', 'improves', 'saluted', 'address', 'complicates', 'enhance', 'breaking', 'coordinate', 'earmarking', 'dipped', 'contain', 'reselling', 'sabotage', 'obtained', 'opens', 'completing', 'overstating', 'Call', 'stabbed', 'clears', 'thumbs', 'run', 'influenced', 'admits', 'stunned', 'selling', 'transform', 'poured', 'exaggerate', 'writing', 'exempt', 'Pending', 'join', 'compound', 'offers', 'halved', 'polish', 'rub', 'saves', 'Give', 'extricate', 'omits', 'extended', 'captured', 'viewed', 'values', 'toned', 'inform', 'obstructing', 'weakening', 'swapping', 'guarantee', 'ferrying', 'reapportion', 'shifts', 'saying', 'operate', 'formed', 'wreaked', 'fears', 'asking', 'affecting', 'known', 'meet', 'smoked', 'adding', 'update', 'written', 'triggered', 'step', 'taped', 'Explaining', 'assumed', 'reopened', 'auctioned', 'broadens', 'ratifying', 'presage', 'schedule', 'withhold', 'raided', 'proved', 'mentions', 'observe', 'reaffirmed', 'know', 'manages', 'restructuring', 'clocks', 'paved', 'divvying', 'pressure', 'Meet', 'slumped', 'overstate', 'market', 'fouled', 'loaded', 'built', 'rival', 'finished', 'repatriate', 'substituted', 'regenerate', 'files', 'manufactures', 'took', 'capping', 'deferring', 'trails', 'killed', 'smoothed', 'governed', 'busted', 'reinstate', 'redeeming', 'steal', 'revived', 'entombed', 'running', 'earning', 'diverting', 'bested', 'exercise', 'dived', 'picked', 'received', 'falling', 'wanted', 'tout', 'deliver', 'unleashes', 'proposes', 'retained', 'MAKE', 'billing', 'wear', 'requisitioned', 'Change', 'arrange', 'letting', 'handled', 'reap', 'bequeathed', 'disclosed', 'respond', 'falls', 'raising', 'voted', 'stimulating', 'hiring', 'publishes', 'inched', 'reciting', 'consolidate', 'confirmed', 'warn', 'exempting', 'curbing', 'rebuilding', 'builds', 'Alter', 'level', 'lift', 'demanded', 'began', 'praises', 'reshaping', 'shielded', 'throwing', 'committed', 'occasion', 'IS', 'nominate', 'estimated', 'stir', 'forecasts', 'previewing', 'invests', 'exchanged', 'funded', 'witnessed', 'Downgraded', 'exporting', 'quotes', 'elevates', 'lists', 'bombarded', 'forecasting', 'pledging', 'lent', 'pulled', 'featuring', 'bringing', 'floated', 'invited', 'installing', 'shuttered', 'plunking', 'grabbed', 'celebrates', 'updating', 'interviewed', 'Have', 'Get', 'decreasing', 'exacerbating', 'enduring', 'WON', 'creates', 'galvanizing', 'eliminate', 'executes', 'generate', 'frying', 'stimulate', 'violates', 'refocus', 'dispel', 'remembered', 'quadruples', 'torpedo', 'echoed', 'succeeding', 'enjoys', 'sustained', 'accompanied', 'alleviating', 'unleash', 'stacking', 'spraying', 'told', 'analyzed', 'championed', 'presented', 'processes', 'suggests', 'weds', 'Added', 'bury', 'outweighed', 'fire', 'suppress', 'rebut', 'stricken', 'hosts', 'cropped', 'used', 'whips', 'sailing', 'carried', 'select', 'hammering', 'lower', 'notch', 'speed', 'slow', 'accumulate', 'Stick', 'explores', 'signing', 'presages', 'forge', 'BECOME', 'strip', 'proclaims', 'authorized', 'continue', 'remember', 'spawned', 'developing', 'increased', 'crafted', 'led', 'writes', 'attacking', 'accepting', 'suffer', 'induces', 'compensate', 'pictures', 'curtailing', 'stepping', 'attributed', 'spell', 'bear', 'resuscitate', 'rearranges', 'lifting', 'battling', 'counseled', 'learning', 'blocking', 'influence', 'relocate', 'ties', \"'S\", 'underperforms', 'summed', 'weighing', 'lambasted', 'targets', 'intensified', 'destroying', 'switch', 'reinstated', 'mark', 'felt', 'reforming', 'jeopardizes', 'moved', 'swelled', 'HEARS', 'extorted', 'stole', 'lend', 'bore', 'wearing', 'sustain', 'visit', 'interview', 'computing', 'flying', 'press', 'Joining', 'force', 'satisfying', 'hailed', 'gained', 'reinstituting', 'Record', 'helping', 'erased', 'subdued', 'torched', 'faces', 'ripped', 'recycles', 'budgeted', 'shore', 'test-drive', 'interpreted', 'constitute', 'advance', 'confer', 'streamed', 'cheating', 'SIGNALED', 'relax', 'pegged', 'preserves', 'requiring', 'educating', 'pondering', 'condemn', 'depressed', 'Impose', 'shrank', 'records', 'likened', 'equip', 'buys', 'reconstructing', 'pours', 'crimp', 'paint', 'wiping', 'lends', 'inflicted', 'Link', 'compare', 'enticing', 'kindled', 'tumble', 'experiencing', 'Doing', 'imagine', 'labeled', 'freezes', 'overthrow', 'preserving', 're-emphasize', 'reorganizes', 'dismissed', 'dilute', 'Substituting', 'rode', 'winding', 'lease', 'slain', 'drawn', 'reinvent', 'recovering', 'peppered', 'entrust', 'described', 'restore', 'Selling', 'squeeze', 'misstates', 'bogged', 'Pushing', 'married', 'test', 'recounted', 'probing', 'averaged', 'weigh', 'prevents', 'says', 'sandwiched', 'Look', 'priced', 'engineered', 'arrested', 'wears', 'Concerning', 'inject', 'hold', 'upgrading', 'relinquish', 'Withhold', 'conduct', 'confiscating', 'harbors', 'outperform', 'trotted', 'sidetrack', 'expel', 'surrounding', 'identified', 'salvage', 'fund', 'divert', 'losing', 'transforming', 'deriving', 'faced', 'fatten', 'lure', 'shifted', 'manage', 'heighten', 'Excluding', 'mind', 'given', 'satisfy', 'denying', 'backed', 'applying', 'complicate', 'racking', 'Combatting', 'monitoring', 'subtracting', 'slash', 'rebounded', 'deducting', 'careening', 'turned', 'interpret', 'lies', 'sees', 'locking', 'pump', 'drawing', 'prints', 'has', 'developed', 're-entered', 'transplanting', 'Echoing', 'aid', 'earmark', 'massaging', 'hosted', 'affect', 'adorned', 'chosen', 'unroll', 'highlight', 'Reward', 'illustrate', 'reconsider', 'struck', 'liberalized', 'overshadowing', 'reform', 'requested', 'bottled', 'restricting', 'retains', 'digesting', 'scheduled', 'protect', 'amending', 'poking', 'chairs', 'exacerbates', 'forcing', 'downplayed', 'clarify', 'converting', 'encapsulate', 'access', 'plunged', 'pegs', 'stripping', 'attract', 'avoid', 'comprises', 'flay', 'remembers', 'tax', 'Carrying', 'endowed', 'spin', 'inhibited', 'rebuffed', 'share', 'work', 'subordinate', 'sniffs', 'seized', 'purchasing', 'thwarted', 'violated', 'reshaped', 'rounded', 'greeted', 'send', 'combined', 'crack', 'nixed', 'wrapping', 'repurchased', 'renewed', 'forms', 'streamlining', 'measuring', 'defended', 'studies', 'minimize', 'exemplifies', 'chop', 'opened', 'constructing', 'favor', 'fostering', 'tapped', 'disregarded', 'rescued', 're-establish', 'succeed', 'settling', 'spur', 'reducing', 'draw', 'supervising', 'target', 'strafe', 'hamper', 'pressing', 'occupies', 'watch', 'dot', 'appraise', 'chasing', 'aided', 'threaten', 'fall', 'Fending', 'expunge', 'decking', 'breached', 'ran', 'Fueling', 'forbidding', 'restored', 'stretching', 'bucked', 'convenes', 'producing', 'marked', 'infuriated', 'peddling', 'choked', 'resides', 'reestablish', 'become', 'forgive', 'cleanse', 'leaping', 'securing', 'rejected', 'grafted', 'depict', 'suffered', 'struggled', 'restricts', 'discerns', 'pushes', 'broadening', 'sworn', 'count', 'define', 'examine', 'sued', 'replacing', 'Depicting', 'injects', 'spends', 'clean', 'expanding', 'sidestepped', 'insure', 'retrieve', 'softened', 'undertaken', 'staked', 'follow', 'made', 'offer', 'renovate', 'achieve', 'identify', 'buzzes', 'invested', 'started', 'notified', 'am', 'dispatched', 'winning', 'fueling', 'misleading', 'modify', 'completes', 'streamline', 'judging', 'referring', 'putting', 'declared', 'enacting', 'seal', 'underwrite', 'cede', 'exchange', 'approaching', 'rescinding', 'attacked', 'Speed', 'expecting', 'dried', 'packed', 'drag', 'draws', 'loosen', 'fled', 'stays', 'crossed', 'heads', 'watched', 'appreciate', 'volunteered', 'informing', 'resolve', 'requires', 'renews', 'spilled', 'advocating', 'elongate', 'reminded', 'summoning', 'follows', 'points', 'halted', 'pitched', 'permit', 'sang', 'opening', 'handed', 'forgiving', 'reviving', 'feeding', 'cause', 'asks', 'advised', 'outbid', 'estimate', 'planting', 'pinpoint', 'nullify', 'reunite', 'gathered', 'weakened', 'arranging', 'spoke', 'ban', 'downsize', 'Takes', 'works', 'leaked', 'equipping', 'adopting', 'ends', 'visited', 'justifies', 'cushion', 'amassed', 'defeating', 'narrowed', 'lacked', 'reimburse', 'enjoying', 'restated', 'eases', 'solicits', 'underwent', 'involving', 'highlights', 'dish', 'purchases', 'do', 'regulate', 'accept', 'constitutes', 'planted', 'chaired', 'learned', 'adopt', 'pending', 'abused', 'absorbing', 'report', 'citing', 'discontinue', 'adjusted', 're-enacting', 'refund', 'convened', 'outlined', 'excited', 'organized', 'uprooted', 'increases', 'scuttle', 'grasping', 'impair', 'garnered', 'soften', 'sneaking', 'awaits', 'collect', 'reeled', 'shoves', 'administer', 'bridging', 'expands', 'shook', 'compiling', 'freeze', 'undercut', 'soar', 'plagued', 'familiarize', 'prepared', 'ceased', 'twists', 'name', 'deleting', 'snatched', 'sank', 'abandoning', 'directs', 'widen', 'reconciling', 'waiving', 'enable', 'print', 'managed', 'importing', 'donate', 'flew', 'solving', 'thank', 'reiterated', 'Narrowing', 'calling', 'calm', 'containing', 'Managing', 'awaited', 'answering', 'observed', 'savored', 'inspecting', 'leaving', 'battle', 'dropping', 'rocking', 'countered', 'envisioned', 'predispose', 'heralded', 'prompt', 'bearing', 'Died', 'Barring', 'reduce', 'attained', 'committing', 'heaping', 'publicize', 'discourage', 'gave', 'ambushed', 'ventilated', 'enclosing', 'exhausted', 'rolling', 'seize', 'Replacing', 'Ending', 'regulating', 'look', 'inflict', 'hurts', 'discontinued', 'produce', 'taking', 'savoring', 'clear', 'convincing', 'recall', 'lobby', 'reported', 'having', 'de-emphasize', 'altering', 'stapling', 'marrying', 'angered', 'yanked', 'rim', 'view', 'pays', 'sliding', 'banning', 'risking', 'meaning', 'takes', 'dealing', 'let', 'review', 'diminish', 'Weighing', 'ponying', 'waited', 'ranked', 'clutter', 'grown', 'backing', 'emphasizing', 'stopped', 'whipped', 'offered', 'capture', 'recoup', 'causing', 'tendering', 'pre-empt', 'guide', 'nicknamed', 'trumpets', 'uphold', 'execute', 'transferring', 'fought', 'hire', 'Seeking', 'charges', 'concerning', 'plug', 'enjoined', 'eased', 'pokes', 'dumping', 'deploring', 'buy-back', 'unplug', 'slammed', 'fired', 'govern', 'label', 'gaining', 'pitches', 'gets', 'disobey', 'rules', 'targeted', 'expanded', 'seeing', 'eliminated', 'shattered', 'presents', 'intensify', 'repay', 'plead', 'flattened', 'distributed', 'list', 'supplies', 'commit', 'filing', 'equates', 'gyrated', 'provides', 'surfaced', 'shot', 'shoving', 'renamed', 'fostered', 'undertake', 'intermixed', 'riding', 'pre-register', 'matches', 'spend', 'measures', 'inflate', 'tolerate', 'tracing', 'disclose', 'stresses', 'triggering', 'document', 'transport', 'mail', 'depleted', 'validating', 'extends', 'means', 'feeling', 'value', 'demolished', 'shaved', 'came', 'absorb', 'shape', 'hammer', 'voting', 'withheld', 'publishing', 'ogles', 'enacted', 'alleging', 'Asked', 'push', 'command', 'defraud', 'representing', 'tied', 'facing', 'wreaking', 'initiate', 'changing', 'recognizes', 'curtail', 'missing', 'deprives', 'damped', 'prepay', 'skidded', 'denies', 'mounting', 'grabbing', 'provoking', 'combing', 'traded', 'logged', 'shed', 'discount', 'delaying', 'submitted', 'limiting', 'spending', 'drink', 'wash', 'boosting', 'contribute', 'popularized', 'rhymed', 'exploit', 'lumps', 'violating', 'precipitated', 'entering', 'deprived', 'Stuffing', 'encouraged', 'train', 'muscled', 'rejecting', 'facilitating', 'favors', 'flooded', 'storming', 'governing', 'contemporize', 'rolls', 'worsen', 'endorsing', 'risen', 'predicts', 'preserved', 'upheld', 'breathing', 'combine', 'resolving', 'resume', 'eat', 'believe', 'staging', 'focused', 'polled', 'bars', 'misstated', 'revoking', 'rescue', 'see', 'curbed', 'contributing', 'juggling', 'holds', 'hedge', 'lacks', 'revved', 'thrust', 'Investigating', 'concluding', 'obscure', 'assume', 'spot', 'capped', 'won', 'require', 'fine', 'void', 'realize', 'deals', 'delivering', 'taken', 'suggest', 'convey', 'shows', 'crush', 'slapped', 'bolstered', 'automates', 'obviate', 'broadcasting', 'keeps', 'reconcile', 'kicked', 'foster', 'implying', 'kills', 'fined', 'helped', 'scouting', 'solidify', 'afforded', 'devotes', \"'re\", 'derived', 'denouncing', 'dominate', 'leave', 'aroused', 'shoved', 'crimping', 'pouring', 'relayed', 'balloons', 'create', 'required', 'arouses', 'constituted', 'idle', 'outsold', 'Feeling', 'dampened', 'embargoed', 'fend', 'ruled', 'transforms', 'outpacing', 'growing', 'offsetting', 'topple', 'encasing', 'multiply', 'instill', 'fear', 'modernize', 'prolong', 'check', 'move', 'incur', 'insulating', 'abdicate', 'declined', 'repeat', 'Buried', 'pay', 'designs', 'checks', 'reversed', 'specify', 'complement', 'performed', 'narrow', 'line', 'encouraging', 'halt', 'relishes', 'plans', 'hauled', 'deflect', 'shuttling', 'affiliating', 'knocking', 'lectures', 'weighs', 'pass', 'cease', 'convict', 'plies', 'opposed', 'celebrate', 'features', 'defending', 'precludes', 'omit', 'redirected', 'build', 'undertook', 'seemed', 'ushered', 'addressed', 'weather', 'mute', 'inserting', 'considers', 'license', 'lose', 'remain', 'embraced', 'motivate', 'conclude', 'seizing', 'analyzing', 'Given', 'dismantle', 'stick', 'meld', 'drill', 'unveil', 'help', 'estimates', 'adopted', 'learns', 'convert', 'slaps', 'uses', 'court', 'direct', 'singing', 'equate', 're-evaluate', 'maintained', 'leading', 'sinking', 'washing', 'secure', 'enrolled', 'eclipsing', 'continuing', 'confirm', 'promote', 'foresees', 'imported', 'decrease', 'pricing', 'express', 'reward', 'TREATING', 'knock', 'spark', 'counting', 'pile', 'indemnify', 'expects', 'fit', 'casting', 'meeting', 'muster', 'drive', 'supervises', 'joins', 'underscore', 'outlining', 'marketing', 'highlighting', 'seeking', 'characterized', 'outperforms', 'reached', 'inhibit', 'minting', 'blame', 'keep', 'reignite', 'funnel', 'augment', 'proving', 'runs', 'lessen', 'leads', 'naming', 'restructured', 'addresses', 'represent', 'implies', 'braving', 'subordinates', 'premiere', 'poked', 'price', 'investigate', 'touting', 'ratified', 'striking', 'slip', 'float', 'obtaining', 'rose', 'Appointed', 'liked', 'bears', 'kept', 'designed', 'anticipate', 'affirming', 'paves', 'assuming', 'compares', 'touched', 'setting', 'termed', 'drain', 'relaunched', 'notifying', 'purchase', 'exposing', 'reinforcing', 'talk', 'outpaced', 'rationalize', 'imprisoning', 'was', 'tucked', 'accumulating', 'diagnosed', 'scored', 'enjoy', 'using', 'stressed', 'integrate', 'strapped', 'treats', 'transports', 'pushing', 'accuses', 'summarize', 'laying', 'Gets', 'displaying', 'propose', 'prepare', 'melds', 'buoying', 'enact', 'grow', 'tangle', 'views', 're-entering', 'enjoin', 'asserting', 'knocked', 'subsidizing', 'total', 'cost', 'assist', 'drafted', 'amend', 'forgo', 'frequents', 'flies', 'arrest', 'edging', 'revive', 'typified', 'guarantees', 'diminishing', 'relive', 'erode', 'sponsors', 'bucking', 'liberalize', 'forming', 'spurred', 'donating', 'interrogated', 'depresses', 'levied', 'achieved', 'renouncing', 'stalling', 'assuage', 'licenses', 'cracked', 'reopens', 'thought', 'MONITORED', 'limited', 'misrepresenting', 'wins', 'bribed', 'rotated', 'assess', 'endorse', 'lowering', 'slid', 'contracted', 'reduces', 'inaugurated', 'hindered', 'extending', 'hitched', 'slipped', 'color-coding', 'proposed', 'discomfit', 'requesting', 'segregated', 'reveal', 'expressing', 'Cracking', 'registered', 'favoring', 'return', 'trying', 'import', 'lodged', 'enters', 'deflected', 'contemplates', 'painted', 'commissioned', 'funds', 'expand', 'voiced', 'battled', 'amplify', 'pulling', 'incorporate', 'heaved', 'spells', 'wore', 'boasts', 'snaps', 'parried', 'lined', 'deposit', 'exhibiting', 'claim', 'read', 'alter', 'seen', 'wants', 'combat', 'redress', 'enjoyed', 'generates', 'warns', 'protects', 'shave', 'anticipates', 'crams', 'repurchase', 'tested', 'attributes', 'dialing', 'trail', 'threatened', 'acquired', 'returning', 'equal', 'determined', 'frame', 'Noting', 'rising', 'strain', 'tracks', 'planning', 'shelled', 'broke', 'regret', 'entitling', 'suggested', 'shuffled', 'discarded', 'Buying', 'solicit', 'detract', 'carving', 'fires', 'remembering', 'instituting', 'goes', 'chose', 'provided', 'treating', 'executed', 'Misunderstanding', 'changes', 'anticipated', 'mirrored', 'resembling', 'oversaw', 'imposes', 'deduct', 'remove', 'damage', 'inherit', 'study', 'detect', 'decide', 'stabilizing', 'denounced', 'teach', 'devote', 'overlooking', 'includes', 'approves', 'employs', 'expose', 'vent', 'disclosing', 'lack', 'collected', 'channel', 'loses', 'soared', 'rained', 'slimmed', 'lowered', 'further', 'eradicate', 'placate', 'ridicules', 'concluded', 'drum', 'introducing', 'modeled', 'challenge', 'completed', 'conducting', 'dismiss', 'alienate', 'exhibit', 'Reverse', 'prevent', 'slowed', 'computerizing', 'glutted', 'beginning', 'Witness', 'missed', 'ring', 'match', 'Compare', 'instigated', 'spun', 'slashed', 'earns', 'provide', 'defeat', 'rank', 'protecting', 'tightened', 'marking', 'challenging', 'blow', 'succeeds', 'serving', 'spearheading', 'defuse', 'BE', 'relaunch', 'receiving', 'alternating', 'submit', 'divest', 'reappraise', 'solve', 'endure', 'steer', 'model', 'flood', 'Being', 'supercede', 'shouted', 'minimizing', 'transmit', 'appealed', 'posting', 'strengthening', 'maneuvered', 'fractioning', 'appointed', 'impeded', 'show', 'answer', 'assailed', 'prod', 'seats', 'revealed', 'contacting', 'approved', 'defines', 'inherited', 'ignite', 'held', 'expire', 'caught', 'paid', 'curry', 'tracking', 'pursuing', 'grab', 'fulfilled', 'preoccupied', 'survey', 'broadcast', 'earned', 'converts', 'bridge', 'meted', 'jolted', 'preventing', 'stay', 'pull', 'battles', 'attended', 'subpoena', 'outline', 'demonstrated', 'contains', 'mitigate', 'ordering', 'post', 'spreading', 'bar', 'touts', 'rent', 'prices', 'sound', 'celebrated', 'piece', 'leased', 'labels', 'basing', 'designated', 'quoted', 'slated', 'pared', 'establish', 'Titled', 'heightened', 'sentenced', 'eyeing', 'predicted', 'poses', 'liberated', 'fighting', 'manufacturing', 'excluding', 'stepped', 'entered', 'blaming', 'Adding', 'discussed', 'connects', 'merge', 'spawns', 'shrinking', 'kicking', 'expect', 'accelerate', 'Discussing', 'toured', 'sparking', 'narrows', 'overseeing', 'jeopardize', 'issuing', 'manipulate', 'deserve', 'RATTLED', 'devise', 'unveiled', 'forgotten', 'accommodate', 'condone', 'strengthen', 'forfeit', 'shaken', 'produces', 'perform', 'back', 'charged', 'mentioned', 'indicating', 'catching', 'ceding', 'veto', 'noticed', 'reimburses', 'encompass', 'shining', 'sunk', 'understood', 'appeal', 'trumpeting', 'practiced', 'blamed', 'auction', 'determining', 'credited', 'guaranteeing', 'noting', 'declaring', 'leasing', 'mirrors', 'dispatch', 'repeating', 'lead', 'establishing', 'portend', 'stain', 'oust', 'embarrass', 'Stretching', 'overhauled', 'overcome', 'dominates', 'ceded', 'rolled', 'sipped', 'Restrict', 'tap', 'hobbled', 'aggravate', 'Dragging', 'FACING', 'limit', 'snorts', 'question', 'Excluded', 'syndicating', 'assembling', 'cutting', 'gather', 'advises', 'recanted', 'condemns', 'accusing', 'singled', 'collapse', 'squeezed', 'hearing', 'surrender', 'withdrew', 'gauge', 'returns', 'owe', 'plan', 'assembled', 'admitting', 'argues', 'circumvent', 'resisting', 'mixing', 'mining', 'allocating', 'downgrading', 'noted', 'allow', 'hosting', 'stretches', 'defeated', 'scale', 'outflank', 'distributes', 'teaching', 'neutralizes', 'changed', 'established', 'injected', 'fixing', 'exacerbated', 'eclipse', 'fits', 'support', 'pardoned', 'reassume', 'explain', 'identifies', 'tallied', 'studied', 'deserves', 'restrict', 'bill', 'included', 'come', 'courted', 'initialed', 'constrains', 'bottle', 'houses', 'sharpening', 'betting', 'Concocts', 'fields', 'confiscated', 'watching', 'distributing', 'reverse', 'sneak', 'installed', 'supported', 'tumbled', 'rejoined', 'acquires', 'SHUN', 'restate', 'telling', 'joined', 'spent', 'placing', 'obtain', 'lighten', 'Rated', 'decribed', 'linking', 'Paying', 'log', 'delay', 'hires', 'BACKED', 'disrupting', 'contact', 'plotted', 'bases', 'shrugged', 'adds', 'favored', 'tossed', 'install', 'idled', 'found', 'Denied', 'sum', 'rid', 'reinforces', 'siphon', 'sweetened', 'inspect', 'examining', 'Assuming', 'reschedule', 'drumming', 'portraying', 'spins', 'edit', 'dedicated', 'choosing', 'maintain', 'milk', 'spurned', 'closing', 'finalized', 'advocate', 'pummel', 'portrays', 'valued', 'prompting', 'garner', 'loan', 'organizing', 'vented', 'dogged', 'left', 'spewing', 'pit', 'stirring', 'Contributing', 'cites', 'experienced', 'scarfing', 'dumped', 'galvanized', 'lobbying', 'restrain', 'bred', 'vacuum', 'snare', 'eyed', 'charge', 'reflected', 'free', 'drains', 'carved', 'raised', 'visiting', 'estimating', 'fill', 'reorganize', 'Shaving', 'omitted', 'reflecting', 'rearrange', 'impact', 'suspended', 'scold', 'croak', 'confronting', 'brings', 'divided', 'phasing', 'underperform', 'discounting', 'punished', 'protested', 'sparked', 'hospitalized', 'helps', 'waged', 'suspend', 'feed', 'oversees', 'done', 'store', 'load', 'lasting', 'Corresponding', 'infuse', 'conceal', 'formulates', 'maximize', 'exclude', 'ensuring', 'worsened', 'insures', 'finding', 'shorten', 'notify', 'deal', 'ordered', 'waved', 'decreased', 'nearing', 'supplied', 'monitors', 'filling', 'offering', 'peg', 'wrest', 'forecast', 'discounted', 'fed', 'blunt', 'petition', 'treat', 'laundering', 'planned', 'end', 'backs', 'culminating', 'Leaving', 'bolster', 'merged', 'present', 'rated', 'scooping', 'appreciated', 'referred', 'chew', 'shutting', 'pin-pointed', 'caused', 'respect', 'challenges', 'save', 'refocused', 'co-host', 'sweated', 'arranges', 'sign', 'finger', 'costing', 'discuss', 'cancel', 'undo', 'write', 'withdraw', 'chooses', 'purge', 'seek', 'being', 'saving', 'reach', 'approving', 'avert', 'plays', 'propel', 'culminates', 'doubled', 'preparing', 'bought', 'get', 'wrote', 'tells', 'Getting', 'SHAKE', 'couched', 'pave', 'overstated', 'standing', 'mirror', 'exceeded', 'awarded', 'endorsed', 'shove', 'building', 'lavishing', 'flowed', 'attracted', 'recognized', 'well-stated', 'selected', 'offset', 'scaled', 'earn', 'top', 'submitting', 'mounted', 'confirms', 'thwart', 'retain', 'skipping', 'deplores', 'suggesting', 'trailed', 'suffering', 'coordinates', 'gone', 'Regarding', 'permitted', 'depicts', 'approach', 'stock', 'fallen', 'outsell', 'yielding', 'regained', 'nail', 'distance', 'diversify', 'commemorated', 'plunge', 'shipping', 'concentrating', 'portends', 'represents', 'recapture', 'outperforming', 'rushed', 'allowed', 'establishes', 'raise', 'smooth', 'needs', 'hurling', 'saved', 'notice', 'overhaul', 'accompanies', 'refers', 'joining', 'counts', 'represented', 'filed', 'recorded', 'siphoned', 'lagging', 'jacking', 'engulfed', 'revamping', 'track', 'stuck', 'removing', 'searched', 'resigned', 'drinking', 'befall', 'investigates', 'reinforce', 'lurched', 'face', 'fix', 'Underscoring', 'entertained', 'emerged', 'places', 'Rearding', 'consider', 'matched', 'exploring', 'increase', 'blurring', 'became', 'framing', 'plant', 'raises', 'Including', 'chalking', 'attaching', 'ride', 'covers', 'showing', 'dominated', 'double', 'tie', 'preserve', 'cut', 'conjures', 'singling', 'regarding', 'assure', 'base', 'cover', 'justify', 'convince', 'subsidize', 'are', 'encountered', 'stressing', 'designing', 'alleviate', 'leaves', 'advising', 'processed', 'said', 'fixed', 'signs', 'Is', 'discovered', 'repair', 'reopen', 'decline', 'concentrate', 'wiped', 'ai', 'continued', 'deflecting', 'reaches', 'Creates', 'removed', 'licensing', 'freeing', 'dubbed', 'embody', 'complete', 'negotiated', 'projected', 'flee', 'charging', 'consolidating', 'succeeded', 'echoing', 'poaching', 'floating', 'threatening', 'bid', 'sharpen', 'closed', 'slam-dunk', 'shake', 'curb', 'announcing', 'merging', 'dwarf', 'released', 'manufacture', 'uncover', 'control', 'epitomize', 'hindering', 'foreshadowed', 'drew', 'dig', 'rallied', 'unleashing', 'exceeds', 'redeem', 'listed', 'ignoring', 'need', 'understand', 'overshadowed', 'go', 'reject', 'authorizing', 'impressed', 'underwriting', 'evaluating', 'quadrupling', 'licensed', 'clearing', 'employing', 'substituting', 'implicated', 'regain', 'embellish', 'generating', 'shakes', 'strikes', 'kill', 'attaches', 'finance', 'dooming', 'concedes', 'praised', 'shedding', 'hurled', 'processing', 'bounces', 'avoided', 'glean', 'Kissing', 'remained', 'tag', 'masked', 'photographing', 'signals', 'prove', 'fight', 'comes', 'project', 'recommending', 'assists', 'paying', 'disrupt', 'advise', 'regards', 'surged', 'manned', 'hidden', 'participating', 'averting', 'recovered', 'wait', 'illustrated', 'puts', 'decided', 'gives', 'rang', 'plunging', 'rubbed', 'piling', 'plummeting', 'buffer', 'cross', 'alarms', 'depend', 'adjusting', 'reserves', 'boosts', 'complements', 'acquire', 'prevented', 'snapped', 'subjected', 'rotate', 'distribute', 'feared', 'secured', 'scouring', 'awaiting', 'excised', 'bolstering', 'duplicate', 'figure', 'remodeling', 'swell', 'bullies', 'stashed', 'reports', 'own', 'recommended', 'limits', 'mount', 'recruits', 'looms', 'controlled', 'rate', 'process', 'claiming', 'retired', 'tilt', 'destroyed', 'quits', 'underfunded', 'sell', 'threw', 'churn', 'retaining', 'rule', 'finds', 'cap', 'introduces', 'advocates', 'lopped', 'distracting', 'abolish', 'CONVICTS', 'creating', 'operating', 'brief', 'casts', 'shield', 'imposing', 'grants', 'reconstructed', 'sponsoring', 'design', 'Cementing', 'stripped', 'acting', 'predict', 'pledged', 'synchronize', 'excluded', 'Following', 'point', 'courting', 'luring', 'hear', 'apply', 'resembles', 'got', 'discard', 'hired', 'launched', 'realizing', 'appreciates', 'roam', 'accepts', 'vacating', 'surrendered', 'integrating', 'attracting', 'rise', 'conditioned', 'refinance', 'stymied', 'average', 'banned', 'treated', 'exercised', 'submits', 'like', 'resurrect', 'exhausting', 'substitute', 'resumed', 'enter', 'Using', 'saw', 'yield', 'articulate', 'Sees', 'reduced', 'focusing', 'peaked', 'widened', 'weaving', 'siphoning', 'fly', 'called', 'prepares', 'assemble', 'carting', 'donated', 'add', 'suffers', 'mulling', 'stranding', 'reserving', 'presenting', 'state', 'crumpled', 'retire', 'flush', 'issue', 'invokes', 'Reflecting', 'refinancing', 'sub-underwriting', 'pursued', 'racked', 'questioned', 'ended', 'outgained', 'invite', 'speeding', 'answered', 'prefer', 'sought', 'trigger', 'spooked', 'recognize', 'investing', 'dogs', 'indexing', 'repairing', 'named', 'reset', 'capturing', 'topped', 'assigns', 'Had', 'forbids', 'blast', 'subject', 'use', 'does', 'swallowed', 'triggers', 'Leading', 'heed', 'call', 'outnumbered', 'matching', 'bring', 'valuing', 'reflect', 'laid', 'urge', 'confuse', 'survive', 'characterize', 'touring', 'investigating', 'preferring', 'want', 'pour', 'granted', 'recites', 'brands', 'crushing', 'flaunt', 'make', 'were', 'walk', 'foil', 'Arrested', 'supervised', 'transformed', 'did', 'extend', 'seems', 'swung', 'stop', 'sending', 'welcome', 'applied', 'Drawing', 'damaged', 'preclude', 'Are', 'understand/adopt', 'criticize', 'steered', 'endanger', 'calculated', 'underlined', 'consume', 'targeting', 'soiled', 'amass', 'recognizing', 'looks', 'reopening', 'granting', 'withdrawing', 'fold', 'oversee', 'owned', 'surpassed', 'fleeing', 'driving', 'AVOIDED', 'publish', 'subtitled', 'sort', 'export', 'decreed', 'restart', 'vacate', 'suing', 'informed', 'carries', 'permitting', 'sold', 'ousted', 'owed', 'quit', 'diagnosing', 'touted', 'swap', 'incurred', 'claimed', 'peruse', 'correct', 'climbing', 'craning', 'receives', 'proposing', 'strips', 'underscored', 'choose', 'costs', 'eroding', 'supplying', 'launches', 'benefits', 'aggravated', 'subsidizes', 'pop', 'calculating', 'splits', 'clubbed', 'attribute', 'unlocked', 'rein', 'enlisted', 'cool', 'worked', 'remains', 'stash', 'condemned', 'offend', 'feeds', 'likes', 'owing', 'haunting', 'deregulate', 'imitate', 'lugging', 'covering', 'place', 'founded', 'request', 'brushed', 'approaches', 'happen', 'harm', 'observing', 'revised', 'mandating', 'assimilate', 'removes', 'followed', 'urged', 'modernized', 'structuring', 'survived', 'hangs', 'redesign', 'pioneered', 'crash', 'outperformed', 'reassigned', 'Included', 'fulfill', 'convene', 'sends', 'win', 'grant', 'solves', 'promise', 'lumping', 'perpetuate', 'prohibit', 'designating', 'indulging', 'amasses', 'damp', 'blocked', 'underscores', 'DELAYS', 'overwhelm', 'swept', 'constructed', 'insulate', 'admit', 'based', 'approve', 'rumored', 'register', 'expressed', 'asked', 'stirred', 'supports', 'burnishing', 'relieve', 'clarifying', 'allowing', 'downgraded', 'trim', 'prohibits', 'awarding', 'negotiating', 'discussing', 'provoked', 'achieving', 'please', 'hobbling', 'stabilized', 'EXPANDS', 'borrow', 'unite', 'revising', 'heeded', 'braved', 'mishandled', 'confronts', 'resell', 'headed', 'contemplated', 'welcomes', 'indicate', 'nursed', 'extort', 'say', 'whip', 'co-authored', 'resigning', 'soothe', 'anchor', 'assessing', 'experience', 'getting', 'proffered', 'executing', 'confers', 'fomenting', 'acknowledge', 'shared', 'deny', 'shifting', 'sow', 'regains', 'declares', 'showed', 'warned', 'attests', 'repeated', 'disdain', 'withstand', 'added', 'dragging', 'pitching', 'Holding', 'jailed', 'inviting', 'transporting', 'jack', 'aired', 'brought', 'knows', 'scares', 'Allowing', 'attack', 'expected', 'shoe-horn', 'Linking', 'makes', 'depress', 'canceled', 'skid', 'owns', 'chronicles', 'grouses', 'displays', 'arose', 'include', 'distinguish', 'marks', 'headlined', 'undermining', 'dismisses', 'dismantled', 'becoming', 'erupt', 'Improving', 'miss', 'delayed', 'Includes', 'shut', \"'m\", 'located', 'coextrude', 'saddled', 'going', 'shipped', 'broaden', 'jettisoning', 'straining', 'overturn', 'toppled', 'collecting', 'be', 'merit', 'shift', 'picking', 'woo', 'utilize', 'applaud', 'displeases', 'prop', 'upgraded', 'negotiate', 'suit', 'warrant', 'tender', 'explaining', 'record', 'altered', 'exonerated', 'played', 'remedy', 'Lost', 'brandishing', 'claims', 'controls', 'sipping', 'recommends', 'renewing', 'handling', 'accrue', 'develop', 'projecting', 'heard', 'thrown', 'recounts', 'contemplating', 'scraps', 'tightening', 'produced', 'tend', 'resuming', 'impose', 'sharing', 'blend', 'Addressing', 'order', 'encircling', 'protest', 'ranks', 'faked', 'demanding', 'occupied', 'romancing', 'retaking', 'usurp', 'shoot', 'toting', 'improved', 'yielded', 'conducts', 'erodes', 'sour', 'barring', 'mopping', 'surpass', 'promises', 'is', 'handle', 'refer', 'quantify', 'edge', 'exceed', 'signed', 'sent', 'maintaining', 'stockpile', 'hit', 'feel', 'eschewed', 'defends', 'turn', 'rendering', 'weighed', 'hitting', 'equaling', 'fashioned', 'sells', 'frees', 'sounded', 'hook', 'surprised', 'pare', 'plummet', 'downsized', 'sue', 'counter', 'issued', 'ward', 'anticipating', 'Reviewing', 'promised', 'teaches', 'reinvesting', 'conducted', 'reflects', 'accepted', 'repeal', 'tell', 'display', 'parcel', 'plummeted', 'supporting', 'sprinkles', 'juxtapose', 'rebuild', 'steadied', 'complains', 'hashing', 'describe', 'shun', 'avoiding', 'connect', 'deprive', 'enlisting', 'freed', 'explained', 'demonstrate', 'prefers', 'lamented', 'depicted', 'foot', 'gain', 'appear', 'block', 'reproduce', 'addressing', 'watches', 'alleged', 'destabilize', 'split', 'buy', 'shocked', 'scheduling', 'terminate', 'tours', 'outselling', 'link', 'vote', 'try', 'urging', 'dissolve', 'funneling', 'breaks', 'introduced', 'conveyed', 'bedevil', 'lay', 'spread', 'allay', 'lowers', 'underscoring', 'booking', 'uncovering', 'ship', 'affected', 'wanting', 'oppose', 'disassemble', 'serves', 'gathering', 'fuel', 'squelch', 'heaped', 'confusing', 'commemorate', 'prodding', 'influences', 'beat', 'telephoning', 'lagged', 'arrives', 'denied', 'inducing', 'begin', 'inflame', 'enlist', 'enlarge', 'airlifted', 'drives', 'shunning', 'airlifting', 'pinning', 'board', 'researched', 'abolished', 'thanking', 'farms', 'liquidate', 'reincorporating', 'piped', 'passed', 'shell', 'Called', 'guaranteed', 'parallels', 'soliciting', 'proclaiming', 'posted', 'live', 'flaunts', 'Take', 'Increase', 'scour', 'endured', 'blanketed', 'engaged', 'begun', 'detailing', 'detaining', 'scrap', 'jolt', 'catch', 'witnessing', 'embraces', 'carry', 'identifying', 'travel', 'compared', 're-evaluating', 'defrauded', 'blames', 'encourage', 'chart', 'blurt', 'flipped', 'raking', 'recalls', 'spotted', 'wage', 'resemble', 'serve', 'thrusting', 'greeting', 'research', 'dictate', 'terminating', 'contained', 'linked', 'hits', 'underlying', 'Putting', 'releases', 'accord', 'calls', 'zapping', 'unwind', 'promoting', 'inserted', 'releasing', 'change', 'elevated', 'gotten', 'await', 'foreseen', 'maintains', 'attends', 'summoned', 'invented', 'buying', 'erase', 'debunk', 'fielded', 'created', 'invest', 'advancing', 'adjust', 'grew', 'served', 'reacted', 'circulating', 'declining', 'receive', 'pushed', 'enhances', 'operated', 'knowing', 'converted', 'sparks', 'proofreading', 'shaking', 'working', 'reckons', 'rumbles', 'scooped', 'dragged', 'prompted', 'relaxing', 'doing', 'passes', 'foresee', 'outstripped', 'recover', 'keeping', 'STAGED', 'throw', 'Succeeding', 'protesting', 'appoint', 'wring', 'rattled', 'attach', 'envisions', 'Revising', 'exaggerated', 'tighten', 'find', 'transmitting', 'shorting', 'appeared', 'stage', 'facilitate', 'disrupted', 'passing', 'trimmed', 'form', 'determine', 'crisscrossing', 'flopped', 'cleared', 'battered', 'tops', 'Offsetting', 'benefited', 'develops', 'settled', 'launch', 'undertaking', 'assuring', 'strike', 'whipping', 'solidified', 'squeezes', 'append', 'detected', 'operates', 'commits', 'defrauding', 'disallowed', 'improving', 'cinch', 'stealing', 'published', 'focus', 'skyrocketed', 'healing', 'burn', 'providing', 'permits', 'shouting', 'reviews', 'discouraging', 'loans', 'guard', 'attempting', 'resurrects', 'opposes', 'HOLD', 'file', 'managing', 'Plugging', 'Divide', 'rises', 'exported', 'escape', 'speak', 'died', 'grasp', 'pin', 'comprise', 'dropped', 'organize', 'restoring', 'touch', 'causes', 'understate', 'counsels', 'stores', 'sets', 'extract', 'enforce', 'refurbishing', 'trading', 'hide', 'surveyed', 'practicing', 'break', 'Says', 'met', 'recalculating', 'tackle', 'stamping', 'adapted', 'giving', 'moving', 'abandon', 'alerting', 'mimic', 'seduce', 'saturate', 'Develop', 'channeled', 'staged', 'lecture', 'sensed', 'set', 'pumped', 'affects', 'abandoned', 'viewing', 'hiding', 'embracing', 'weaken', 'approached', 'feature', 'drafting', 'flooding', 'confirming', 'lifted', 'drop', 'advertising', 'deciding', 'halves', 'scribbled', 'elect', 'entitled', 'shepherded', 'give', 'cornered', 'mastered', 'markets', 'welcomed', 'locating', 'reappraised', 'drove', 'introduce', 'unload', 'classifies', 'plugged', 'expedite', 'involved', 'carrying', 'invoke', 'seeks', 'transfer', 'compiles', 'finagled', 'reviewing', 'reclassified', 'recommend', 'stretch', 're-examine', 'attending', 'enlightening', 'forced', 'deters', 'switched', 'Changing', 'escaped', 'cash', 'co-produce', 'financing', 'ignores', 'honor', 'COMPARE', 'diminished', 'override', 'deflated', 'outlast', 'invade', 'splashed', 'sprinkle', 'acquit', 'have', 'averaging', 'parachute', 'criticized', 'coming', 'launching', 'separate', 'relating', 'tying', 'wrapped', 'bemoaning', 'connecting', 'wields', 'fell', 'Expect', 'restricted', 'storing', 'undermine', 'supply', 'trade', 'seem', 'urges', 'studying', 'disputed', 'turns', 'suspending', 'uncovered', 'ushers', 'chastises', 'piled', 'finish', 'attached', 'relinquished', 'pursue', 'jumped', 'SIMPLIFYING', 'audit', 'spewed', 'ensure', 'beefing', 'cuts', 'bode', 'combining', 'overemphasize', 'transferred', 'Reading', 'chucked', 'translate', 'indict', 'indicated', 'decries', 'shapes', 'distorts', 'toasted', 'illustrates', 'initiated', 'rally', 'Supporting', 'allocate', 'vary', 'grows', 'wipe', 'learn', 'mandate', 'infringe', 'been', 'allows', 'strengthened', 'ferry', 'hang', 'challenged', 'reads', 'examined', 'monitor', 'assumes', 'outfit', 'replace', 'cast', 'renew', 'flashed', 'violate', 'describes', 'spurring', 'ignored', 'upgrade', 'outlines', 'driven', 'wasting', 'telephoned', 'credit', 'acknowledged', 'asserted', 'recouped', 'Compounding', 'counseling', 'turning', 'unveiling', 'pitted', 'buck', 'Citing', 'Predicting', 'quell', 'disputes', 'sung', \"'s\", 'testing', 'loaned', 'snap', 'recentralized', 'destroy', 'trimming', 'cite', 'dealt', 'placed', 'making', 'reinvest', 'advanced', 'improve', 'meets', 'rekindle', 'legitimize', 'defer', 'devoted', 'pumping', 'salve', 'terminated', 'mean', 'encourages', 'bolsters', 'issues', 'afford', 'Buy', 'praise', 'Consider', 'ease', 'taboo', 'retrofit'}\n",
            "Top Nouns1: {'R', 'havens', 'demand', 'votes', 'attraction', 'department', 'contractions', 'NEC', 'wisecracks', 'wall', 'style', 'counterweight', 'children', 'pitcher', 'dozens', 'T-bills', 'earthquake', 'Boesel', 'seniority', 'reporting', 'flock', 'dispute', 'boost', 'countdown', 'woman', 'haul', 'adoption', 'mound', 'purpose', 'rents', 'liquidity', 'Columbia', 'high', 'shelter', 'creature', 'roommate', 'space', 'gene', 'fountains', 'awards', 'entrance', 'aging', 'way', 'stationery', 'chef', 'liabilities', 'captain', 'charter', 'authenticity', 'Gibson', 'Hoffman', 'creditor', 'prisoners', 'services', 'infrastructure', 'Exterior', 'cigarettes', 'repeats', 'copper', 'aftermath', 'West', 'takeover', 'tree', 'perks', 'initiatives', 'production', 'shots', 'summary', 'results', 'bartering', 'verdict', 'photographs', 'marketer', 'Street', 'difference', 'commuters', 'write-offs', 'porcelain', 'posture', 'money', 'chief', 'land', 'turbines', 'gasolines', 'release', 'title', 'Horses', 'Bourse', 'Midwest', 'jazz', 'mom', 'Mesa', 'Register', 'protection', 'activity', 'comparisons', 'restriction', 'language', 'Winners', 'depths', 'constitution', 'foothold', 'concerns', 'RISC', 'temperatures', 'chemicals', 'seconds', 'confirmation', 'plurality', 'operations', 'parting', 'assumption', 'Heller', 'horn', 'gainers', 'options', 'accords', 'spirits', 'Rey', 'Fe', 'stem', 'fairness', 'start', 'friendliness', 'advertisers', 'medal', 'daughter', 'risk', 'companion', 'video', 'waiver', 'names', 'findings', 'Foret', 'Dodgers', 'lock', 'Association', 'assistant', 'contributor', 'flows', 'possibility', 'harangues', 'guidelines', 'doubling', 'picture', 'specter', 'lilt', 'uproar', 'resurgence', 'stewardship', 'Minella', 'remainder', 'following', 'appliances', 'Minna', 'morning', 'IFAR', 'timing', 'consumers', 'emission', 'accomplishment', 'population', 'play', 'compliance', 'printer', 'pecks', 'rest', 'textbooks', 'ally', 'belief', 'Men', '%', 'adjustment', 'embargo', 'employment', 'aliens', 'Walsh', 'recommendations', 'defender', 'stand', 'Sony', 'songs', 'contract', 'peek', 'dip', 'acceleration', 'mushrooms', 'bonus', 'inventory', 'pitch', 'contribution', 'watershed', 'shelters', 'addition', 'starts', 'sounds', 'ovulation', 'ethos', 'compromises', 'battery', 'subscriptions', 'reimbursement', 'majority', 'fly-fishing', 'visits', 'go-ahead', 'minimum', 'payments', 'burger', 'layoffs', 'factors', 'interpreter', 'outlay', 'ombudsman', 'plane', 'sympathy', 'magistrate', 'Soviets', 'shirts', 'goal', 'dispersant', 'entries', 'namesake', 'Waggoner', 'cities', 'borrowing', 'alliance', 'impetus', 'trip', 'Ansco', 'care', 'note', 'baptism', 'code', 'distributor', 'tendency', 'specials', 'thoughts', 'pronouncements', 'calmness', 'Isabella', 'hotels', 'breed', 'diversion', 'hats', 'penny', 'manuscript', 'Chase', 'class', 'dollars', 'landing', 'potential', 'nature', 'easing', 'shipyard', 'Riese', 'cartoons', 'obstacle', 'Chivas', 'shortages', 'ire', 'public', 'transfers', 'Payroll', 'type', 'stance', 'round', 'ear', 'demonstration', 'Fresca', 'equity', 'motif', 'shares', 'sacrifice', 'requests', 'trades', 'happenings', 'amendments', 'Disney', 'protectors', 'breakdowns', 'Hood', 'dailies', 'capacity', 'Fruit', 'compromise', 'horse', 'intrusion', 'objectives', 'traffickers', 'lid', 'Willis', 'preference', 'abortion', 'spreads', 'components', 'steadiness', 'trees', 'expo', 'faction', 'probe', 'systems', 'flag', 'grace', 'leases', 'criminal', 'split-finger', 'ineffectiveness', 'multitude', 'panic', 'column', 'success', 'sections', 'arrests', 'pairs', 'cloud', 'Hitachi', 'reading', 'gestures', 'qualities', 'slowing', 'signal', 'runner', 'sheet', 'quote', 'Drabinsky', 'peasants', 'pardon', 'reappraisal', 'discounts', 'sea', 'silences', 'career', 'mall', 'invasion', 'abuse', 'facility', 'billings', 'Club', 'something', 'slot', 'holding', 'Valley', 'pact', 'funding', 'conservationists', 'furniture', 'measure', 'waterfall', 'requisition', 'Robertson', 'dam', 'Trump', 'grain', 'constituents', 'Boeing', 'scenario', 'criteria', 'duty', 'basket', 'Oil', 'owning', 'pell-mell', 'quantification', 'stagnation', 'economics', 'vigil', 'shipment', 'merchandise', 'input', 'rice', 'storm', 'symbol', 'format', 'riskier', 'doubts', 'skepticism', 'packets', 'unwillingness', 'Bridge', 'field', 'jump', 'condition', 'bang', 'materials', 'ridicule', 'rehearing', 'ventures', 'Greece', 'payment', 'nomination', 'half-interest', 'contents', 'privilege', 'Weasel', 'eggs', 'aspect', 'soft-drinks', 'truth', 'symbolism', 'legion', 'fiber', 'head', 'dictators', 'depositions', 'slide', 'right', 'pennies', 'Russians', 'OTC', 'hurt', 'deadline', 'seller', 'engines', 'legality', 'pause', 'columns', 'pitfalls', 'burst', 'listing', 'handout', 'address', 'burglary', 'incumbents', 'advantages', 'headway', 'strength', 'refinery', 'breaking', 'coattails', 'parallel', 'howl', 'coverage', 'effort', 'Imperial', 'Declaration', 'partnership', 'eyes', 'inadequacy', 'Hurricanes', 'admiral', 'Avery', 'thrift', 'diplomat', 'ownership', 'policy', 'gum', 'admits', 'run', 'charts', 'Lederberg', 'Arizona', 'softies', 'publication', 'selling', 'opposition', 'stigma', 'sharecroppers', 'establishment', 'victor', 'maturity', 'gap', 'transmissions', 'surprise', 'budgets', 'offers', 'piles', 'polish', 'reasons', 'homage', 'overcapacity', 'Syms', 'world', 'skyscraper', 'run-up', 'installation', 'river', 'superconcentrates', 'Hill', 'elephant', 'mink', 'values', 'premium', 'Fatah', 'guarantee', 'road', 'dislike', 'exodus', 'shifts', 'Devario', 'music', 'garden', 'McGregor', 'fears', 'updates', 'resources', 'discovery', 'second', 'hospitality', 'lockup', 'update', 'bash', 'step', 'bonds', 'Cemetery', 'venues', 'troubles', 'dream', 'Metamucil', 'FT-SE', 'surpluses', 'candidate', 'truce', 'empires', 'cases', 'entertainment', 'schedule', 'crises', 'Koch', 'breather', 'brethren', 'Himebaugh', 'role', 'francs', 'rainbow', 'premises', 'skills', 'restructuring', 'material', 'conspiracies', 'Thursday', 'pressure', 'bureaucracy', 'hat', 'market', 'contention', 'animals', 'thrill', 'Arby', 'aluminum', 'Kern', 'concentration', 'swipe', 'files', 'Deloitte', 'circulation', 'listener', 'Pay', 'caster', 'prosecutions', 'hand', 'motion', 'viewers', 'policies', 'bills', 'turnaround', 'traffic', 'clues', 'facts', 'things', 'mockery', 'diversity', 'spring', 'glitz', 'rationality', 'bulwark', 'exercise', 'currency', 'falling', 'portfolios', 'contributions', 'maintenance', 'Bock', 'necks', 'war', 'coconuts', 'laughingstock', 'security', 'usurpation', 'chews', 'Warehouse', 'status', 'Nye', 'coverts', 'lubricants', 'Pan', 'inheritor', 'happening', 'Ranch', 'rod', 'falls', 'firefighters', 'biography', 'mettle', 'grandkids', 'retrenchment', 'butt', 'turnabout', 'inquiries', '800-number', 'level', 'lift', 'self', 'taxpayers', 'showcase', 'teams', 'fetus', 'marches', 'deaths', 'ambition', 'deadlines', 'Dallas', 'shock', 'Grail', 'demands', 'ace', 'Kristiansen', 'rates', 'Little', 'forecasts', 'choices', 'oddity', 'stomachs', 'quality', 'nominee', 'presumption', 'shuts', 'plaintiff', 'topic', 'near-panic', 'themes', 'relations', 'Kudlow', 'projects', 'quotes', 'solutions', 'lists', 'pickup', 'ratings', 'attendee', 'Economy', 'weaknesses', 'journalist', 'folks', 'director', 'beeswax', 'plume', 'Bartlett', 'Hastings', 'examples', 'binge', 'explanation', 'group', 'net', 'contractor', 'advertisement', 'wrath', 'agreements', 'HUD', 'TVs', 'recital', 'accounts', 'sell', 'completion', 'Rafale', 'lapses', 'zip', 'man', 'Johnson', 'Fear', 'investigators', 'shields', 'performance', 'amenities', 'Finks', 'heist', 'voters', 'businessmen', 'source', 'kidnapping', 'weekend', 'zenith', 'corners', 'technologies', 'job', 'deregulation', 'near-mutiny', 'demeanor', 'weakness', 'processes', 'reinterpretation', 'acquisitions', 'definition', 'Americans', 'executives', 'principal', 'confluence', 'Digital', 'boutique', 'petrochemicals', 'nuances', 'Reebok', 'adjuster', 'dweller', 'baseline', 'ant', 'sailing', 'gift', 'lugs', 'arrangements', 'Center', 'devotion', 'lessons', 'turmoil', 'lights', 'speed', 'pill', 'Markets', 'benefit', 'states', 'whiskey', 'matter', 'conflicts', 'attention', 'suspension', 'Cup', 'landscape', 'republics', 'restitution', 'furs', 'games', 'SE/30', 'League', 'luck', 'arm', 'assistance', 'pictures', 'locations', 'pressured', 'tape', 'headline', 'RTC', 'rebuff', 'investor', 'millions', 'heavyweights', 'politicians', 'formation', 'bear', 'lifting', 'software', 'suitor', 'influence', 'ties', 'transactions', 'principle', 'today', 'Average', 'ramifications', 'soirees', 'overruns', 'Management', 'indulgence', 'speeches', 'fluctuations', 'pipeline', 'tack', 'Emhart', 'jewels', 'Barton', 'targets', 'Jones', 'courses', 'Europeans', 'defendant', 'spoonfuls', 'mark', 'sympathizers', 'wells', 'lawsuit', 'Simpson', 'climate', 'root', 'personification', 'discrediting', 'Leish', 'boards', 'water', 'plenum', 'example', 'visit', 'press', 'inkling', 'description', 'everyone', 'foundations', 'consul', 'chances', 'exposure', 'force', 'interiors', 'existence', 'culmination', 'deck', 'freedom', 'Walker', 'USAir', 'repercussions', 'sales', 'counterparts', 'numbers', 'premiums', 'groundwork', 'mortgages', 'credence', 'storage', 'advance', 'feat', 'messages', 'orbit', 'papers', 'screens', 'Mehl', 'warrants', 'popularity', 'portions', 'products', 'quarter', 'house', 'severity', 'newspaper', 'China', 'fans', 'up', 'stamps', 'co-sponsors', 'niche', 'three-quarters', 'RJR', 'holders', 'recapitalization', 'records', 'Gant', 'Wang', 'aircraft', 'lotteries', 'stories', 'Soares-Kemp', 'matters', 'dealership', 'corporation', 'indictment', 'Loeb', 'country', 'friend', 'curbs', 'hint', 'sand', 'provider', 'Saturday', 'failure', 'principals', 'reactor', 'shooting', 'Dinkins', 'books', 'cooperation', 'tumble', 'commutes', 'position', 'ability', 'manifesto', 'difficulty', 'memories', 'quotation', 'excess', 'printing', 'spurt', 'basics', 'jab', 'community', 'furnaces', 'clamp', 'tale', 'resumes', 'millionaires', 'Abraham', 'lease', 'slate', 'electricity', 'Bonfire', 'holes', 'nerves', 'boatload', 'meltdown', 'oomph', 'utopia', 'mincemeat', 'understatement', 'beds', 'variation', 'amortization', 'Oakland', 'squeeze', 'usefulness', 'pulp', 'Death', 'test', 'James', 'casualty', 'path', 'videotape', 'falseness', 'liability', 'Canada', 'lot', 'trial', 'highway', 'intention', 'tradition', 'barns', 'players', 'coincidence', 'consultation', 'classifications', 'potholes', 'makers', 'enlightenment', 'hold', 'populism', 'slum', 'upgrading', 'Institutes', 'workdays', 'conduct', 'advice', 'remarks', 'probes', 'legislature', 'Renoir', 'procedure', 'logic', 'polices', 'conglomerate', 'damper', 'no-no', 'abortions', 'Gorillas', 'summer', 'fund', 'clout', 'fluff', 'law', 'contributors', 'virtue', 'balance', 'Bakker', 'reactions', 'months', 'lure', 'feats', 'celebrities', 'mind', 'exam', 'holdings', 'Trustcorp', 'nickname', 'scenarios', 'Pittsburgh', 'pizzas-with-everything', 'rubber', 'library', 'accountability', 'patent', 'weighting', 'monitoring', 'hangover', 'keychain', 'catalyst', 'rebounded', 'sketches', 'cup', 'deficit-reduction', 'Hansen', 'hole', 'Whittington', 'pump', 'drawing', 'assortment', 'precondition', 'Galileo', 'forfeitures', 'fares', 'pounds', 'jaw', 'half', 'boon', 'budgeting', 'expenditure', 'articles', 'aid', 'TransCanada', 'housework', 'tremors', 'content', 'dimensions', 'tricks', 'clusters', 'Becker', 'difficulties', 'guests', 'desk', 'repayments', 'affect', 'rebates', 'Next', 'Neff', 'dosage', 'stock-taking', 'predictions', 'aftershocks', 'investors', 'outcome', 'capabilities', 'time', 'copies', 'brunt', 'construction', 'prosecutors', 'terminals', 'cancer', 'crematoriums', 'reform', 'citations', 'upturn', 'April', 'objects', 'hundreds', 'buddies', 'Aeronautics', 'teeth', 'super-user', 'guesswork', 'blessing', 'nothing', 'epicenter', 'tide', 'kick', 'hallmark', 'films', 'theories', 'chairs', 'continuation', 'valuations', 'cargo', 'stockpiles', 'widow', 'tonic', 'pressures', 'viewpoints', 'complexity', 'access', 'virility', 'complex', 'disappearance', 'proponents', 'Fed', 'planet', 'bureaucrats', 'peanuts', 'dislocation', 'prediction', 'graduate', 'feelings', 'intelligence', 'tax', 'thrashing', 'spin', 'changeover', 'inflows', 'share', 'work', 'act', 'GM', 'optimism', 'Wolf', 'Release', 'hearings', 'darling', 'purchasing', 'clampdown', 'workout', 'floors', 'developer', 'Hunter', 'subjects', 'prominence', 'back-ups', 'entities', 'cues', 'crack', 'income', 'cheers', 'salvo', 'forms', 'streamlining', 'bane', 'borrower', 'trader', 'Kong', 'rights', 'range', 'telexes', 'diseases', 'Gabor', 'car', 'activities', 'disclosures', 'studies', 'assurance', 'hardships', 'show-stoppers', 'governor', 'struggle', 'bikes', 'displacing', 'favor', 'Department', 'officials', 'overtures', 'Applied', 'enthusiasm', 'coyote', 'combination', 'OAS', 'replacements', 'rating', 'samples', 'chuckles', 'reserve', 'programming', 'translations', 'defects', 'imitation', 'attitudes', 'shmaltzy', 'target', 'standard', 'mechanisms', 'Toronto', 'announcement', 'crew', 'watch', 'courts', 'Lambert', 'expressions', 'factories', 'clothes', 'Bureau', 'fall', 'influx', 'menswear', 'die-hards', 'assurances', 'phase', 'laboratories', 'patrons', 'graph', 'examinations', 'account', 'margin', 'weapons', 'Grimm', 'scenes', 'son', 'intraday', 'ADRs', 'oil', 'stake', 'uncertainties', 'averages', 'blockade', 'phone', 'tapestry', 'dilemma', 'thrifts', 'currencies', 'attendees', 'specifications', 'rematch', 'diners', 'devices', 'defense', 'psychiatrist', 'bankers', 'flotilla', 'designer', 'tune', 'elimination', 'consumption', 'yuppies', 'Namibia', 'Proleukin', 'love', 'Pitfalls', 'olds', 'injections', 'element', 'shoppers', 'count', 'aim', 'Index', 'integrity', 'sentencings', 'upswing', 'reassessment', 'one-half', 'swaps', 'statistics', 'survivors', 'hunger', 'snakes', 'Time', 'consortium', 'bunch', 'Plan', 'domination', 'Rewards', 'Weill', 'offer', 'shopping', 'Schneider', 'machetes', 'depth', 'toddler', 'setbacks', 'low', 'Claudio', 'master', 'outsider', 'Palmero', 'mastermind', 'depositors', 'atrocities', 'identification', 'Aristech', 'moniker', 'dissolution', 'ethics', 'sigh', 'events', 'sphere', 'significance', 'franchisees', 'acorns', 'realm', 'infection', 'vigor', 'telephone', 'Berlitz', 'seal', 'third', 'foundation', 'carriers', 'sights', 'exchange', 'references', 'LIN', 'minds', 'reinvestment', 'undertakings', 'appreciation', 'intensity', 'dialogue', 'drag', 'contrast', 'stays', 'sums', 'Nature', 'fault', 'analyst', 'tab', 'vicitims', 'Doctrine', 'prizes', 'heads', 'crusade', 'speculators', 'deterrent', 'hours', 'dementia', 'obstacles', 'CBS', 'nurses', 'judges', 'sell-off', 'sentence', 'horns', 'trucks', 'Shannon', 'Lincoln', 'wasteland', 'Sandinistas', 'attorneys', 'Grand', 'obsession', 'points', 'cellars', 'professor', 'resemblance', 'prescriptions', 'conclusion', 'procedures', 'registrants', 'operation', 'write-downs', 'survivor', 'penchant', 'owner', 'women', 'opening', 'Jays', 'chiefs', 'crackdown', 'cadet', 'cause', 'Koskotas', 'catamaran', 'baseball', 'estimate', 'Aikman', 'indexes', 'EG&G', 'tower', 'dimension', 'versions', 'fraction', 'crowds', 'Saatchi', 'luxury', 'ban', 'peace', 'irony', 'opinion', 'sex', 'works', 'patterns', 'bouts', 'imagination', 'pillar', 'velocity', 'drumroll', 'ocean', 'Sasser', 'ends', 'acquirer', 'tens', 'cushion', 'No.', 'reservation', 'facilities', 'authority', 'Iran', 'practice', 'half-share', 'credentials', 'article', 'worm', 'coordination', 'dissenter', 'purchases', 'comeback', 'ghost', 'Tower', 'renown', 'pleas', 'Edelson', 'downturn', 'Luber', 'disservice', 'charity', 'BMW', 'venture', 'report', 'Mistake', 'SEC', 'Starzl', 'tube', 'shipsets', 'overreaction', 'witness', 'reunification', 'reflection', 'machinery', 'miscarriages', 'lifts', 'treasury', 'refund', 'GEC', 'Bush', 'exception', 'increases', 'exploration', 'knees', 'Guber', 'buyers', 'course', 'paraphernalia', 'thanks', 'direction', 'fashions', 'clinics', 'Taylor', 'compensation', 'soldiers', 'maze', 'refunds', 'freeze', 'double-decking', 'toys', 'satisfaction', 'casino', 'twists', 'delivery', 'name', 'resignation', 'profits', 'responsibility', 'forces', 'testimony', 'opportunities', 'podium', 'quarters', 'stations', 'customer', 'item', 'March', 'domestic-production', 'secret', 'Heineken', 'Bank', 'conviction', 'rye', 'S&P', 'Nissan', 'synergy', 'June', 'Calverley', 'repression', 'opinions', 'tunnels', 'highways', 'reversal', 'Daiwa', 'transaction', 'insider', 'directors', 'unraveling', 'restatement', 'Corvette', 'gimmicks', 'spice', 'theft', 'micro-liquidity', 'volatility', 'calling', 'packages', 'beheading', 'calm', 'McDermott', 'CEO', 'aide', 'occurrence', 'searches', 'battle', 'volumes', 'minute', 'pimps', 'ton', 'flowers', 'college', 'bearing', 'autographs', 'parties', 'editorial', 'similarities', 'culture', 'Mason', 'dividend', 'repayment', 'pills', 'area', 'treasure-trove', 'exports', 'mother', 'brothers', 'arguments', 'acceptances', 'service', 'hotel-casino', 'minicars', 'network', 'Steinberg', 'dominance', 'Eurobond', 'solution', 'bricks', 'look', 'entry', 'scholar', 'wavering', 'retribution', 'Pankyo', 'overuse', 'recall', 'necessities', 'Nixon', 'day', 'rush', 'bombing', 'subcontractors', 'banks', 'hoards', 'chapter', 'gallery', 'speculation', 'centerpiece', 'harassment', 'paychecks', 'handful', 'century', 'permission', 'Davis', 'windfalls', 'U.S.', 'dispatches', 'view', 'replay', 'sheaths', 'economist', 'meaning', 'maturities', 'helicopters', 'review', 'Malson', 'evening', 'Spain', 'thriller', 'jail', 'efficiency', 'clutter', 'pair', 'phenomenon', 'backing', 'hassles', 'enforcement', 'families', 'passion', 'propriety', 'ideas', 'Cowboys', 'productivity', 'rides', 'hour', 'guide', 'burden', 'double-A', 'overstatement', 'husband', 'tanks', 'magazine', 'cells', 'tumors', 'walls', 'charges', 'rain', 'plug', 'earnings', 'facsimiles', 'decks', 'diet', 'ways', 'flaws', 'supplement', 'Lingus', 'appearance', 'Courthouse', 'buy-back', 'fraud', 'underwritten', 'row', 'decade', 'billions', 'failures', 'sons', 'retirees', 'passengers', 'terminal', 'commerce', 'nameplate', 'commander', 'device', 'barometer', 'scandals', 'manager', 'Laff', 'sterling', 'stream', 'pitches', 'accuracy', 'rules', 'sins', 'idiocy', 'fire', 'tables', 'illustrations', 'triumph', 'trends', 'supplies', 'presents', 'expenses', 'Bancroft', 'list', 'parity', 'breadth', 'mayor', 'filing', 'citizens', 'Cowan', 'Afghanistan', 'collage', 'jury', 'pull-out', 'wedge', 'ravages', 'bakeries', 'shot', 'horse-breeding', 'bunt', 'Congo', 'shuttles', 'Milunovich', 'conversations', 'View', 'holder', 'roads', 'Bates', 'Comfort', 'gardens', 'measures', 'owners', 'fate', 'Teich', 'mutation', 'document', 'transport', 'mail', 'infamy', 'Co.', 'skins', 'means', 'relationship', 'value', 'tension', 'thinker', 'topics', 'apprehensions', 'feeling', 'lapse', 'India', 'donations', 'corpse', 'schedules', 'clock', 'officer', 'voting', 'preamble', 'congressman', 'probability', 'start-up', 'projection', 'roster', 'Order', 'conversation', 'Fund', 'push', 'supervisor', 'pig', 'Patients', 'command', 'defenses', 'duel', 'chance', 'authorization', 'likelihood', 'enactment', 'province', 'leap', 'stewards', 'changing', 'February', 'detectors', 'souring', 'sample', 'hideouts', 'reference', 'upside', 'pain', 'microbes', 'card', 'emeritus', 'discrimination', 'dropper', 'selection', 'dent', 'pessimism', 'Journal', 'trust', 'limitations', 'Pilson', 'everything', 'bastion', 'violence', 'discount', 'Chemical', 'spending', 'drink', 'meetings', 'reversals', 'proposals', 'hopes', 'Barclay', 'division', 'inches', 'individual', 'surrogate', 'arms', 'abandonment', 'shred', 'sideshow', 'eighth', 'renewal', 'restrictions', 'harmony', 'mailing', 'Antolini', 'Stage', 'privileges', 'Sisulu', 'reams', 'favors', 'commission', 'concession', 'Act', 'countries', 'crime', 'pasture', 'McFadden', 'Armenians', 'apologies', 'concessions', 'distillery', 'consequence', 'payout', 'mist', 'weight', 'experimentation', 'Kabul', 'ball', 'reshuffling', 'blacks', 'traders', 'Honecker', 'sentiment', 'string', 'EMPLOYEES', 'tasks', 'race', 'consciousness', 'bars', 'repeaters', 'rescue', 'portrait', 'well', 'pistol', 'hope', 'steel', 'trappings', 'creation', 'Noriega', 'thrust', 'MacDonald', 'portfolio', 'retreat', 'outflows', 'portable', 'caches', 'spot', 'worries', 'protocol', 'cocoa', 'Koreans', 'fine', 'cameo', 'Briggs', 'strides', 'locals', 'diminution', 'lobbyist', 'era', 'connections', 'Again', 'deals', 'professionalism', 'impersonations', 'chain', 'batch', 'Haines', 'junkets', 'shows', 'hug', 'exemptions', 'silver', 'bugs', 'evaluations', 'motions', 'two-hundredths', 'Isacsson', 'affiliate', 'recurrence', 'broadcasting', 'adjusters', 'punishment', 'runners', 'Dollar', 'directive', 'emergence', 'perceptions', 'Chandross', 'eyewitness', 'past', 'Quebecor', 'cage', 'escalation', 'Ostrager', 'mergers', 'goals', 'correlation', 'age', 'filings', 'barrels', 'consent', 'effect', 'delisting', 'collectors', 'massacre', 'prisoner', 'compatibility', 'Shopkorn', 'stab', 'future', 'Council', 'slowdown', 'beneficiaries', 'achievement', 'MIDDLEMAN', 'Goodfriend', 'levy', 'Cheer', 'tariffs', 'Heinhold', 'lining', 'allegations', 'seminars', 'episodes', 'affiliation', 'toes', 'fear', 'Cela', 'Mondays', 'fee', 'apartment', 'shareholder', 'forest', 'coupon', 'center', 'history', 'check', 'fines', 'move', 'metal', 'exerpts', 'Chevy', 'Sunbird', 'lire', 'certificates', 'proliferation', 'hank', 'delegates', 'repeat', 'quacks', 'workers', 'pay', 'breakdown', 'designs', 'Democrats', 'argument', 'branch', 'microprocessor', 'discipline', 'checks', 'predilection', 'statute', 'Institute', 'reign', 'suits', 'reductions', 'redoubt', 'Federation', 'groups', 'Board', 'line', 'halt', 'debris', 'ghosts', 'outgrowth', 'TC', 'directives', 'plans', 'fugitives', 'penalty', 'Reasoner', 'fishing', 'oasis', 'magazines', 'AZT', 'heart', 'pass', 'inventiveness', 'commitment', 'profit-taking', 'objections', 'commodities', 'flavor', 'logos', 'eagerness', 'sentences', 'warm-up', 'IRS', 'features', 'casinos', 'business', 'dividends', 'rebate', 'playwright', 'elite', 'relationships', 'stopper', 'killing', 'WWOR', 'debate', 'Gen-Probe', 'organs', 'dynamite', 'weather', 'semblance', 'consents', 'spirit', 'Tokyo', 'libel', 'secrets', 'Poland', 'lab', 'craft', 'Deng', 'elections', 'originations', 'license', 'year', 'club', 'furor', 'destruction', 'misquotation', 'financier', 'imponderable', 'fresco', 'drill', 'help', 'circuits', 'credit-worthiness', 'estimates', 'sugar', 'proposal', 'baby', 'initiative', 'rioting', 'reminder', 'court', 'uses', 'audience', 'balls', 'contacts', 'credit-ratings', 'appendages', 'near-monopoly', 'honorarium', 'household', 'tongue', 'sinking', 'Rostenkowski', 'divisions', 'family', 'famine', 'districts', 'traces', 'equivalents', 'publisher', 'synthesis', 'transplants', 'indexation', 'loyalty', 'Brown', 'abstracts', 'recovery', 'soul', 'captives', 'Inc.', 'attempt', 'association', 'decrease', 'standards', 'Group', 'KKR', 'reward', 'pricing', 'duties', 'orders', 'pricecutting', 'counting', 'pile', 'belongings', 'rollers', 'tips', 'fit', 'uneasiness', 'meeting', 'size', 'drive', 'part', 'delegation', 'alternatives', 'injection', 'partnerships', 'tickets', 'pursuit', 'marketing', 'psychology', 'Republican', 'referendum', 'annuities', 'S&L', 'worth', 'amplifiers', 'consolidation', 'wardens', 'pettiness', 'Hub', 'wagon', 'scrape', 'characters', 'blame', 'pawn', 'cache', 'advancement', 'shipments', 'runs', 'rooms', 'effects', 'leads', 'trap', 'extensions', 'plea', 'par', 'parents', 'cattle', 'platitudes', 'yards', 'instruction', 'pall', 'receipt', 'election', 'premiere', 'price', 'languages', 'firms', 'official', 'violation', 'Viacom', 'endeavors', 'infusion', 'countersuit', 'slip', 'maintainence', 'rose', 'Ozal', 'station', 'trips', 'Baltimore', 'bra', 'co-chairman', 'highs', 'Bearings', 'leaders', 'expenditures', 'declines', 'series', 'intimacy', 'Ravitz', 'rift', 'tip', 'acquisition', 'Rouge', 'certainty', 'methods', 'determination', 'whereabouts', 'English', 'priority', 'Office', 'setting', 'plenty', 'drain', 'relevancy', 'news', 'ads', 'purchase', 'replacement', 'talk', 'UAL', 'Turner', 'computers', 'memo', 'divide', 'coup-makers', 'horrors', 'nose', 'predecessors', 'eye', 'amendment', 'non-user', 'default', 'smattering', 'accent', 'payouts', 'hackles', 'Gray', 'levamisole', 'views', 'treatment', 'identity', 'office', 'chassis', 'triage', 'comment', 'modifications', 'neighborhood', 'Jaguar', 'total', 'cost', 'stuff', 'sensitivity', 'Wednesdays', 'nest', 'Barakat', 'boxes', 'component', 'favorite', 'briefing', 'pipelines', 'efficiencies', 'arrest', 'revenge', 'narrator', 'pride', 'programs', 'guarantees', 'videotapes', 'marriage', 'energies', 'twist', 'sponsors', 'management', 'humor', 'registration', 'resort', 'site', 'diamond', 'opportunity', 'Legent', 'situation', 'mold', 'insurers', 'neutrons', 'protein', 'shivers', 'mischief', 'Apple', 'Satisfaction', 'bales', 'licenses', 'subscribers', 'maid', 'thought', 'dearth', 'dinner', 'opponents', 'protagonist', 'cult', 'diagnosis', 'anniversary', 'inflation-fighting', 'Scot', 'swing', 'client', 'employee', 'dilution', 'freefall', 'gasoline', 'bowl', 'Dracula', 'stakes', 'credibility', 'proceeding', 'termination', 'performances', 'DeBat', 'outrage', 'bike', 'bugaboo', 'interpretation', 'mileage', 'importance', 'distaste', 'attacks', 'relocation', 'pilots', 'prosecution', 'footsteps', 'refrigerators', 'creativity', 'apple', 'explusion', 'return', 'pants', 'temblor', 'import', 'fare', 'affairs', 'ideals', 'peculiarities', 'appetite', 'Nasdaq', 'jillions', 'glare', 'funds', 'notes', 'Tele-Communications', 'bourbons', 'wives', 'carrot', 'risks', 'drops', 'carnival', 'ringer', 'grounding', 'dormitory', 'sanctions', 'sledding', 'teachers', 'Howard', 'claim', 'recording', 'quarterly', 'resilience', 'ray', 'blue-chips', 'transistors', 'Bill', 'grandchildren', 'Guinness', 'glamour', 'Brissette', 'socks', 'combat', 'Massachusetts', 'debt', 'sale', 'fleet', 'current', 'sun', 'treaty', 'prosperity', 'repurchase', 'nation', 'comments', 'arsenals', 'execution', 'commercials', 'a.m.', 'dialing', 'trail', 'education', 'stockholders', 'percentage', 'crude', 'others', 'allies', 'glimpse', 'flurry', 'album', 'categories', 'conservatives', 'strain', 'tracks', 'planning', 'LeMans', 'Leavitt', 'student-athlete', 'confidence', 'concomitant', 're-creactions', 'surtax', 'privatization', 'institution', 'recession', 'compiler', 'Bancorp.', 'novel', 'shareholders', 'breaker', 'loss', 'trouble', 'trend', 'managers', 'fools', 'flashes', 'fires', 'write-down', 'trains', 'payers', 'shutdown', 'exit', 'dive', 'changes', 'mood', 'object', 'chaos', 'vassals', 'footage', 'crops', 'undertone', 'alliances', 'damage', 'prerogatives', 'basis', 'hands', 'study', 'Bronx', 'reprieve', 'Harwood', 'gun', 'achievements', 'terrorism', 'Kodak', 'tipsters', 'editor', 'lack', 'trustee', 'attractiveness', 'strategies', 'apartments', 'newscast', 'Boies', 'Ms.', 'secretary', 'fights', 'compressors', 'Age', 'movie', 'reporters', 'tenth', 'analysts', 'protesters', 'confrontation', 'Swanson', 'counterclaims', 'friends', 'challenge', 'interviews', 'staff', 'tools', 'settlements', 'Franz', 'McCall', 'exhibit', 'housing', 'kickbacks', 'disagreement', 'beginning', 'mechanism', 'swig', 'quota', 'Workers', 'ring', 'match', 'commonwealth', 'appointment', 'headquarters', 'party', 'action', 'scripts', 'Thought', 'blow', 'defeat', 'functioning', 'usage', 'lesson', 'followers', 'requirement', 'fancy', 'deficiencies', 'journey', 'tons', 'FASB', 'ratios', 'reception', 'departments', 'incursion', 'model', 'Navy', 'principles', 'shop', 'assertions', 'habitats', 'yields', 'character', 'soil-nutrients', 'anguish', 'homemaker', 'show', 'glimmer', 'answer', 'seats', 'Tide', 'missions', 'score', 'spinoff', 'Read', 'kronor', 'detergents', 'Mixte', 'wheat', 'property', 'sellers', 'charities', 'verdicts', 'survey', 'co-founder', 'requirements', 'Morgan', 'segment', 'rethink', 'Rothschilds', 'diplomacy', 'overseers', 'catch-up', 'stay', 'Medical', 'emotion', 'pull', 'Series', 'Panamanian', 'regime', 'assessment', 'post', 'approvals', 'ignorance', 'hotel', 'speech', 'mainstay', 'Irises', 'House', 'protests', 'bar', 'rent', 'prices', 'sound', 'hunt', 'piece', 'equipment', 'labels', 'Contras', 'bowling', 'doctor', 'paths', 'demonstrations', 'evidence', 'Show', 'bull', 'adults', 'Ball', 'disease', 'amount', 'letters', 'subsidiary', 'restaurants', 'minutes', 'Kirkendall', 'good', 'ambiguities', 'expansion', 'manufacturing', 'inventories', 'herbicides', 'debates', 'endorsement', 'meditation', 'part-owner', 'Departments', 'accident', 'coalition', 'fumes', \"somethin'\", 'Frankfurt', 'composites', 're-election', 'institutions', 'kernel', 'touching', 'comfort', 'candor', 'mainframes', 'formality', 'Eastern', 'reaction', 'schools', 'admission', 'Boesky', 'accusations', 'footing', 'reorganization', 'rejection', 'appeals', 'shame', 'rows', 'dignity', 'Tuesday', 'churches', 'ISI', 'sparkle', 'civilians', 'window', 'victim', 'cord', 'survival', 'Silas', 'accounting', 'back', 'chunks', 'veto', 'reduction', 'Francisco', 'chauffeurs', 'condominium', 'proportions', 'snags', 'wigs', 'power', 'cracks', 'appeal', 'postponement', 'color', 'investment', 'auction', 'parade', 'Lombardo', 'errors', 'hike', 'lead', 'Fromstein', 'resiliency', 'artifact', 'communists', 'jurisdiction', 'originators', 'scientists', '12-inches', 'Alar', 'food', 'notices', 'sector', 'bottom', 'kids', 'eyebrows', 'sites', 'unit', 'tomorrow', 'Camaro-Firebird', 'cascade', 'Semel', 'team', 'megaquestions', 'inflation', 'stones', 'government', 'tabloid', 'limit', 'centuries', 'shvartze', 'question', 'Plant', 'heroine', 'deviation', 'newcomers', 'hoisting', 'cutting', 'chill', 'participation', 'distribution', 'Pepsi', 'baskets', 'hitches', 'excerpts', 'northeast', 'beeping', 'panel', 'collapse', 'bias', 'refuge', 'sweep', 'Leagues', 'propane', 'voices', 'hearing', 'lull', 'times', 'virus', 'commonality', 'provision', 'MGM', 'adviser', 'instruments', 'possiblity', 'gauge', 'prospect', 'fascists', 'revival', 'shortcut', 'brainchild', 'shoe', 'Selassie', 'returns', 'promotions', 'dwellings', 'improvement', 'feud', 'plan', 'prospectus', 'Savings', 'thinking', 'category', 'Emerson', 'rivalry', 'deductions', 'atmosphere', 'investigation', 'issuance', 'stretches', 'moratorium', 'Torrijos', 'reforms', 'neckties', 'identities', 'arithmetic', 'suggestions', 'option', 'Taber', 'exchanges', 'Hayes', 'Florio', 'support', 'Express', 'Jeep', 'beating', 'Smith', 'bill', 'hints', 'empire', 'bottle', 'Dutch', 'buddy', 'houses', 'program', 'reporter', 'titles', 'fields', 'capital-assets', 'performer', 'preparation', 'industries', 'bonuses', 'effectiveness', 'ordinance', 'Peterson', 'appropriation', 'F', 'Lidgerwood', 'organisms', 'iteration', 'fruits', 'placing', 'advisory', 'University', 'presses', 'California', 'ink', 'bankruptcies', 'assembly', 'inefficiency', 'host', 'stranger', 'careers', 'bucks', 'foray', 'bet', 'packet', 'delay', 'hires', 'users', 'ups', 'application', 'contact', 'bases', 'grades', 'motorist', 'bishop', 'memorialist', 'opener', 'yesterday', 'visitors', 'wreckage', 'ceremony', 'tone', 'NASA', 'Bloomingdale', 'readings', 'anathema', 'soulmates', 'partners', 'burns', 'Unisys', 'Jibril', 'Eurodebt', 'deduction', 'channels', 'democracy', 'chauvinism', 'warranty', 'airlift', 'Feinman', 'convocation', 'copyrights', 'border', 'Foods', 'stimulators', 'feet', 'milk', 'involvement', 'alarm', 'closing', 'acres', 'Bolling', 'party-giving', 'lawyers', 'advocate', 'collection', 'movement', 'representative', 'Wagg', 'Chimerine', 'links', 'tumor', 'North', 'counterpart', 'deductibility', 'loan', 'illustration', 'importer', 'vehicles', 'infringement', 'scheme', 'McGlade', 'Brouwer', 'Boren', 'soundness', 'planners', 'recipes', 'salesman', 'vacationers', 'duels', 'pit', 'suntan', 'predicament', 'CDs', 'Day', \"D'Arcy\", 'exporter', '757', 'executions', 'Discovision', 'immunity', 'years', 'painting', 'lobbying', 'Lufkin', 'overdependence', 'vacuum', 'lounge', 'charge', 'one-upsmanship', 'Fifth', 'behavior', 'images', 'flunky', 'wife', 'taste', 'innocents', 'outlook', 'White', 'streptokinase', 'impact', 'Pentagon', 'apples', 'pencils', 'desecration', 'dealer-manager', 'critic', 'Barber', 'extinction', 'spittle', 'sorts', 'Command', 'dangers', 'spacecraft', 'percentages', 'someone', 'omission', 'crooks', 'RATIOS', 'Lavelle', 'warning', 'caseload', 'photocopiers', 'estate', 'feed', 'bundles', 'entrepreneur', 'fashionable', 'product', 'soot', 'Philippines', 'load', 'store', 'A', 'elements', 'breakers', 'cable-TV', 'vision', 'indication', 'teaspoons', 'prize', 'discrepancy', 'finding', 'backwater', 'resolution', 'appointments', 'Cohen', 'Australia', 'deal', 'corrections', 'blue', 'headaches', 'Freres', 'offering', 'Mechanisms', 'activists', 'forecast', 'debentures', 'ships', 'shortage', 'chlorofluorocarbons', 'aftereffects', 'disbanding', 'petition', 'outfielders', 'barrage', 'boom', 'fabric', 'Protection', 'buyer', 'mistakes', 'end', 'wires', 'perfection', 'salespeople', 'violations', 'streak', 'lanes', 'subcommittee', 'surface', 'wrap', 'reputation', 'remorse', 'insensitivity', 'members', 'Republic', 'memory', 'wastes', 'bind', 'distributors', 'Cichan', 'airtime', 'consultants', 'challenges', 'recipe', 'Constitution', 'divergence', 'Dow', 'sign', 'insurance', 'settlement', 'GE', 'subsidies', 'hacker', 'merger', 'finger', 'elbows', 'uniformity', 'allocation', 'bedrock', 'Carvain', 'gnawing', 'McCarthy', 'pence', 'cue', 'paper', 'rotation', 'magic', 'hospital', 'crews', 'presence', 'revenue', 'Blackmun', 'permanence', 'environment', 'contingency', 'housewives', 'salmonella', 'meat', 'checkbooks', 'portrayal', 'reach', 'frustration', 'masters', 'toehold', 'lines', 'Secretary', 'banker', 'senator', 'Georgia-Pacific', 'imbalances', 'gas', 'prepayments', 'reliance', 'deposits', 'impasse', 'campaign', 'Rogers', 'injunction', 'efforts', 'dollar', 'Steinbach', 'plaudits', 'commodity', 'sensors', 'scorn', 'single-A-minus', 'Peters', 'extent', 'island', 'afternoon', 'redevelopment', 'standing', 'microcosm', 'reality', 'takeovers', 'blacklisting', 'politician', 'conclusions', 'units', 'building', 'endorsements', 'narrowing', 'agent', 'Texaco', 'townhouses', 'foul-up', 'Hills', 'PLC', 'term', 'computer', 'bursts', 'criticism', 'fiddle', 'Mastergate', 'top', 'God', 'mayoralty', 'quotations', 'Blondes', 'troops', 'insult', 'cents', 'goods', 'approach', 'prelude', 'chairman', 'stock', 'exploits', 'school', 'Dictionary', 'crowd', 'sway', 'Volvo', 'perception', 'sports', 'nail', 'reservations', 'theme', 'validity', 'plunge', 'distance', 'episode', 'anyone', 'defendants', 'benchmark', 'whitewash', 'package', 'prince', 'correspondent', 'landfall', 'days', 'goings-on', 'Baker', 'bets', 'raise', 'whimpers', 'portion', 'bonanza', 'domain', 'windshield', 'shoulder', 'International', 'newsletter', 'needs', 'experts', 'windows', 'notice', 'overhaul', 'Vaezi', 'negotiations', 'wounds', 'authors', 'warfare', 'statement', 'landmark', 'cornerstone', 'litigation', 'cleanup', 'pages', 'stadium', 'story', 'documents', 'bidder', 'frenzy', 'track', 'walkouts', 'cell', 'Port', 'comedy', 'undoing', 'bones', 'yearning', 'drinking', 'tags', 'literature', 'fix', 'dog', 'serials', 'Fish', 'pleasure', 'face', 'legitimacy', 'fouling', 'truck', 'Filipino', 'redemption', 'places', 'understanding', 'footnote', 'Lang', 'Edwards', 'paeans', 'disbursements', 'adjustments', 'increase', 'over-allotment', 'plant', 'wood', 'raises', 'incentives', 'Basin', 'profitability', 'cycles', 'Holt', 'result', 'Legend', 'callers', 'controller', 'copy', 'Parliament', 'ride', 'agenda', 'introduction', 'pretensions', 'naggings', 'chains', 'gridlock', 'magnet', 'showing', 'limbs', 'narrative', 'spokesman', 'handicap', 'Bronner', 'dynamism', 'cut', 'flags', 'headache', 'chairmanship', 'losses', 'redistributionism', 'Berkeley', 'rallies', 'base', 'bids', 'disaster', 'deficit', 'camera', 'counsel', 'leg', 'lives', 'leaves', 'motives', 'Burke', 'technology', 'Aeroflot', 'Hyman', 'evolution', 'signs', 'heavens', 'engineers', 'tour', 'sideline', 'cans', 'explosion', 'decline', 'murder', 'concentrate', 'dishes', 'bribe', 'reaches', 'Maddie', 'veteran', 'items', 'planes', 'camaraderie', 'firm', 'supervision', 'Ortega', 'threat', 'clearance', 'residence', 'slurs', 'contempt', 'abducted', 'receptivity', 'toll', 'Gulf', 'proportion', 'typhoons', 'Saveth', 'machine', 'maps', 'timetable', 'discussion', 'lawyer', 'kudos', 'signatures', 'guy', 'Tack', 'bid', 'numerator', 'indications', 'Gramm-Rudman', 'bicycle', 'manifestation', 'TV', 'curb', 'chemistry', 'counterclaim', 'Hekhmatyar', 'resistance', 'manufacture', 'clients', 'breakup', 'misstatements', 'attachment', 'control', 'ranges', 'prescription', 'politics', 'segments', 'assessments', 'fleets', 'trailer', 'vehicle', 'journal', 'restructure', 'halts', 'appropriations', 'specialist', 'celebration', 'obligation', 'expiration', 'accomplishments', 'prospects', 'incentive', 'experiment', 'need', 'fees', 'adapting', 'rite', 'buckets', 'variations', 'pioneers', 'weeks', 'dictator', 'Ruth', 'nobility', 'crew-rest', 'photo', 'Organization', 'developers', 'symmetry', 'Kate', 'underwriting', 'commute', 'nameplates', 'recourse', 'wealth', 'experiments', 'strikes', 'spreadsheet', 'decliners', 'finance', 'degree', 'colony', 'GNP', 'fixture', 'function', 'pluses', 'Marine', 'scrutiny', 'breakthrough', 'light', 'dealer', 'mix', 'smell', 'melding', 'bloodbath', 'Airlines', 'affair', 'differences', 'signals', 'spelling', 'fight', 'certificate', 'discrepancies', 'victims', 'Krenz', 'project', 'Sept.', 'Service', 'assault', 'half-an-hour', 'Chile', 'boardroom', 'friendship', 'Prop.', 'anything', 'nostalgia', 'core', 'mementos', 'AT&T', 'roles', 'Lopez', 'agents', 'roll', 'obfuscation', 'general', 'Treaty', 'miles', 'equities', 'agendas', 'conductor', 'buffer', 'cross', 'developments', 'reserves', 'laws', 'outlays', 'boosts', 'deterioration', 'ingredients', 'brand', 'norms', 'prestige', 'scene', 'Needs', 'laggard', 'letter', 'tinkering', 'beaches', 'figure', 'harbinger', 'life', 'expertise', 'remarketings', 'reports', 'monopoly', 'couple', 'LeFrere', 'limits', 'Rubenstein', 'shadow', 'recordings', 'brim', 'examination', 'bosses', 'watts', 'vendor', 'process', 'rate', 'sanctity', 'improviser', 'occupation', 'microphones', 'colleagues', 'abuses', 'disruption', 'shareholding', 'GATT', 'upsurge', 'Maalox', 'gains', 'membership', 'engine', 'Jan.', 'cease-fire', 'exhibition', 'bedlam', 'Doubleday', 'chip', 'carrier', 'toy', 'rule', 'carpets', 'uncertainty', 'triple-A', 'Japanese', 'co-author', 'alternative', 'representation', 'liberal', 'cap', 'emphasis', 'advocates', 'packaging', 'awareness', 'airwaves', 'colors', 'shield', 'brief', 'craftsmen', 'spigots', 'horizons', 'design', 'conversion', 'buttons', 'labs', 'declaration', 'models', 'carping', 'connotations', 'underwriters', 'point', 'producer', 'securities', 'parent', 'dissection', 'tests', 'attractions', 'shelves', 'blends', 'economies', 'Development', 'CFCs', 'volume', 'co-existence', 'Greif', 'machines', 'lubricant', 'agreement', \"'d\", 'rise', 'Dec.', 'men', 'approval', 'liberties', 'problem', 'slap', 'constraint', 'industry', 'PCs', 'average', 'Ross', 'friendships', 'treatments', 'Giroldi', 'anxiety', 'interests', 'setback', 'presentation', 'analyses', 'doubt', 'croaker', 'Aug.', 'substitute', 'weapon', 'erosion', 'commentaries', 'tiles', 'remark', 'city', 'sentencing', 'advantage', 'yield', 'rundown', 'gallons', 'audiences', 'Quantum', 'oversight', 'damages', 'sport', 'selections', 'tires', 'supporters', 'fads', 'offices', 'Nightwatch', 'usability', 'aids', 'tea', 'Miller', 'compliments', 'state', 'concern', 'undercurrent', 'march', 'seating', 'MPD', 'Food', 'intent', 'issue', 'conditions', 'task', 'refinancing', 'commentary', 'reins', 'downdraft', 'heap', 'percent', 'Midler', 'touches', 'father', 'guilders', 'stages', 'exhibitions', 'powers', 'speeding', 'dealings', 'queen', 'provisions', 'Delicious', 'Mall', 'ceilings', 'Sunday', 'struggles', 'safety', 'grounds', 'dogs', 'pizzazz', 'lands', 'piano', 'electrodes', 'revenues', 'pace', 'minefields', 'rage', 'subject', 'use', 'questions', 'televisions', 'consideration', 'HBO', 'pacts', 'call', 'drug', 'heroes', 'seat', 'capital', 'volcano', 'ESPs', 'disclosure', 'jumps', 'clash', 'Gupta', 'undergirding', 'confusion', 'tenders', 'none', 'proceeds', 'outlets', 'pangs', 'sedan', 'therapists', 'Puttnam', 'reputations', 'resignations', 'cola', 'troublemakers', 'beer', 'conference', 'event', 'landowner', 'brands', 'bacon', 'Levin', 'exemption', 'walk', 'glimpses', 'strengths', 'contamination', 'peninsula', 'corn', 'Life', 'nests', 'book', 'periods', 'wave', 'rocks', 'UV-B', 'withdrawal', 'presidents', 'infractions', 'stop', 'bodies', 'nights', 'skids', 'conflict', 'Vigdor', 'District', 'Adler', 'applications', 'Drexel', 'retirement', 'Army', 'cards', 'union', 'Kristin', 'buy-out', 'types', 'researcher', 'star', 'slump', 'weekdays', 'shah', 'redemptions', 'thousands', 'shortfall', 'beauty', 'residents', 'insistence', 'number', 'driving', 'shuttle-busing', 'nervousness', 'weightings', 'sort', 'franchisee', 'bulk', 'export', 'answers', 'pound', 'flashlights', 'B.V.', 'chores', 'Chinese', 'cycle', 'slew', 'chunk', 'revisions', 'bidding', 'Harbors', 'pregnancy', 'swat', 'emissions', 'lackeys', 'Flom', 'swap', 'documentary', 'Germans', 'Palestinian', 'anybody', 'branches', 'signature', 'costumes', 'helicopter', 'Vacation', 'costs', 'benefits', 'responses', 'aria', 'seasons', 'demise', 'amounts', 'judge', 'preaching', 'proposition', 'rand', 'flights', 'write-off', 'procession', 'successor', 'pull-backs', 'indictments', 'Agency', 'constituency', 'mess', 'October', 'blunder', 'salaries', 'bus', 'likes', 'leader', 'insects', 'Mitchell', 'slick', 'middlemen', 'characterization', 'region', 'scope', 'fact', 'discussions', 'place', 'Trelleborg', 'request', 'magnitude', 'agencies', 'megawatts', 'commercial', 'summit', 'rewards', 'brushes', 'approaches', 'David', 'Fletcher', 'harm', 'case', 'refugees', 'softening', 'levels', 'preparedness', 'chapters', 'gifts', 'manufacturers', 'Prize', 'joke', 'crash', 'catheter', 'receipts', 'availability', 'notion', 'grant', 'Fujis', 'Tiffany', 'SKr29', 'promise', 'background', 'splints', 'refurbishment', 'doors', 'apprehension', 'improvements', 'shortcomings', 'ceiling', 'Khan', 'succession', 'brochures', 'extension', 'passage', 'excuses', 'bag', 'text', 'comptroller', 'standing-room', 'submarine', 'supports', 'connection', 'IBM', 'KOFY', 'Giants', 'oversupply', 'Fox', 'band', 'body', 'overlay', 'system', 'hostage', 'preview', 'Corp.', 'fortune', 'generation', 'laptops', 'peak', 'vacancies', 'Segar', 'Leigh-Pemberton', 'productions', 'anticipation', 'personnel', 'drinks', 'Well', 'fertilizer', 'Texans', 'clouds', 'line-up', 'disorder', 'doldrums', 'drama', 'rumors', 'obeisance', 'pencil', 'idea', 'embroidery', 'Germany', 'carry-forward', 'Realty', 'ideology', 'Jupiter', 'say', 'resentment', 'Pemex', 'bit', 'key', 'Franklin-Trout', 'experience', 'analysis', 'inventor', 'incidence', 'techniques', 'realities', 'phalanx', 'implications', 'imports', 'whispering', 'incompatibility', 'campaigns', 'cry', 'Huntsman', 'Korea', 'arrangement', 'Petroleum', 'hanging', 'floor', 'advances', 'accumulation', 'mine', 'allowance', 'Carver', 'disdain', 'counterbid', 'cones', 'climb', 'listening', 'manuals', 'gold', 'sedans', 'America', 'sight', 'paradox', 'franchise', 'single-A', 'glucose', 'Kidder', 'hatred', 'fruit', 'deliveries', 'Sunlight', 'attack', 'beliefs', 'makes', 'yen', 'shakeout', 'visibility', 'person', 'Murphy', 'dockets', 'kinds', 'deckhands', 'spots', 'displays', 'film', 'arbitrage', 'marks', 'RICO', 'media', 'maximum', 'Provigo', 'Ries', 'pension', 'one-third', 'Buente', 'squads', 'officers', 'maneuver', 'withdrawals', 'moderation', 'issuer', 'headlines', 'proceedings', 'uniform', 'necessity', 'positions', 'accommodation', 'salary', 'anthers', 'Axa', 'resource', 'profiles', 'heat', 'blocks', 'shift', 'exclusion', 'sculpture', 'Snedeker', 'aspects', 'buy-outs', 'recognition', 'innocence', 'suit', 'midday', 'hill', 'record', 'debut', 'WCRS', 'threats', 'ratification', 'Comeback', 'clubs', 'nod', 'claims', 'specific', 'controls', 'attitude', 'room', 'economy', 'CD', 'expectation', 'handling', 'rig', 'streets', 'secretaries', 'Realist', 'plastic', 'cotton', 'worker', 'waves', 'postcards', 'tightening', 'lockstep', 'expectations', 'fence', 'Menell', 'kind', 'bushels', 'Politics', 'Grenfell', 'sharing', 'genes', 'allowances', 'whippings', 'surprises', 'order', 'faithful', 'protest', 'interviewer', 'ranks', 'Venice', 'bond', 'centers', 'justification', 'puppets', 'fragility', 'inventors', 'spotlight', 'psyllium', 'scanners', 'steps', 'contender', 'novelties', 'Butler', 'potpourri', 'cutbacks', 'distributer', 'barriers', 'Watergate', 'towns', 'consequences', 'imposition', 'mission', 'stress', 'response', 'detergent', 'output', 'bags', 'growth', 'skill', 'date', 'speakers', 'edge', 'misrepresentations', 'instrument', 'instability', 'utilization', 'nuts', 'Congress', 'inspiration', 'search', 'home', 'buildings', 'hit', 'feel', 'mounds', 'turn', 'encouragement', 'taxpayer', 'MTM', 'ticket', 'Korps', 'evaluation', 'judgment', 'classmates', 'waste', 'WTXF', 'blueprint', 'USX', 'Harrison', 'devaluation', 'sluggishness', 'momentum', 'credits', 'adaptation', 'extrusions', 'quisling', 'President', 'sequel', 'Gorbachev', 'repeal', 'balloon', 'display', 'Oct.', 'ballparks', 'PC', 'confrontations', 'McCammon', 'movements', 'patience', 'Williams', 'skirmish', 'McNamee', 'liberals', 'Respect', 'consensus', 'concrete', 'victory', 'warren', 'liftoff', 'founder', 'stature', 'legislation', 'toe', 'administration', 'smoke', 'injuries', 'excesses', 'luminaries', 'draft', 'archness', 'Jr.', 'racehorses', 'disasters', 'wiggle', 'coins', 'Monday', 'king', 'Shield', 'leaps', 'foot', 'gain', 'resurrection', 'towel', 'longing', 'Hartley', 'acts', 'block', 'training', 'galleries', 'lira', 'bans', 'split', 'supplier', 'offerings', 'Alexander', 'whirlwinds', 'rebound', 'agency', 'objective', 'editors', 'budget', 'coterie', 'choice', 'haunts', 'passports', 'heyday', 'dragger', 'rebels', 'implementation', 'link', 'fun', 'vote', 'month', 'while', 'enough', 'restaurant', 'lots', 'scrubbers', 'breaks', 'two-thirds', 'index', 'distributions', 'shops', 'phrase', \"fancy'shvartzer\", 'spread', 'masks', 'employees', 'viewer', 'precautions', 'ship', 'competition', 'allusions', 'TPA', 'closure', 'TRO', 'Stevens', 'seizures', 'Good-bye', 'havoc', 'notions', 'surge', 'airline', 'gathering', 'reason', 'details', 'fuel', 'Simon', 'courtesy', 'ante', 'Stubblefield', 'interpretations', 'bargains', 'Journalists', 'clarification', 'flames', 'tool', 'Farmers', 'relaxation', 'bureaus', 'image', 'player', 'futures', 'ratio', 'State', 'margins', 'Lot', 'trough', 'Committee', 'homes', 'scabs', 'corner', 'savings', 'ex-dividend', 'grievance', 'board', 'croissants', 'drives', 'Guard', 'ranking', 'inflow', 'functions', 'ones', 'criticisms', 'pockets', 'cancellation', 'stability', 'collar', 'catheters', 'smoking', 'farms', 'steam', 'appropriateness', 'problems', 'giants', 'pipe', 'parallels', 'fallout', 'Glazer', 'courage', 'side', 'queries', 'moments', 'Allianz', 'World', 'surgery', 'forfeiture', 'thumbs-down', 'about-face', 'scores', 'practices', 'rationale', 'prejudices', 'slippage', 'sleaze', 'bullet', 'drugs', 'expense', 'bits', 'meters', 'health', 'home-delivery', 'member', 'barbs', 'paintings', 'Milk', 'helm', 'Phoenix', 'travel', 'complaints', 'impacts', 'Shapovalov', 'maker', 'writer', 'ruble', 'will', 'platform', 'art', 'people', 'thing', 'overtime', 'moves', 'plus', 'responsibilities', 'Tracer', 'voice', 'one-fourth', 'photograph', 'mines', 'wage', 'masses', 'company', 'waivers', 'balm', 'breakage', 'crisis', 'homecoming', 'partner', 'slice', 'research', 'reinsurance', 'avalanche', 'penalties', 'swings', 'similarity', 'assignment', 'prey', 'Sherman', 'hits', 'quotas', 'producers', 'week', 'broker', 'caution', 'releases', 'kings', 'suppliers', 'accord', 'Tehran', 'instructions', 'calls', 'haven', 'shells', 'contracts', 'brokers', 'night', 'August', 'change', 'Israel', 'ad', 'Buffett', 'announcements', 'mention', 'coffee', 'strategy', 'buying', 'lawmakers', 'collateral', 'whole', 'scramble', 'operators', 'audits', 'purposes', 'stocks', 'word', 'snapshots', 'rubles', 'warnings', 'speedup', 'shippers', 'taxes', 'asylum', 'classes', 'synthesizers', 'exclusions', 'Kingdom', 'pattern', 'mass', 'asbestos', 'Nghe', 'surplus', 'tassels', 'plants', 'structure', 'beers', 'decreases', 'array', 'architecture', 'relief', 'wiretaps', 'words', 'Marunouchi', 'custody', 'Tribe', 'damn', 'ouster', 'screenplay', 'excuse', 'revolution', 'Panamanians', 'assets', 'passes', 'quake', 'grade', 'wind', 'Archibald', 'indicator', 'sweat', 'defaults', 'town', 'royalties', 'hog', 'airports', 'tank', 'sense', 'Receipts', 'decree', 'municipality', 'projections', 'defect', 'pursuers', 'nonstops', 'spearhead', 'tribute', 'airport', 'jackets', 'Tigers', 'legacy', 'Sagos', 'borrowings', 'stage', 'promotion', 'moment', 'Straszheim', 'last', 'medicine', 'seriousness', 'Berry', 'edition', 'chords', 'jitters', 'halls', 'complaint', 'mystery', 'anti-abortionists', 'Norwegians', 'rivals', 'whites', 'inspection', 'Hoelzer', 'jetliner', 'freight', 'form', 'regulation', 'recessions', 'Charleston', 'welfare', 'president', 'consulting', 'businesses', 'outbreak', 'half-hour', 'payoff', 'advisers', 'proteins', 'therapy', 'length', 'version', 'properties', 'proxies', 'sources', 'decades', 'goatee', 'confidants', 'Gutfreunds', 'roots', 'Crest', 'solicitor', 'borders', 'terms', 'launch', 'strike', 'openers', 'knowledge', 'Stengel', 'lunch', 'burdens', 'beach', 'development', 'non-event', 'competitor', 'coal', 'departure', 'MLX', 'operator', 'profit', 'decisions', 'affirmation', 'one', 'hard-charging', 'residue', 'leverage', 'protectionism', 'focus', 'ministry', 'leftists', 'healing', 'session', 'Pfeiffer', 'dissatisfaction', 'shareholdings', 'perimeter', 'potatoes', 'reviews', 'permits', 'loans', 'factor', 'collaboration', 'proponent', 'stickler', 'Henning', 'comparison', 'exercises', 'drop-off', 'Burmah', 'inning', 'file', 'LBO', 'inquiry', 'candles', 'spokeswoman', 'rises', 'carpet', 'factory', 'flaps', 'Union', 'data', 'structures', 'wad', 'convictions', 'doses', 'Isuzu', 'uptick', 'put', 'C-17', 'riskiness', 'quantity', 'grasp', 'underwriter', 'offside', 'causes', 'touch', 'Thevenot', 'integration', 'stores', 'sets', 'delays', 'controversy', 'grievances', 'refurbishing', 'trading', 'seeds', 'birthdays', 'pilgrimage', 'commissions', 'message', 'movies', 'preclearance', 'avenue', 'cannon', 'shantytown', 'Senate', 'police', 'consultant', 'knight', 'hybrids', 'break', 'flow', 'Hotel', 'inference', 'variety', 'investments', 'softness', 'game', 'Republicans', 'symptoms', 'S.A.', 'burgs', 'Hispanics', 'patient', 'Rock', 'pullback', 'companies', 'FDA', 'envy', 'Hooker', 'flaw', 'cutouts', 'students', 'verse', 'set', 'Krishnamurthy', 'backlog', 'Paul', 'excitement', 'posts', 'paragraph', 'child', 'Flashdance', 'prohibition', 'Associates', 'rendition', 'racehorse', 'disgorgement', 'documentation', 'May', 'flooding', 'nightmare', 'specimens', 'creators', 'embarrassment', 'meals', 'gratuity', 'wings', 'Campbell', 'drop', 'advertising', 'diamonds', 'inch', 'dialects', 'dependence', 'neighborhoods', 'stopgap', 'representatives', 'microphone', 'markets', 'pieces', 'inclusion', 'frames', 'tenure', 'visitor', 'stalwarts', 'interest', 'organization', 'clarifications', 'columnist', 'candidates', 'Rafales', 'concept', 'parts', 'Stram', 'lagoons', 'progress', 'anger', 'transfer', 'guts', 'removal', 'stretch', 'pool', 'statehood', 'losers', 'energy', 'Safeco', 'Equitec', 'areas', 'bondholders', 'section', 'lawn', 'clips', 'theory', 'outlet', 'distinction', 'cash', 'award', 'pistols', 'financing', 'orchestra', 'F-18s', 'honor', 'danger', 'acquittal', 'VS', 'cent', 'Posner', 'Objections', 'faith', 'door', 'flip-flop', 'July', 'melanin', 'flexibility', 'shtik', 'neck', 'committee', 'amnesty', 'vetoes', 'masseuse', 'denial', 'ingredient', 'turbulence', 'restoration', 'cows', 'averaging', 'parachute', 'recipients', 'Orr', 'allegiance', 'information', 'exceptions', 'placement', 'offshoots', 'outfield', 'actions', 'galaxies', 'photos', 'jobs', 'priorities', 'air', 'desire', 'equivalent', 'cars', 'competitors', 'supply', 'trade', 'lag', 'period', 'champion', 'recommendation', 'decision', 'abolition', 'presidency', 'Press', 'panels', 'location', 'Nov.', 'ground', 'lawsuits', 'audit', 'expression', 'helix', 'weddings', 'convention', 'Rosenthal', 'cuts', 'employer', 'ditto', 'bottles', 'ruling', 'tabs', 'Maidenform', 'nominations', 'publicity', 'Hirschfeld', 'Christmas', 'outflow', 'transportation', 'Starr', 'bourbon', 'litany', 'yearn', 'executive', 'bank', 'Fabric', 'rally', 'mountain', 'witch', 'measurements', 'Coupes', 'rash', 'convulsions', 'exclusivity', 'gist', 'Comments', 'mandate', 'whooper', 'objection', 'sandwiches', 'United', 'Wednesday', 'Thatcher', 'blending', 'crop', 'Bing', 'Politburo', 'distinctions', 'bellwether', 'listeners', 'cast', 'communications', 'judgments', 'customers', 'Roper', 'laugh', 'turbine', 'season', 'luster', 'Klinsky', 'upgrade', 'disposition', 'hair', 'violet', 'wasting', 'listings', 'XR4Ti', 'can', 'credit', 'flight', 'quantities', 'CBOE', 'dissonance', 'Rossini', 'unveiling', 'runway', 'fusion', 'vulnerability', 'buck', 'King', 'pany', 'Corcoran', 'wars', 'statements', 'disputes', 'coup', 'commitments', 'testing', 'Mullins', 'insurer', 'servants', 'Friday', 'snap', 'descendant', 'farmers', 'Centurion', 'ax', 'contest', 'sponsorship', 'television', 'making', 'profile', 'death', 'figures', 'chips', 'transition', 'grip', 'modernization', 'eligible', 'Ford', 'brakes', 'buildup', 'connoisseur', 'prison', 'issues', 'Joseph', 'praise', 'railbikes', 'liquidation', 'silence', 'Showtime', 'dismissal', 'taboo', 'talks', 'corporations', 'Bradley'}\n",
            "Top Nouns2: {'attraction', 'votes', 'style', 'theirs', 'dozens', 'dispute', 'woman', 'Morristown', 'shrines', 'skin', 'moderates', 'foreclosure', 'liquidity', 'delta', 'Greenspan', 'Panama', 'entrance', 'P&G', '2000', 'Gibson', 'infrastructure', 'copper', 'masonry', 'initiatives', 'speaking', 'criminology', 'injury', 'chief', 'land', 'wool', 'release', 'title', 'constituent', 'Mesa', 'mom', 'village', 'activity', 'Sutra', 'unpleasantness', 'mixtures', '719,000', 'Kia', 'deterrents', 'spirits', '24', 'Rey', 'Pont', 'moons', 'doorstep', 'Finance', 'Birmingham', 'Shearson', 'News', 'Association', 'lock', 'Alamo', 'picture', 'Kennedy', 'remainder', 'following', 'consumers', 'capability', 'G.m.b.H.', '%', 'embargo', 'recommendations', 'disruptions', 'Geographic', 'Seattle', 'cabinet', 'sheep-like', 'megabyte', 'recorders', 'farm', 'starts', 'attendance', 'HealthVest', 'minimum', 'Egypt', 'Japan', 'plane', 'magistrate', '1986', 'codes', 'shirts', 'cities', 'deficits', 'mater', 'front', 'Delmed', 'Orwell', 'concentrations', 'potential', 'witches', 'demonstration', 'norm', 'vault', 'amendments', 'it', 'SKr205', 'pensions', 'compromise', 'open', '5,651', 'Pioneer', 'malls', 'systems', 'Iceland', 'Samsung', 'Field', 'success', 'arrests', 'Cleopatra', 'fleas', 'mall', 'U.', 'Club', 'airing', 'something', 'pact', 'delinquents', 'grain', 'coaster', 'golfers', 'duty', '1973', 'Oil', 'disadvantage', 'shipment', 'format', 'storm', 'IMF', 'condition', 'advancements', 'telephones', 'ventures', 'daily', 'Grease', 'keyboards', 'witnesses', 'Courter', 'slide', 'right', 'Push', 'Gitano', 'seller', 'tracts', 'Barris', 'rescission', 'columns', 'semimonthly', 'coverage', 'Foothills', 'InfoCorp', 'policy', 'drapes', 'offers', 'archrival', 'twang', 'Edelman', 'rails', 'Commerce', 'military', 'premium', 'road', 'guarantee', 'height', 'saying', 'garden', 'fears', 'apparatus', 'Tastes', 'Tandy', 'Christie', 'vodka', 'candidate', 'nonintervention', 'entertainment', 'Wendy', 'crises', 'legs', 'brethren', 'riverfront', 'fever', 'travelers', 'exile', 'Chestman', 'rail', 'Indianapolis', 'accompaniment', 'concentration', 'tensions', 'Machinery', 'traffic', 'spring', 'bargain', 'exercise', 'Christies', 'tanker', 'laxatives', 'Ehrlich', 'status', 'lubricants', 'Cherokee', 'staffs', 'raising', 'feedlots', 'teams', 'lift', 'Dallas', 'rates', 'forecasts', 'choices', 'critics', 'hobby', 'Bartlett', 'Ortiz', 'chlorine', 'group', 'contractor', 'Keene', 'agreements', 'HUD', 'Research', 'Gallery', 'decision-making', 'FCC', 'disintegration', 'Hunt', 'Ikegai-Goss', 'technologies', 'shoots', 'Dunn', 'Reebok', 'Cubs', 'statues', 'closet', 'turmoil', 'crust', 'speed', 'benefit', 'states', 'Africa', 'ploys', 'suspension', 'luck', 'precaution', 'raiders', 'exposures', 'topicality', 'Wellington', 'millions', 'autonomy', 'ABM', 'influence', 'bushel', 'courses', 'DRAMs', '2,046', 'Magazine', 'configuration', '46,995', 'water', 'onslaught', 'Allen', 'Nicaragua', 'interiors', 'Record', 'USAir', 'mortgages', 'possibilities', 'Warner', 'orbit', 'screens', 'products', 'quarter', 'emasculation', 'hens', 'records', 'Sutro', 'residues', 'corporation', 'curbs', 'friend', 'Ambrosiano', 'failure', 'prime', 'reactor', 'books', 'cooperation', 'ability', 'memories', 'spurt', 'community', 'Professional', 'Hawaii', 'kid', 'nerves', 'Superstitions', 'Exchange', 'James', 'ingots', 'liability', 'lot', 'respectively', 'trial', 'highway', 'oilfield', 'Wales', 'makers', 'classifications', 'Institutes', 'advice', 'probes', 'procedure', 'conglomerate', 'Gorillas', 'summer', 'fund', 'salvage', 'Arabs', 'reactions', 'Renault', 'patent', 'Deputies', 'Whitten', 'correction', 'Book', 'difficulties', 'chair', 'Rico', 'charm', 'capabilities', 'despair', 'duplex', 'prosecutors', 'hub', 'bustle', 'theories', 'habits', 'Reuters', 'Lumpur', 'Kerlone', 'complex', 'technicality', 'tax', 'Sportdom', 'act', 'share', 'PaineWebber', 'optimism', 'Laboratory', 'hearings', 'Federal', 'developer', 'bankruptcy', 'colleague', 'weekly', 'missiles', 'once', 'trader', 'Macrodantin', 'settings', 'Agriculture', 'bikes', 'demonstrators', 'combination', 'polyrhythms', 'reserve', 'scavengers', 'environmentalism', 'translations', 'standard', 'Toronto', 'jet', 'Units', 'Tempe', 'laboratories', 'son', 'uncertainties', 'phone', 'pesticide', 'Blanchard', 'thrifts', 'diners', 'slop', 'bankers', 'yuppies', 'eve', 'element', 'fertility', 'prostitution', 'know-how', 'dates', 'hunger', 'parliament', 'domination', 'mourning', 'Oppenheimer', 'outsider', 'warehouses', 'ethics', 'minimills', 'significance', 'Riegle', 'telephone', 'foundation', 'households', 'market-making', 'dialogue', 'sums', 'tab', 'snubbing', 'growers', 'hours', 'CBS', 'sell-off', 'resolve', 'Shannon', '1989', 'Stretch', '1.10', 'Wilderness', 'Carolina', 'estimate', 'writings', 'tower', 'Wight', 'Saatchi', 'clothing', 'opinion', 'dissent', 'No.', 'Iran', 'practice', 'scare', 'wildlife', 'alcohol', 'Ltd.', 'downturn', 'Foggs', 'Crestmont', 'witness', 'roadways', 'machinery', 'exploration', 'titanate', 'increases', 'Pennsylvania', 'thanks', 'temple', 'soldiers', 'Weekes', 'fighter', 'responsibility', 'microchip', 'quarters', 'activist', 'March', '32', 'conviction', 'workstation', 'repression', 'fury', 'rods', 'transaction', 'directors', 'theft', 'depot', 'Province', 'sizes', 'grazers', 'minicars', 'median', '2680', 'bricks', 'ranches', 'Nixon', 'banks', '1972', 'century', 'nominees', 'pianos', 'Bentsen', 'Birkel', 'Spain', 'fuel-economy', 'efficiency', 'unworkable', 'families', 'ideas', 'ears', 'Irving', 'hour', 'Eastman', 'earnings', 'Jamaica', 'passengers', 'commerce', 'rules', 'famines', 'trends', 'cranes', 'hurricane', 'ravages', 'Capote', 'holder', '23', 'measures', 'Bates', 'applicants', 'Fleming', 'Co.', 'NFL', 'Bull', 'donations', 'start-up', 'important', 'Order', 'privacy', 'Jose', 'cartridges', '97.275', 'Kofcoh', 'globalization', 'underachiever', 'limitations', 'Agnellis', 'everything', 'linkages', 'trunk', 'spending', 'drink', 'bullhorn', 'hopes', 'retailing', 'restrictions', 'Policy', 'privileges', 'commission', 'Act', 'sofa', 'Ingersoll', 'ball', 'blacks', 'tasks', '2653.28', 'baritone', 'MacDonald', 'portfolio', 'Commerciale', 'amalgamation', 'Louisville', 'spot', 'Insurance', 'evaders', 'Harrisburg', 'shows', 'Paev', 'silver', 'turnover', 'Waring', 'Laband', 'past', 'willingness', 'barrels', 'effect', '12,017,724', 'both', 'burner', 'conservatorship', 'capitalization', 'Generale', 'Be', 'best', 'homer', 'affiliation', 'apartment', 'coupon', 'center', 'Crusaders', 'workers', 'pay', 'coffin', '2200', 'skittishness', 'argument', 'checks', 'primary', 'Darman', 'district', 'corps', 'microprocessors', 'Federation', 'groups', 'ailment', 'line', 'psychobiology', 'plans', 'congressmen', 'memorandums', 'loads', 'cronies', 'commodities', 'flavor', 'business', 'dividends', '2012', '35544.87', 'relationships', 'flower', 'Tokyo', 'Price', 'watercolor', 'club', 'drill', 'mid-30s', 'estimates', 'ingrates', 'sugar', 'simulators', 'initiative', 'audience', 'contacts', 'moi', 'freespender', '2:25', 'Genius', 'sensationalism', 'Francais', 'gangs', 'jumpiness', 'orders', 'grapes', 'pile', 'deletions', 'tips', 'Socialists', 'Marcoses', 'Northrop', 'hospitalization', 'Morocco', 'partnerships', 'marketing', 'deflator', 'psychology', 'worth', 'Redford', 'Ventures', 'Attack', '1.42', 'comedies', 'blame', 'cache', 'rooms', 'territory', 'bombings', 'trap', 'derring-do', '470.80', 'plea', 'antibodies', 'Smithsonian', 'election', 'slip', 'highs', 'muck', 'rhetoric', 'intimacy', '13', 'Nelson', '6', 'methods', 'news', 'nine', 'replacement', 'UAL', 'relatives', 'throats', 'cutters', 'Bay', 'Alto', 'eye', 'hawk', 'views', 'Hoover', 'socialism', 'identity', 'cheap', 'office', 'stuff', 'cost', 'resales', 'boxes', 'briefing', 'pipelines', 'composer', 'management', 'Partnership', 'tendencies', 'Smelting', 'stalling', 'muscles', 'Trumps', 'bats', 'thought', 'maid', 'opponents', 'Pisa', 'employee', '65', 'credibility', 'bike', 'attacks', 'disobedience', 'outsiders', 'affairs', '1959', 'journalists', 'collector', 'carrot', 'sanctions', 'girlfriend', 'quarterly', 'dreams', 'Massachusetts', 'debt', 'sale', 'current', 'sweetheart', 'comments', 'percentage', 'flurry', 'student', 'East', 'Memories', 'merits', 'institution', 'novel', 'Nestle', 'clones', 'pyramids', 'trouble', 'trend', 'Wall', 'disappointment', 'inducement', 'US$', 'damage', 'peacemakers', 'Quayle', 'investigations', 'conservatism', 'Hollywood', '448.80', 'friends', 'tools', 'Line', 'landings', 'cuisine', 'NSC', 'beginning', 'Workers', 'scripts', 'Cairo', 'worse', 'journey', \"A's\", 'ratios', 'Kildare', '1997', 'Refuge', 'model', 'strengthening', 'seats', 'contraceptives', 'Highway', 'bylines', 'property', '70,000', 'survey', 'stay', 'Morfey', 'rent', 'prices', 'hunt', 'piece', 'Delhi', 'Gandhi', 'amount', 'negotiators', 'manufacturing', 'expansion', 'Desire', 'mainframes', 'processors', 'Securities', '35133.83', 'Indonesia', 'shame', 'raid', 'window', 'waters', 'dalliances', 'reduction', 'Francisco', 'investment', 'politicking', 'unity', 'beasties', 'Chrysler', 'Coates', 'Chambers', 'bottom', 'kids', 'tomorrow', 'incident', 'inflation', 'sunglasses', 'adversary', '323.85', 'EDT', 'Chapter', 'apathy', 'Genscher', 'propagandists', 'dinosaur', 'Ba3', 'Pepsi', 'sweep', 'instruments', 'bacteria', 'superconductors', 'returns', 'Leominster', 'patients', 'drought', 'teaching', 'NFIB', 'trend-setters', 'Express', 'turf', 'stew', 'houses', 'Orlando', 'preparation', 'bonuses', 'four', 'California', 'University', 'Alliance', 'openness', 'stranger', 'kilometers', 'reformers', 'toothpaste', 'visitors', 'shirt', 'sum', 'contests', 'illnesses', 'Movieline', 'interloper', 'invaders', 'channels', 'Ahold', 'single-B-minus', 'lawyers', 'Sidhpur', 'Robinson', 'counterpart', 'loan', 'hose', 'brochure', 'polypropylene', 'salesman', 'Kemp', 'Empire', '2120.5', 'Diego', 'midafternoon', 'Chekhov', 'Pentagon', 'genocide', 'Party', 'discounting', 'hikers', 'wrench', 'estate', 'load', 'A', 'sentimentality', 'employers', 'auctions', 'clergy', 'innings', 'minister', 'provenance', 'Skipper', 'mistakes', 'boom', 'violations', 'inventions', 'backyard', 'bind', 'respect', 'consultants', 'GE', 'settlement', 'subsidies', 'Paper', 'Wright', 'pence', 'Lyric', 'environment', 'meat', 'portrayal', 'soviet', 'banker', 'prepayments', 'wilderness', 'deposits', 'Cleveland', 'Ideal', 'Alceste', 'pointers', 'afternoon', 'takeovers', 'units', 'newsprint', 'endorsements', 'conclusions', 'error', 'Ohio', '2-1', 'term', 'criticism', 'nationalization', 'troops', 'cents', 'goods', 'approach', 'prelude', 'wallet', '35526.55', 'fame', 'defendants', 'Baker', 'coupe', 'portion', '37,820', 'Soap', 'negotiations', 'expert', 'statement', 'incense', 'plate', 'regulator', 'drinking', 'aisle', 'Filipino', 'poverty', 'syngeries', 'SDI', 'plant', 'cycles', 'profitability', 'FirstSouth', 'copy', 'Parliament', 'farmer', 'commissioners', 'chains', 'worst', 'chairmanship', 'individuals', 'Alps', 'domes', 'lives', 'tapings', 'trespass', 'tour', 'user', 'rag', 'items', 'planes', 'Martha', 'Broncos', 'Gulf', 'lips', 'TROs', 'kitchen', 'discussion', 'lawyer', 'committees', 'Gramm-Rudman', 'Victoire', 'curb', 'clients', 'fronds', 'minorities', 'N.V.', 'segments', 'workweek', 'vehicle', 'appropriations', 'jetliners', 'Federal-Mogul', 'cigarette', 'Hanoi', '800,000', 'Omnibank', 'developers', 'UCLA', 'certificate', 'discrepancies', 'Reagan', 'recommending', 'copyright', 'totals', 'roles', 'agents', 'Paxus', 'defensiveness', 'obfuscation', 'general', 'retrofitting', 'Rights', 'less', 'chalk', 'developments', 'reserves', 'laws', 'palm', 'image-making', '1950s', 'mudslinging', 'prestige', 'Matilda', 'own', 'Sports', 'bosses', '5,440', 'abuses', 'GATT', 'Jan.', 'cease-fire', 'ports', 'compatriots', '1739.3', 'Japanese', 'them', 'packaging', 'Sulka', 'grants', 'producer', 'parent', 'tests', 'universe', 'shelves', 'volume', 'Photographers', 'machines', 'Gardens', 'men', 'average', 'yard', 'treatments', 'interests', 'Students', 'yield', 'killings', 'Freeway', 'supporters', 'tea', 'Food', 'stages', 'powers', 'swearing', 'provisions', 'Delicious', 'AGIP', 'investing', 'safety', 'workstations', 'vendors', 'pack', 'Kevlar', 'nozzles', 'pace', 'blast', 'HBO', 'airplanes', 'call', 'Times', 'seat', 'disclosure', 'Enfield', 'rafters', 'resignations', '10:45', 'conference', 'commissioner', 'rigidity', 'walk', 'single-A-3', 'strengths', 'peninsula', 'nests', 'corn', 'pronunciation', 'Salesman', 'withdrawal', 'sidelines', '2645.08', 'Worth', 'Compaq', 'inception', 'Albania', 'islands', 'applications', 'fair', 'buy-out', 'thumb', 'departures', 'slump', 'beauty', 'residents', 'number', 'sides', 'underdog', 'mediator', 'pound', 'Citicorp', 'fluctuation', 'gyrations', 'postmarks', 'Continent', 'imperialists', 'embryo', 'backbone', 'FEMA', 'formulations', 'reasoning', 'devastation', 'costs', 'all', 'benefits', 'responses', 'Segundo', 'Lebanon', 'utility', 'rand', 'mess', 'soldier', 'discussions', 'schemes', 'respectability', 'case', 'unrest', 'rookie', 'preparedness', 'gifts', 'hypermarket', 'notion', 'Fujis', 'boy', 'DNA', 'ceiling', 'inspirations', 'text', '2019', 'memos', 'supports', 'IBM', 'band', 'Force', 'innovation', 'F.S.B.', 'generation', 'personnel', 'doldrums', 'mentor', 'route', '1,892', 'Earth', 'say', 'experience', 'analysis', '51', 'Sununu', '3', 'floor', 'Falls', 'perspective', 'Solar', 'disdain', 'polling', 'context', 'Intel', 'sight', 'Cellular', 'attack', 'Foods', 'marks', 'cruisers', '11', 'Malaysia', 'cats', 'circles', 'mid-conversation', 'positions', 'salary', 'self-incrimination', 'A.', 'exclusion', 'shift', 'armpits', 'recognition', 'rivers', 'interior', 'backgrounds', 'debut', 'satellite', 'threats', 'disks', '35588.36', 'handling', 'waves', 'Supervision', 'soapsuds', 'sportif', 'indifference', 'aflatoxin', 'allowances', 'order', 'Sullivan', '70', 'steps', 'linage', '37', 'subtilis', 'there', 'stress', 'date', 'Yacos', 'Strip', 'edge', 'takeoff', 'Congress', 'cement', '94,543', 'legislatures', 'noise', 'varieties', 'hook', 'USX', 'Code', 'franchisers', 'immigrants', 'display', 'Williams', 'MCI', 'legislation', 'lake', 'chicken', 'racehorses', 'Jr.', 'Illinois', 'block', 'troublesome', 'agency', 'Air', 'scheduling', 'allegory', 'choice', 'Sundance', 'rebels', 'blood', 'fun', 'vote', 'two-thirds', 'theater', 'shops', 'SA', 'TRO', '1976', 'suite', 'Kohl', 'tool', 'bureaus', 'player', 'futures', 'margins', 'anti-competitive', 'trough', 'homes', '1983', 'War', 'Georgetown', 'Jimmy', 'Strategies', 'cancellation', 'Duarte', 'habit', 'kilograms', 'Malcolm', 'AB', 'justice', 'health', 'obligations', 'Phoenix', 'maker', 'ruble', 'tedious', 'sensibilities', 'moves', 'voice', 'counters', 'crisis', 'punts', 'research', 'reinsurance', 'Misanthrope', 'swings', 'caution', 'releases', 'calls', 'night', 'change', 'ad', 'announcements', 'Artzt', 'operators', 'purposes', 'pattern', 'Bosworth', 'asbestos', 'architecture', 'structure', 'plants', 'Scenarios', 'words', 'HDTVs', 'Brands', 'arrivals', 'sense', '1462.93', 'clause', 'Montreal', 'borrowings', 'last', 'Hyundai', 'edition', 'allocations', 'Springs', 'oaks', 'Educators', 'touchdown', 'ABC', 'proof', 'form', 'president', 'Aluminium', 'launch', 'development', 'coal', 'operator', 'profit', 'leverage', 'golf', 'ministry', 'founding', 'session', 'reviews', 'Bundy', 'slopes', 'inning', 'rises', 'factory', 'steroids', 'structures', 'journalism', '1970s', 'epiphany', 'Football', '223.0', 'causes', 'Charles', 'studio', 'delays', 'trading', 'Senate', 'police', 'break', 'Geneva', 'Rock', 'pullback', 'companies', 'stride', 'considerations', 'discouragement', 'excitement', 'Nashua', 'reactors', 'routes', 'Lockheed', 'favorites', 'child', 'Beltway', 'allotment', 'Levine', 'professionals', 'celebrity', 'May', 'Alan', 'diamonds', 'advertising', 'beast', 'Merrill', 'participants', 'blasts', 'worms', 'worlds', 'fingers', 'impassiveness', 'infighting', 'progress', 'anger', 'here', 'cream', 'parking', 'minority', 'bondholders', 'processor', 'HIB', 'deductible', 'honor', 'pretext', 'door', 'committee', 'complicity', 'specialists', 'Orr', 'placement', 'pulpit', 'actions', 'engineering', 'desire', 'cars', 'manufacturer', 'trade', 'Vandenberg', 'period', 'decision', 'artery', 'now', 'convention', 'employer', 'Neptune', 'Parkway', 'bank', 'freedoms', 'pursuits', 'specialty', 'Taxation', 'Spendthrift', 'Wednesday', 'C$', 'treasuries', \"'71\", 'cathodes', '95.11', 'grandmasters', 'hair', 'credit', 'epsiode', 'King', 'coup', 'cough', 'farmers', 'profile', 'Bundesbank', 'minuses', '20%-plus', 'bust', '22', 'dismissal', 'sack', 'corporations', 'gambling', 'tyranny', 'department', 'MBB', 'wall', 'haul', 'high', 'short', 'underwritings', 'way', 'lieu', 'charter', 'Aruba', 'services', 'Exterior', 'Nadir', 'incompetence', 'republic', 'contracting', 'West', 'takeover', 'catalog', 'commuters', 'difference', 'turbines', 'protection', 'restriction', 'language', 'N.A.', 'Ca', 'fullest', 'differential', 'operations', 'horn', 'Allstate', 'fairness', 'start', 'Pulp', 'Airways', 'daughter', 'risk', 'Midland', 'Asmara', 'assistant', 'flows', 'guidelines', 'installations', 'Keating', 'Almanac', 'Virginia', 'play', 'compliance', 'rest', 'vapors', 'mentality', 'adjustment', '1850', 'aliens', 'cleaning', 'Suns', 'stand', 'inventory', 'Macy', 'some', '15,000', 'dip', 'Budapest', 'incomes', 'shelters', 'Peck', 'Block', 'visits', 'factors', 'sightings', 'tract', 'borrowing', 'alliance', 'trip', 'care', 'note', 'out', 'afternoons', 'hotels', '1963', 'shortages', 'Afrikanerdom', 'stance', 'equity', 'distributorship', 'incest', 'Park', 'capacity', 'composers', 'trees', 'independents', 'red', 'fanatics', 'panic', 'torch', 'mid-November', 'earliest', 'reading', 'signal', 'discounts', 'fax', 'testers', 'Administration', 'facility', 'relation', 'holding', 'funding', 'Movement', 'Saltzburg', 'comeuppance', 'constituents', 'Boeing', 'scenario', 'basket', 'Crossair', 'equality', 'economics', '1/8', 'NRM', 'pigments', 'rehearing', 'Cathay', '44,796', 'ballooning', 'start-ups', 'receivables', 'aspect', 'head', 'dependents', 'deadline', 'childhood', 'engines', 'more', 'January', 'distillers', 'strength', 'refinery', 'fanfare', '785', 'eyes', 'blows', 'thrift', 'Rails', 'ownership', 'arbitragers', 'opposition', 'Sardi', 'establishment', 'Vinson', 'misdemeanors', 'world', 'run-up', 'Tristars', 'Hill', 'cloture', '215,845', 'Sansui', 'retrieval', 'music', 'blink', 'College', 'step', 'Metamucil', 'cases', 'cockpit', 'schedule', 'role', 'Thursday', 'pressure', 'market', 'discretion', '1/2', 'trimesters', 'JSP', 'wheeling', 'currency', 'portfolios', 'maintenance', 'formulas', 'university', 'Strategy', 'Louisiana', 'vaults', 'Lockerbie', 'yearbook', 'level', 'taxpayers', 'Authority', 'Ministry', 'shelf', 'honesty', 'Belgium', 'relations', 'Tinker', 'lists', 'pickup', 'Corsica', 'precincts', 'patents', 'adequate', 'batches', 'recital', 'lapses', 'monster', 'weakness', 'Kodak', 'Nasser', 'flashlight', 'medicines', 'lower', 'Markets', 'Today', 'attention', 'calendar', 'games', 'strip', 'briefings', 'Power', 'Eddie', 'bloc', 'pictures', 'tape', 'headline', 'RTC', 'politicians', 'radar', 'ties', 'principle', 'today', 'selloffs', 'fling', 'fluctuations', 'targets', 'defendant', 'discoveries', 'Southam', 'Scotto', 'wells', 'Richmond', 'example', 'Edisto', 'covenants', 'Commission', 'description', 'exposure', 'force', 'Blumenfeld', 'Vermont', 'existence', 'dishonesty', 'deck', 'freedom', 'Thacher', 'mid-September', 'faces', 'fashion', 'numbers', 'Entertainment', 'lithographs', 'doctors', 'newspaper', 'morality', 'gullible', 'atolls', 'holders', 'ANC', 'tobacco', 'rubfests', 'single-B-2', 'matters', 'bedroom', 'Corollas', 'position', 'stadiums', 'ABC-TV', 'excess', 'printing', 'tale', '554', 'Bonfire', '1/4', 'Britton', 'Debussy', 'pulp', 'Morishita', 'million', 'absurd', 'tradition', 'Arnold', 'hold', 'Somoza', 'butterfat', 'leadership', 'unease', 'remarks', 'mainline', 'AIW', 'terrorists', 'A$', 'damper', 'poor', 'unions', 'law', 'balance', 'malice', 'holdings', 'rubber', 'self-definition', 'Pittsburgh', 'toxin', 'Rica', '1988', 'cup', 'Standard', 'hole', 'presentations', 'Southwest', 'Free', 'unproductive', 'trunks', 'desk', 'page', 'S.p.A', 'predictions', 'uninvited', 'outcome', 'detail', 'construction', 'wrangling', 'Shack', 'terminals', 'reform', 'hundreds', 'drinker', 'epicenter', 'Bakery', 'valuations', 'Horn', 'widow', 'access', 'Linear', 'prediction', 'Fed', 'bureaucrats', 'avoid', 'ages', 'Properties', 'fundamentals', 'submission', 'Ethiopia', 'Espre', 'prominence', 'Delaware', 'Bright', 'diseases', 'governor', 'struggle', 'Goodson', 'Department', 'equation', 'draw', 'Moslems', 'organizations', 'Lambert', 'Bureau', 'clothes', 'Rolls-Royce', 'fall', 'assurances', '1929', 'weapons', 'Corp', 'hawks', 'lenders', 'sessions', 'patrol', 'Steel', 'D.T', 'devices', 'defense', 'reservoir', 'edges', 'styles', 'aim', 'Eritreans', 'sophistication', 'Rectifier', 'Fiat', 'shopping', 'USA', 'setbacks', 'murders', 'Barney', 'carriers', 'beggars', 'Baltic', 'inertia', 'appreciation', 'contrast', '1979', 'bullion', 'trucks', 'Taipei', 'halted', 'procedures', 'professor', 'senators', 'operation', 'mortgage', 'oceans', '2004', 'Russia', 'opening', 'league', 'Heinz', 'chancellor', 'peace', 'giant', 'imagination', 'Gradmann', 'fixtures', '784', 'article', 'pachinko', 'Productivity', 'McCormack', 'Trust', 'Tower', 'cost-sharing', 'equiment', 'SEC', 'AG', 'Mothers', 'mile', 'comprehensiveness', 'knees', 'Guber', 'buyers', 'course', 'Peru', 'direction', 'double-decking', 'delivery', 'Olay', 'profits', 'trousers', 'Breeden', 'Bank', 'Mist', 'Hager', 'opinions', 'pools', 'Marin', 'Hutchison', 'insiders', 'volatility', 'Baja', 'Anacomp', 'volumes', 'Newsletter', 'scotch', 'editorial', 'dividend', 'ordeal', 'area', 'Kravis', 'cyclicals', 'illegal', 'network', '1908', 'EST', 'guerrillas', 'solution', 'entry', 'ministries', 'origin', 'commanders', 'recall', 'rush', 'Bear', '1920s', '1.48', 'autocrat', 'Odeon', 'view', 'bat', 'smokers', '40', 'jail', 'pair', 'Clinton', 'conjecture', 'burden', 'hire', 'walls', 'charges', 'appearance', 'buy-back', 'breakfast', 'Biederman', 'tables', 'list', 'neighbhorhoods', 'Fame', 'shot', 'conversations', \"'70s\", 'transport', 'pubs', 'tunnel', 'Estate', 'relationship', 'value', 'tension', 'quiz', 'tuitions', 'shape', 'Popular', 'officer', 'publishing', 'Clinic', 'Assembly', 'Community', 'Fund', 'Arrow', 'summaries', 'defenses', 'chance', 'February', 'Hall', 'detectors', 'observers', 'card', 'AVX', 'selection', 'trust', 'Motorfair', 'violence', 'meetings', 'proposals', 'Star', 'Plaza', 'inches', 'individual', 'Coventry', 'painter', 'renewal', 'destinations', 'countries', 'concession', 'crime', 'rolls', 'late', 'concessions', 'amazement', 'sentiment', 'race', 'Arkansas', 'enemies', 'well', 'hope', 'steel', 'creation', 'concert', 'deals', 'Russo', 'Ruder', 'chain', 'Manhattan', 'Prison', 'Oman', 'bugs', 'Olivetti', 'affiliate', 'extras', 'persona', 'South', 'goals', 'enterprises', '1994', 'consent', 'Hospital', 'leave', 'elsewhere', '1969', 'claptrap', 'Stein', '11,586', 'Drop', 'history', 'metal', 'lire', 'Regatta', 'hearts', 'intergrated-steel', 'Institute', 'bicycles', 'reductions', 'Espectador', 'powerhouse', 'correspondence', 'messiah', 'penalty', 'magazines', 'refunding', 'dead', 'greenhouse', 'objections', 'sentences', 'Shale', 'Prospect', 'Stadium', 'debate', 'former', 'miniseries', 'elections', 'middleman', 'sidewalk', 'Winnetka', 'bevy', 'fiasco', 'financier', 'help', 'graying', 'court', 'uses', 'balls', 'Sport', 'household', 'loyalty', 'Cambodians', 'recovery', 'B-2', 'Inc.', 'franchisees', 'association', 'standards', 'duties', 'Airport', 'Mosbacher', 'drive', 'part', 'alternatives', 'malignancy', 'pursuit', 'S&L', 'attractive', 'Croix', 'Options', 'shipments', 'Woman', 'catalogs', 'par', 'parents', 'county', 'Nuys', 'Utilities', '1932', 'violation', 'Viacom', 'that', 'Baltimore', 'Chicago', 'rift', 'acquisition', 'Office', 'allure', 'jeans', 'talk', 'any', 'Pennzoil', 'imperative', 'right-wing', 'Gray', 'bleeding', 'treatment', 'puppies', 'comment', 'modifications', 'neighborhood', 'total', 'regulations', 'component', 'blase', 'Program', 'medium', 'marriage', 'lambskin', 'Merchants', 'site', 'Pictures', 'Eminase', 'Sharpshooter', 'neutrons', 'subscribers', 'banishment', 'wins', 'wrongdoing', 'client', 'solicitations', 'condescension', 'bumps', 'Franciscans', 'proceeding', 'Kirgizia', 'ninth', 'diversification', 'Year', 'interpretation', 'hangar', '449.89', 'prosecution', 'shuttle', 'Audi', 'pants', 'fare', 'Nightline', 'attempts', 'Rubens', 'funds', 'wives', 'drops', 'sliver', '462.98', 'pipes', 'Bill', 'combat', 'commercials', 'tailspin', 'a.m.', 'trail', 'education', 'stockholders', 'glasnost', 'others', 'allies', 'mode', 'strain', 'decadence', 'oils', 'loss', 'managers', 'tributes', 'Quick', 'Conservatives', 'basis', 'athletes', 'outpost', 'absence', '140,000', 'terrorism', 'editor', 'Ms.', 'secretary', 'critique', 'reporters', 'dyes', 'Banxquote', 'settlements', 'Staar', 'housing', 'mechanism', 'ring', 'plaintiffs', 'headquarters', 'workroom', 'party', 'divisive', '360', 'delegate', 'DEC', 'tragedy', 'flood', 'show', 'Mafia', 'missions', 'Hungary', 'roofs', 'regime', 'IFI', 'ice', 'labels', 'adults', 'elevator', 'disease', '5,000', 'subsidiary', 'restaurants', 'inventories', 'Frankfurt', 'Signal', 'newspapers', 'marketplace', 'PACs', '200', 'footing', 'reorganization', 'McCaw', 'borrowers', 'ISI', 'back', 'survival', 'accounting', 'appeal', 'color', 'SAS', 'scientists', 'Doubles', 'sites', 'Kerkorian', 'team', 'Singapore', 'Permanente', 'dash', 'RU-486', 'cutting', 'distribution', 'drawbacks', 'panel', 'hearing', 'XL', 'provision', 'magnets', 'revival', 'sunrise', 'plastics', 'whimsy', 'quest', 'Electric', 'LaWarre', 'Savings', 'Hump', 'miscommunication', 'atmosphere', 'introductions', 'scale', 'meadows', 'suggestions', 'option', 'Commonwealth', 'reimbursements', 'youths', 'bill', '5,500,000', 'spree', 'Petco', 'watching', 'eavesdropping', 'appropriation', 'Zeta', 'constrictors', 'host', 'naphtha', 'pot', 'delay', 'users', 'partners', 'Eritrea', 'acquirers', 'Colleges', 'crunch', 'border', 'watchman', 'feet', 'alarm', 'scandal', '35378.44', 'movement', 'Brooks', 'market-maker', 'North', 'deductibility', 'importer', 'planners', 'Day', 'Mannington', 'years', 'A.T.B.', 'syndicate', 'theaters', 'lounge', 'charge', 'wife', 'supermarket', 'White', '15', 'pencils', 'brain', 'extinction', 'inability', 'Mondale', 'Ogden', 'product', 'Philippines', 'reformer', 'vision', 'indication', 'Rangel', 'AIDS', 'deal', 'Bond', '66', 'offering', 'forecast', 'shortage', 'pals', 'Protection', 'waiting', 'wires', 'backs', 'Measure', 'Whitford', 'BART', 'Republic', 'memory', 'wastes', '69,980', 'Constitution', 'Dow', 'competence', 'F-14', 'sign', 'finger', 'merger', 'bribes', 'Lyondell', 'Beame', 'Scorpio', 'Luxembourg', 'hospital', 'spenders', 'salt', 'masters', 'plays', 'hitch', 'duration', 'senator', 'over-capacity', 'imbalances', 'complementary', 'plots', 'mid-1991', 'dollar', 'Oberhausen', 'Caspar', 'rapport', 'standing', 'Carson', 'building', 'first', 'federation', 'giveaways', 'PLC', 'computer', 'itinerary', 'perversion', 'Arctic', 'solicitation', 'chairman', 'perception', 'episode', 'anyone', 'Roy', '35087.38', 'benchmark', 'days', 'masseurs', 'shoulder', 'notice', 'Catch-22', 'drivers', 'meanwhile', 'cell', 'comedy', 'Care', 'literature', 'face', 'redemption', 'NBC-TV', 'carry-forwards', 'Antarctica', 'incentives', 'result', 'ponds', 'recommendatons', 'debacle', 'next', 'in-crowd', 'losses', 'cover', 'bids', 'animal', 'signs', 'engineers', 'repair', 'Viroqua', 'Wilson', 'firm', 'Paris', 'threat', 'experiences', 'proportion', 'machine', '2014', 'faint', 'guy', 'divisiveness', 'poetry', '$', 'resistance', 'Kaifu', 'Hutton', 'Stevenson', '1993', 'elderly', 'experiment', 'weeks', 'harvest', 'go', 'Swissair', 'Review', 'Stores', 'Kate', 'clearing', 'Ohls', 'detective', 'Commons', 'Marines', 'scratch', 'invitation', 'colony', 'Carey', 'origins', 'jokes', '178.8', 'Roderick', 'excursions', 'Sept.', 'LTV', 'lamp', 'classrooms', 'puts', 'chickens', 'Wisconsin', 'issuers', 'Rome', 'reports', 'Emery', 'recordings', 'examination', 'soil', 'landholdings', 'precision', 'policyholders', 'exhibition', 'membership', 'Merieux', 'Goldsmith', 'uncertainty', 'cap', 'Charlotte', 'dissemination', 'airwaves', 'drilling', 'Lyonnais', 'gate', 'labs', 'models', 'checkpoints', 'McKesson', 'securities', 'Mae', 'economies', 'Cluett', 'Boy', 'agreement', 'canals', 'rise', 'Dec.', 'approval', '11,795', 'PCs', 'minerals', 'setback', 'presentation', 'analyses', 'doubt', 'dents', 'Wars', 'city', 'Neal', 'Chevrolet', 'damages', 'stimulation', 'her', 'handlers', 'dealings', 'behind-the-scenes', 'Zenith', 'Medellin', 'grounds', 'sergeants', 'pie', 'subject', 'consideration', 'non-communists', 'drug', 'heroes', 'slaying', 'Accords', 'Project', 'sedan', 'event', 'disintegrating', 'Life', 'innovator', 'Psychiatry', 'Eurocom', 'Army', '178.9', 'types', 'Congressmen', 'goodies', 'Paulo', 'nervousness', 'CNN', 'flashlights', 'Banc', 'Math', 'banking', 'Cravath', 'swap', 'epileptics', 'nervous', 'Kurzweil', 'Performance', 'anybody', 'II', 'Treasurys', 'outstanding', '3.80', 'telex', '35', 'amounts', 'pedestrians', 'withholdings', 'flights', 'Cotton', '28', 'Mitchell', 'region', 'tooling', 'place', 'instances', 'summit', 'Corry', 'levels', 'Dumpty', 'duplicity', 'promise', '5', 'improvements', 'resistant', 'succession', 'Appleseed', '2603.48', 'Basf', 'Vila', 'couples', 'emergency', 'peak', 'IPO', 'Jupiter', 'Pemex', 'Nikons', 'liaisons', 'cameras', 'States', 'imports', 'campaigns', 'Douglas', 'hogs', 'arrangement', '1949', 'mine', 'Czechoslovakia', 'ounce', 'Holding', 'gold', 'cursing', 'franchise', '8:30', 'societies', '131,146', 'Reuschel', 'yen', 'shakeout', 'person', 'emotions', 'entity', 'maximum', 'Academy', '8,355', 'common', 'moderation', 'diameter', 'indestructibility', 'appearing', 'Libor', 'heat', 'buy-outs', 'laughter', 'pendulum', 'purse', 'claims', 'specific', 'room', '13,000', 'expectation', 'streets', 'scraps', 'kind', 'bushels', 'genes', 'ranks', 'Venice', 'Pinick', 'outages', 'promises', 'consequences', 'mission', 'cookbook', 'speakers', 'growth', 'Europe', 'cornea', 'renewals', 'explosions', 'evaluation', 'Cruz', 'Brockville', 'Izvestia', 'sitcom', 'Defense', 'boilers', 'Thompson', '1966', 'concrete', 'consensus', 'nastiest', 'Comptroller', 'procreation', 'hormone', 'gain', 'dramatization', 'acts', 'shocks', 'bans', 'Alexander', 'heel', 'buy', 'lots', 'distributions', 'phrase', 'Polaroid', 'overbuilding', 'airline', 'gathering', 'fuel', 'Bass', 'folklore', 'Lautenberg', 'image', 'mid-October', 'transfusion', 'savings', 'retaliation', 'vests', 'pocket', 'Colinas', 'inflow', 'functions', 'ones', 'tactic', 'receiver', 'meantime', 'farms', 'side', 'Allianz', 'practitioners', 'scores', 'singers', 'expense', 'Steppenwolf', 'member', 'paintings', 'helm', 'travel', 'platform', 'claimants', 'responsibilities', 'company', 'Patterson', 'Lavin', 'lenses', 'suppliers', 'instructions', 'Rubin', 'isolation', 'radio', 'contracts', 'brokers', 'August', 'Marseillaise', 'Delta', 'strategy', 'word', 'rubles', 'shippers', 'taxes', 'classes', 'perjury', 'opponent', 'relief', 'ouster', 'screenplay', 'revolution', 'homeland', 'offense', 'grade', 'Grabowiec', 'indicator', 'town', 'Investment', 'legislators', 'greedy', '60', 'defaulters', 'projections', 'greenmail', 'jackets', 'airport', 'stage', 'Austria', 'negativism', 'halls', 'originator', 'Fried', 'Vatican', 'rivals', 'vote-getters', 'freight', 'businesses', 'Noxell', 'sources', 'roots', 'terms', 'strike', 'competitor', 'high-mindedness', 'predators', 'automobiles', 'potatoes', 'pledge', 'procurement', 'overzealousness', 'Nation', 'artwork', 'talent', 'participant', 'carpet', 'wad', 'lasers', 'Pacific', 'sets', 'Cascade', 'Balcor', 'commissions', 'message', 'pasta', '2016', 'consultant', 'knight', 'six', 'flow', 'Strasbourg', 'Hotel', 'investments', 'symptoms', 'S.A.', 'FDA', 'students', 'rum', 'layers', 'set', 'backlog', 'metals', 'pro-', 'neighborhoods', 'representatives', 'pieces', 'Days', 'tenure', 'Integrated', 'baseballs', 'candidates', 'governments', 'rape', 'nicknames', 'mid-1990s', '37,860', 'Equitec', 'MGM/UA', 'mirroring', 'jurors', 'waffle', 'coffers', 'reinforcement', 'restoration', 'information', 'Vancouver', 'Canaan', 'ASKO', 'air', 'railroad', 'equivalent', 'competitors', 'supply', 'rays', 'lag', 'Festival', 'philosophy', 'policy-making', 'cheetah', 'ground', 'lawsuits', 'Americana', 'audit', 'tactics', 'Medicare', 'maneuvering', '1666', 'bullets', 'Maidenform', 'bourbon', 'marketmaking', 'odds', 'executive', 'missile', 'rally', 'fur', 'roadway', 'Thatcher', 'Politburo', 'gates', 'communications', 'laugh', 'hospitals', 'Bonn', 'kinfolk', 'Hingham', 'Mix', 'mill', 'commitments', 'Friday', 'Voronezh', 'contest', 'television', 'making', 'Clements', 'figures', 'liquidation', 'many', 'candidacy', '1960', 'rough', 'talks', 'Representatives', 'demand', 'NEC', 'skiers', 'children', 'reporting', 'adoption', 'associates', 'Columbia', 'tapes', 'space', 'consumer', 'cigarettes', 'Moscow', 'destination', 'aftermath', 'pits', 'verdict', 'gasolines', 'posture', 'money', 'Bourse', 'Midwest', 'Nekoosa', 'black', 'fleshpots', 'temperatures', 'seconds', 'Pty.', 'assumption', 'Dozen', 'ADT', 'rebellion', 'Equifax', 'close', 'video', 'findings', 'names', 'networking', 'landlords', 'Bros.', 'possibility', 'technicians', 'army', 'Vienna', 'lawyering', 'morning', 'population', 'Gruppe', 'Boston', '707s', 'fervor', 'employment', '1995', 'cemetery', 'Sony', 'reinforced', 'bonus', 'decorators', 'mushrooms', 'Bristol-Myers', 'recapitalizations', 'newscasts', 'much', 'layoffs', 'Soviets', 'rapist', 'goal', 'throne', 'hesitation', 'breed', 'listening', 'dollars', 'disgust', 'cartoons', 'nature', 'landing', 'Gates', 'Suisse', 'public', 'double-B', 'Liqueur', 'accompanist', 'shares', 'requests', 'Franco', '1,000', 'objectives', 'intrusion', 'preference', 'resumption', 'builder', 'poet', 'leases', 'column', 'sections', 'qualities', '100,000', 'faculty', 'sheet', 'extraordinary', 'dentists', 'JAL', 'abuse', 'Caa', 'centimeters', 'measure', 'Utah', '453.05', 'Trend', 'ivory', 'normal', 'revivals', 'trials', 'symbol', 'downsizing', 'field', 'France', 'materials', 'creatures', 'Greece', 'privilege', 'time-hotels', 'eggs', 'truth', 'announced', 'basketball', '1980s', 'pesticides', 'Robinson-Humphrey', 'effort', 'Watson', 'Calor', 'stockroom', 'gum', 'zone', 'run', 'City', 'selling', 'arena', 'maturity', 'gap', 'surprise', 'writing', 'Trail', 'brains', 'Gadhafi', 'bureau', 'elephant', 'Brooklyn', 'values', 'showgirls', 'Microsoft', 'pancakes', 'scholars', 'dislike', 'exodus', 'second', 'bonds', 'troubles', 'Dukakis', 'freeway', 'felonies', 'sheets', 'francs', 'premises', 'Klein', 'material', 'clocks', 'Builders', 'animals', 'preferences', 'authorities', 'accidents', 'Deloitte', 'circulation', 'Agnelli', 'viewers', 'New', 'policies', 'interim', 'bills', 'Watsonville', 'clues', 'woes', 'Services', 'contributions', 'war', 'incinerator', 'classroom', 'security', 'apparel', 'Zealand', 'etiquette', 'Week', 'Florida', 'you', 'Langendorf', 'deaths', 'ribbons', 'deadlines', 'demands', 'UNESCO', 'Rochester', 'solutions', 'patriarchy', 'Datapoint', 'Osaka', 'ratings', 'railcars', 'folks', 'Grove', 'net', 'tourists', 'rifles', 'accounts', 'completion', 'Rafale', 'man', 'performance', 'compensations', 'athletics', 'voters', 'source', 'weekend', 'Lavery', 'improbability', 'petrochemicals', 'Americans', 'principal', 'Digital', 'Beretta', 'arrangements', 'then', 'mask', 'landscape', 'bran', 'restitution', 'furs', 'scholarship', '500,000', 'arm', 'calculations', 'rancor', 'locations', '99-04', 'closures', 'bear', 'Cubans', 'software', 'fiction', 'Schools', '1991', 'transactions', 'Ferranti', 'Coniston', 'Management', 'Average', 'Dese', 'Pakistan', 'Jones', 'strains', 'Europeans', '1987', 'dereliction', 'visit', 'interview', 'computing', 'Acquisition', 'disappointments', 'pillowcases', 'premiums', 'storage', 'usual', 'papers', 'festival', 'Zeal', 'Folcroft', 'house', 'recapitalization', 'aggressiveness', 'Wang', 'lotteries', 'fireworks', 'country', 'quips', 'sand', 'Lloyd', 'provider', 'Dinkins', 'Wachovia', 'winter', 'difficulty', 'Jersey', 'Saturdays', 'Oakland', 'test', 'doctrine', 'Jerusalem', 'wire', 'path', 'successes', 'videotape', 'Canada', 'intention', 'renaissance', 'players', 'fuels', 'consultation', 'Palestinians', 'legislature', 'large', 'mind', 'nickname', 'Trustcorp', '35107.56', 'Coliseum', '2662.91', 'trainer', 'repairs', 'Higgins', 'chamber', 'half', 'Brussels', 'mainframe', 'wishes', 'investors', 'time', 'copies', 'linen', 'Picop', 'Aeronautics', '3/4', 'Television', 'deeds', 'dedication', 'racetrack', 'rigor', 'Afrikaners', 'necessary', 'Paribas', 'inadequate', 'Crane', 'backlash', 'REMICs', 'liberty', 'Wolf', 'Pirelli', 'Witter', 'recreation', 'forms', 'Christmas', 'Kong', 'range', 'studies', 'mistake', 'assurance', 'craving', 'personality', 'favor', 'officials', 'inmates', 'exposition', 'Communications', 'programming', 'attitudes', 'announcement', 'watch', 'crew', 'courts', 'factories', '1977', 'impediment', 'phase', 'liver', 'account', 'margin', 'muse', 'oil', 'collectability', 'profession', 'Bertussi', 'guys', 'designer', 'Independents', '2613.73', 'Namibia', 'B-1', 'generations', 'blankets', 'survivors', 'Time', 'Washington', 'consortium', 'park', 'offer', 'low', 'associations', 'Detroit', 'infection', 'third', 'Tips', 'Version', 'glass', 'Snow', 'tremblor', 'prizes', '1998', 'speculators', 'dementia', 'nurses', 'judges', 'mornings', 'Cuba', 'Metromedia', 'Houston', 'speeds', '2018', 'Gauloises', 'women', 'crackdown', 'rooftops', 'baseball', 'dimension', 'Vietnam', 'fraction', 'Philinte', 'crowds', 'Spanish', 'ban', 'sex', 'tens', 'forefront', 'belt', 'comeback', 'clerk', 'syndrome', 'hardware', 'staffers', 'charity', 'venture', 'reunification', 'Prohibition', 'Bush', 'Coors', 'exception', 'York', 'Beijing', 'Fridays', 'layer', 'compensation', 'padding', 'casino', 'twists', 'unfamiliarity', 'name', 'testimony', 'tax-writers', 'stations', 'embassy', 'Guides', 'Fitzwater', 'fossils', 'unraveling', 'cereals', 'Bethlehem', 'calm', 'searches', 'biscuits', 'Lives', 'college', 'Ba-2', 'grower', 'Morley', 'p.m', '50,000', 'six-month', 'Calgary', 'exports', 'service', 'American', 'Klerk', '75,500', 'necessities', 'Shimbun', 'day', 'speculation', 'tissue', 'camps', 'unawareness', 'Fujitsu', 'evening', 'semiconductors', 'phenomenon', 'productivity', 'slashes', 'rides', 'magazine', 'autos', 'knot', 'Nabisco', 'Stamford', 'then-minister', 'fraud', 'row', 'billions', 'failures', 'FBI', 'label', 'device', 'broadcasts', 'bathrooms', 'stream', 'manager', 'scandals', 'sterling', 'commander', 'triumph', 'double-A-1', 'mayor', 'filing', 'citizens', 'inadvertence', 'jury', 'Sacramento', 'roads', 'Marsh', 'poisons', 'Managua', '10', 'means', 'installments', 'anteaters', 'aviation', 'Rich', 'heirs', 'reference', 'discrimination', 'EPO', 'bastion', 'discount', 'Chemical', 'arms', 'mortality', 'Recognition', 'fortunes', 'train', 'Pool', 'payout', 'Kabul', 'traders', 'string', 'stockbroker', 'themselves', 'Noriega', 'Venetoen', 'brokerage', 'Dome', 'adjusters', 'Brantford', 'Arrest', 'age', 'Clearwater', 'Church', 'Industries', 'IPOs', 'Poles', 'future', 'living', 'Council', 'slowdown', 'tariffs', 'fear', 'Counsel', 'shareholder', 'forest', 'move', 'certificates', 'proliferation', 'pets', 'lap', 'designs', 'cylinder', 'Vickers', 'microprocessor', 'discipline', 'outgrowth', 'fronts', 'Good', 'dark', 'AZT', 'Cincinnati', 'cookbooks', 'exporters', 'heart', 'profit-taking', 'features', '8', 'organs', 'earthquakes', 'Femina', 'license', 'palace', 'diaper', 'enterprise', 'unsettlement', 'actors', 'additions', 'proposal', 'undertones', '21', 'foods', 'injustices', 'tongue', 'democratization', 'divisions', 'equivalents', 'publisher', 'transplants', 'indexation', 'Brown', 'citizenry', 'disposal', 'attempt', 'Group', 'sarakin', 'coin', 'hock', 'meeting', 'size', 'substances', 'Mining', 'tickets', 'waterworks', 'consolidation', 'Moody', 'shoes', 'song', 'effects', 'cattle', 'addresses', 'yards', 'weakest', 'Somalia', 'price', 'languages', 'firms', 'guise', 'official', 'attendants', 'declines', 'writedowns', 'WHEC-TV', 'BIP', 'priority', 'Sotheby', 'purchase', 'ads', 'computers', 'second-quarter', 'Jaguar', 'November', 'port', 'favorite', 'paradise', 'containers', 'pins', 'S.A', 'gear', 'humor', 'resort', 'opportunity', 'Kitada', 'Leaseway', 'situation', 'mold', 'mischief', 'timidity', 'licenses', 'reshuffle', 'diagnosis', 'backdrop', 'stakes', 'outrage', 'importance', 'Kean', 'apple', '75,000', 'risks', 'elixir', 'intermission', 'teachers', 'horses', 'constituencies', 'representations', 'dial', 'fleet', 'nation', 'crude', 'album', 'categories', 'conservatives', '5.74', 'trains', '1974', 'Flottl', 'licensee', 'Parsow', 'Peabody', '1,642', 'crops', 'alliances', 'Kentucky', 'hands', 'Stirling', 'Bronx', 'Cordis', 'lack', 'strategies', 'protesters', 'pen', 'superiors', 'quota', '97.25', 'Hugo', 'Pepper', 'action', 'usage', 'tons', 'logistics', 'Campeau', 'arts', 'shop', 'diabetics', 'five', 'score', 'shopkeepers', 'kronor', 'Mixte', 'wheat', 'utilities', 'sellers', 'joint-implants', 'broadcast', 'requirements', 'segment', 'Medical', 'emotion', 'assessment', 'healthy', 'Mac', 'porches', 'hotel', 'speech', 'bidders', 'protests', 'Easterners', 'evidence', 'killers', 'Elanco', 'combinations', '283', 'accident', 'coalition', 'DPC', 'Aichi', 'vessel', 'nonevent', 'adhesive', 'whiz', 'boss', 'dioxide', 'eyebrow', 'communities', 'nets', 'power', 'Italy', 'allotments', 'concepts', 'originators', 'jurisdiction', 'Tribune-Democrat', 'sector', 'Ozzie', 'unit', 'Peugeot', 'standpoint', 'government', 'question', 'aspirations', 'blackboard', 'baskets', 'droughts', 'northeast', 'rent-a-colonel', 'municipals', 'bias', 'plains', 'virus', 'MGM', 'adviser', 'riders', 'three', 'dwellings', 'improvement', 'plan', 'category', 'thinking', 'mining', 'portables', 'investigation', 'reforms', 'Nadelmann', 'support', '114.5', 'reporter', 'Kabel', 'fields', 'reverse', 'Peterson', 'networks', 'Homecoming', 'Pretoria', 'Ogilvy', 'bankruptcies', 'violin', 'bargaining', 'September', 'Summerfolk', 'bases', 'iceberg', 'perchlorate', 'yesterday', 'tone', 'competitiveness', 'workplace', 'involvement', 'either', 'tumor', 'facelifts', 'Jews', 'vehicles', 'scheme', 'Feb.', 'Consultants', 'StatesWest', 'Restaurants', 'classics', 'Arens', 'Relocation', '3/8', 'hemorrhaging', 'free', 'Futures', 'outlook', 'intellectuals', 'immoral', 'performers', 'extreme', 'pi', 'Cortes', '437.68', 'universities', 'someone', 'studios', 'crooks', 'bombs', '10:40', 'warning', 'genres', 'pollen', 'store', 'elements', 'Queensland', 'Ways', 'telecommunications', 'appointments', '2102.2', 'debentures', 'Vikings', '1845', 'Aviv', 'buyer', 'end', 'subcommittee', 'Penh', 'surface', 'Webster/Eagle', 'Division', 'members', 'Fingers', 'challenges', '1868', 'insurance', 'intervals', 'Switzerland', 'Eggs', 'rhododendron', 'being', 'Young', 'gas', 'campaign', 'efforts', '300,000', 'Peters', 'extent', 'island', '47.125', 'London', 'lending', 'God', 'himself', 'stock', 'intervention', 'school', 'eons', 'Starpointe', 'Fireman', 'theme', 'plunge', 'shipping', 'cheek', 'Safety', 'package', 'him', 'minicomputers', 'needs', 'experts', 'windows', 'nations', 'story', 'bidder', 'smelter', 'chemical', 'Ana', 'truck', 'box', 'adjustments', 'independence', 'alert', 'ride', 'gridlock', '35586.60', 'cut', 'Fresenius', 'disaster', 'deficit', 'euphoria', 'counsel', 'leg', 'motives', 'technology', 'Aeroflot', 'evolution', 'double-A-3', 'cans', 'Schaumburg', 'humanities', 'us', 'solace', 'ultimatums', 'freeing', '1930s', 'residence', '80', 'subsidiaries', 'dispositions', 'bid', 'TV', 'Pizza', 'chemistry', 'Babel', 'Security', 'Indians', 'novels', 'Treasury', '18', 'Soyuz', 'unknowns', 'journal', 'Madrid', 'celebration', 'substance', 'Barn', 'prospects', 'Schimmel', 'Casablanca', 'need', 'fees', 'Guadalajara', 'quadrupling', 'wealth', 'experiments', 'lens', 'single-A-1', 'deception', 'finance', 'degree', 'radiation', 'GNP', 'long-term', '1999', 'smell', 'mix', 'dealer', 'thoroughfare', '0.6287', 'affair', 'slogans', 'leeway', 'fight', 'Krenz', 'assault', 'Chile', 'friendship', 'anything', 'spouses', 'Sun', 'vengeance', 'equities', 'Selig', 'alarms', 'Channel', 'pullout', 'apology', 'norms', 'Kyle', '35527.29', 'letter', 'expertise', 'couple', 'manhood', 'ODI', 'process', 'shampoo', 'educators', 'Io', 'CSC', 'colleagues', 'disruption', 'Housing', 'lighting', 'representation', 'advocates', 'emphasis', 'Ebensburg', 'shield', '30', 'clue', 'buttons', 'Angola', 'Pinkerton', 'Stearns', 'Development', 'problem', 'Hardee', 'Ross', 'Stuart-James', 'Aug.', 'fifth', 'Chongju', 'tires', 'breach', 'Agnos', 'intent', 'conditions', 'catastrophe', 'McKinsey', 'Co', 'prosoma', 'hero', 'revenues', 'rage', 'writers', 'use', 'questions', 'Direct', 'homeless', '1984', 'Affairs', 'confusion', 'proceeds', 'beer', 'anthology', '1992', 'stands', 'periods', 'wave', 'interstates', 'resorts', 'bodies', 'GAF', 'conflict', 'NIH', 'Drexel', 'degrees', 'cards', 'union', '1,235', 'thousands', 'shortfall', 'Taiwan', 'Inspectorate', 'sort', 'LBOs', 'parks', 'Labor', 'Chinese', 'slew', 'payroll', 'Germans', 'placements', 'cultures', 'judge', 'investigator', 'Robots', 'Agency', 'October', 'blunder', 'remains', 'bus', 'grandees', 'middlemen', 'Bangkok', 'fact', 'rescissions', 'request', 'agencies', 'megawatts', 'Depression', 'Coca-Cola', 'Memotec', 'crash', 'hyping', 'shortcomings', 'extension', 'passage', 'submarine', 'Foundation', 'body', 'Bufton', '1947', 'receivership', 'anticipation', 'Reynolds', 'Inouye', 'Partners', 'Germany', 'MPI', 'shade', 'bit', 'Roh', 'slipshod', 'techniques', 'implications', 'cry', 'gorillas', 'Korea', 'hinterlands', 'workings', 'accumulation', 'communication', 'Alberta', 'PROSPECTS', 'America', 'perfume', 'arbitrage', 'Reserve', 'Guber-Peters', 'Azerbaijan', 'Provigo', 'entrepreneurs', 'gratitude', 'squads', 'Commodore', 'proceedings', 'rout', '1960s', 'glitches', 'street', 'aspects', 'Chevron', 'suit', 'warrant', 'dock', 'record', 'boosters', 'cyclist', 'attitude', 'controls', 'CD', 'Realist', 'worker', 'sun', 'outside', 'expectations', 'River', 'formalities', 'reunions', 'Grenfell', 'stint', 'centers', 'Soup', 'Ltd', 'Attorneys', 'circus', 'Deposit', 'negotiation', 'depletion', 'duck', 'detergent', 'bags', 'skill', 'instrument', 'Iranians', 'private', 'turn', 'Southeast', 'UMW', 'ticket', 'counter', 'Oklahoma', 'balloon', 'Oct.', 'victory', 'Seidman', 'smoke', 'injuries', 'excesses', 'uprising', 'disasters', 'Monday', 'training', 'split', 'Goldston', 'EC', 'rebound', 'objective', 'haunts', 'fighters', 'while', 'anxieties', 'pad', 'Arabic', 'merchants', 'notions', 'Gonzalez', 'TVS', 'Wizard', 'patrols', 'Yale', '1982', 'Committee', 'Way', 'Banco', 'board', 'drives', 'church', 'Guard', 'mid-season', 'stability', 'Warsaw', 'Angeles', 'Bataan', 'capita', 'problems', 'Bofors', 'National', 'surgery', '449.33', 'drugs', 'memorial', 'entrepreneurship', 'Gatos', 'Rally', 'complaints', 'will', 'friction', 'Inc', 'people', 'thing', 'Alex', 'well-being', 'abating', 'chart', 'plus', 'Hathaway', 'intifadah', 'distress', 'wage', 'Murdoch', 'partner', 'Turkmenia', 'Asher/Gould', 'Philadelphia', 'defensive', 'conspiracy', 'handicapped', 'directories', 'reconstruction', 'coffee', 'buying', 'swoon', 'collateral', 'feuding', 'attorney', 'Turnpike', 'Cambodia', 'name-dropping', 'observatory', 'denominations', 'creditors', '35442.40', 'royalties', 'regard', 'Hospitals', 'incidents', '1970', 'decree', 'irregularities', 'anywhere', 'legacy', 'medicine', 'Sonata', 'subpoenas', 'anti-abortionists', 'Norwegians', 'whites', 'properties', '1,120', 'knowledge', 'beach', 'Alaska', 'decisions', 'dummy', 'midsummer', 'focus', 'John', 'Sea', 'Systems', 'collaboration', 'Finnair', 'Baird', 'LBO', 'inquiry', 'Union', 'data', 'convictions', 'neighbor', 'hepatitis', 'Erath', 'touch', 'integration', 'stores', 'musicians', 'grievances', 'master', 'chronicle', 'Monte', 'battalion', 'variety', 'attrition', 'softness', 'game', 'Republicans', 'Sumita', 'envy', 'inferior', '453,000', 'posts', 'viability', '35417.44', 'wings', '100', 'Conference', 'collections', 'markets', 'palms', 'organization', 'junk', 'parts', 'transfer', 'TNT', 'Italians', 'stretch', 'pool', 'energy', 'Donnelley', 'areas', 'section', 'theory', 'cash', 'illiquidity', 'yet', 'Posner', 'faith', 'flip-flop', 'July', 'flexibility', 'small', 'Hambrecht', 'Donuts', 'turbulence', 'suckers', 'plight', 'photos', 'jobs', 'flesh', 'uncovered', 'races', 'NBC', 'sectors', 'locales', 'bottles', '162', 'TW', 'Wichita', 'transportation', 'coverup', 'legerdemain', 'Motors', 'villagers', 'morale', 'Beach', 'outfit', 'glory', 'Hicks', 'season', 'Broadcasting', 'Thurmond', 'disposition', 'Petrochemical', 'quantities', 'curators', 'counseling', '5-1', '1990s', 'strokes', 'subset', 'wars', 'testing', 'sauces', '2,157,656', 'rigs', 'buildup', 'mean', 'prison', 'issues', 'researchers', 'polyethylene', 'Law', 'Showtime', 'gizmo', 'municipalities', 'SMU', 'thickness', 'Bradley', 'Resources', 'Vortex', 'fetuses', '1990', '14', 'spectrum', 'earthquake', 'pitcher', 'secretary-general', 'council', 'boost', 'purpose', 'rents', 'Finanziaria', 'beans', 'gene', 'Olympia', 'stationery', 'saga', 'entitlement', 'HK$', 'CPAs', 'production', 'results', 'photographs', 'Street', 'espousal', 'me', 'England', 'comparisons', 'Borax', 'mph', 'graveyard', 'Computer', 'Journal/Europe', 'concerns', 'Bell', 'chemicals', 'gainers', 'options', 'phases', 'formaldehyde', 'advertisers', 'flair', '1978', 'pentameter', 'emergencies', 'rhythm', 'Waterbury', 'timing', 'textbooks', 'ally', 'belief', 'corporate', 'propaganda', '1945', 'bargain-hunting', 'M$', 'contract', 'contribution', 'Uzbekistan', 'addition', 'photography', 'exits', 'ethos', 'battery', 'majority', 'payments', 'Aiken', 'Sniper', 'Court', 'seacoast', 'Israelis', 'between', 'distributor', 'roof', 'bench', 'class', 'easing', 'transfers', 'Loom', 'type', 'round', 'trades', 'protectors', 'spreads', 'abortion', 'laborers', 'components', 'oddities', 'probe', 'flag', 'a', 'Asia-Pacific', 'ambivalence', 'noblemen', 'sea', 'campuses', 'career', 'Valley', 'Trump', 'bucket', 'mustache', 'Business', 'management-by-objective', 'storytelling', 'merchandise', '7:30', 'rice', 'Bashers', 'stars', 'heels', 'Bridge', 'instance', 'mechanics', 'downgrade', 'payment', 'suppression', 'dump', 'Russians', 'TransAtlantic', 'possession', 'address', '720,000', 'partnership', 'Walkmen', 'Avery', 'School', 'biking', 'insulin', 'script', 'retailer', 'reasons', 'river', 'Mideast', 'bewildering', 'washload', 'Case', 'pitchers', 'weakening', 'sky', 'Antar', 'Jewboy', 'resources', 'creator', 'assemblies', 'foreigners', 'valor', 'adjective', 'single-B-3', 'swoop', 'surpluses', 'Greens', 'restructuring', 'Americas', 'emigres', 'Keefe', 'contention', 'young', 'Centers', 'prosecutions', 'hand', 'motion', 'turnaround', 'facts', 'things', 'Tampa', 'engagements', 'Anchorage', 'buyouts', 'trademark', 'inquiries', 'weakling', 'Donaldson', 'Alert', 'playoffs', 'quality', 'topic', 'themes', 'projects', 'Portugal', 'victories', 'teenagers', 'weaknesses', 'cosmetics', 'director', 'finery', 'racism', 'Triad', 'perestroika', 'freeways', 'table', 'Rohrer', 'TVs', 'globulin', 'multinationals', 'backers', '300', 'investigators', '35689.98', 'Boardrooms', 'ambitions', 'businessmen', 'kidnapping', 'Alliant', 'labor', 'job', 'deregulation', 'dealership', 'acquisitions', 'definition', 'executives', 'subscriber', 'fake', 'billion', 'plot', 'Center', 'Yaaba', 'Banks', 'matter', 'prose', 'conflicts', 'republics', 'outcry', 'assistance', 'investor', 'championships', 'suitor', 'discrepencies', 'Maloney', 'overruns', 'pipeline', 'Braintree', 'conveyance', 'mark', 'lawsuit', 'Stoll', 'climate', 'boards', '1967', 'everyone', 'press', 'foundations', 'Know', '14,099', 'sales', 'counterparts', 'you-know-what', 'amputation', 'envelope', 'advance', 'mills', 'messages', 'warrants', 'China', 'Cos.', 'deputies', 'fans', 'wallets', 'aircraft', 'graduation', 'stories', 'recoveries', 'tenets', 'barn', 'Saturday', 'architects', 'moustache', 'dissents', 'self-righteousness', '10.03', 'spite', 'internationalization', 'electricity', 'Lesk', 'Aoun', 'Kelton', 'A&M', 'single-B-1', 'aggregates', 'Goshen', 'conduct', 'vacations', 'abortions', 'dynamic', 'humanity', 'months', 'scenarios', 'library', 'monitoring', 'refrain', 'fares', 'pounds', 'Nevada', 'expenditure', 'articles', 'aid', 'regulators', 'content', 'Cage', 'Spectator', 'guests', 'Atlas', 'cancer', 'monohull', 'April', 'catastrophes', 'majors', 'nothing', 'films', '99.93', 'Store', 'lagoon', 'pressures', 'somebody', '99', 'oppression', 'Section', 'Vanities', 'work', 'markka', 'GM', 'floors', 'income', 'courtroom', 'oak', 'Indies', 'MIPs', 'coast', 'cyclosporine', 'rights', 'car', 'activities', 'Applied', 'OAS', 'replacements', 'rating', '880', 'suspensions', 'divestitures', 'criminals', 'wages', 'target', 'ballroom', 'historians', 'examinations', 'Orleans', 'Traviata', 'nationalists', 'stake', 'dance', 'currencies', 'Lampoon', 'machinists', 'consumption', 'love', 'society', '99.90', 'Index', 'swaps', 'statistics', 'Lynch', 'lifestyle', 'depth', 'deficiency', 'events', 'Holland', 'exchange', '7/8', 'hamburgers', 'minds', 'LIN', 'mid-afternoon', 'bell', 'Gillett', 'Exit', 'depreciation', 'sentence', 'Investigation', 'Lincoln', 'attorneys', 'Grand', 'sails', 'points', 'Salomon', 'owner', 'Dearborn', 'cause', 'Mattress', 'birds', 'indexes', 'Texas', 'homosexuals', 'versions', 'works', 'patterns', 'Moon', 'pillar', 'facilities', 'capitalism', 'coordination', 'purchases', 'Floodlights', 'district/state', 'outlooks', 'salesmen', 'legalization', 'Russian', 'Hees', 'airlines', 'sitcoms', 'CML', 'report', 'Alisarda', 'shovels', '2683.20', 'caveat', 'technique', 'contractors', 'spate', 'preachiness', 'Mississippi', 'Rothschild', 'resignation', '35544.47', 'forces', 'yes', 'opportunities', 'customer', 'midnight', 'item', 'Hut', 'S&P', 'outfits', 'June', 'Kellogg', 'Islands', 'Manpower', 'reversal', 'sponsor', 'packages', 'Omaha', 'Upham', 'aide', 'battle', 'minute', 'behest', 'ton', 'Miami', 'most', 'parties', 'specificity', 'townships', 'culture', 'Merc', 'pills', 'regions', '1975', 'mother', 'brothers', 'arguments', 'Asia', 'Steinberg', 'look', '4/32', 'substitutes', 'taking', '1906', 'chapter', 'armory', 'Song', 'paychecks', 'permission', 'U.S.', 'maturities', 'review', 'AMR', 'Atlantic', 'enforcement', 'Krasnoyarsk', '2596.72', 'husband', 'tanks', 'cells', 'rain', 'glance', 'diet', 'ways', 'self-criticism', 'fibers', 'respondents', 'decade', 'retirees', 'terminal', 'bacterium', 'Spielvogel', 'clinic', 'pitches', 'sins', 'fire', 'Libya', 'supplies', 'expenses', 'Bancroft', 'method', 'Afghanistan', 'Network', 'Atlanta', 'sometime', 'bakeries', 'conjunction', 'owners', 'fate', 'mail', 'microcomputer', 'skins', 'lows', 'topics', 'India', 'Seabrook', 'tablets', 'voting', 'conversation', 'mismatch', 'mouth', 'soft', 'authorization', 'likelihood', 'enactment', 'Healthcare', 'upside', 'cliff', 'Journal', 'dusk', '2002', 'jealousy', 'Yorker', 'division', 'Shakespeare', 'middle', 'panhandler', 'Honecker', 'casings', 'brewing', 'ideal', 'tacos', 'coupons', 'Investments', 'milks', 'non-clients', 'clashes', 'Communists', 'cocoa', 'worries', 'era', 'crush', 'pennant', 'Roberts', 'vessels', 'perceptions', 'Living', 'Quebecor', 'countertop', 'mergers', 'boomers', 'hemisphere', 'filings', 'massacre', 'PCS', 'artist', 'beneficiaries', 'Netherlands', 'Steve', 'allegations', 'fee', 'check', 'Democrats', 'repeat', 'branch', 'unconstitutional', 'criminality', 'soup', 'suits', 'Board', 'titans', 'halt', 'debris', 'readership', 'celebrations', 'commitment', 'ovens', 'IRS', 'coups', 'mismanagement', 'several', 'weather', 'libel', 'Poland', 'Folgers', 'year', 'circuits', 'neighbors', 'decades', 'Corps', 'locks', 'family', 'districts', 'electroluminescence', 'IAFP', 'Kingman', 'One', 'Bancorp', 'KKR', '1985', 'pricing', 'Advertising', 'formula', 'EXBT', 'motors', 'sovereignty', 'Stockholm', 'midst', '35015.38', 'delegation', 'willingess', 'goodwill', 'refineries', 'characters', 'surveys', 'zlotys', 'textile', 'prohibitions', 'Macmillan', 'cooperatives', 'faultlines', 'station', 'trips', 'Liberal', 'leaders', 'Plymouth', 'formulation', 'expenditures', 'series', 'tip', 'Rouge', 'determination', '10,000', 'English', 'setting', 'drain', '101', 'manipulation', 'kingpins', 'slaughter', 'Moore', 'amendment', 'cartridge', 'default', '99.80', 'musicianship', 'cat', 'Western', 'Avenue', 'Wednesdays', 'territories', 'acre', 'arrest', 'coatings', 'pride', 'Heidelberg', 'programs', 'guarantees', 'televising', 'specialties', 'Creek', 'B-3', 'hurry', 'comrades', 'Orioles', 'protein', 'Apple', 'Azoff', 'dinner', 'judiciary', 'seaboard', 'anniversary', 'physically', 'reproval', 'performances', 'pilots', 'behalf', 'holidays', 'return', 'temblor', 'import', 'Fidel', 'Nasdaq', 'Pasadena', 'ripoffs', 'notes', 'females', 'environmentalists', 'deposit', 'claim', 'chorus', 'ESOP', '1981', 'Missouri', 'treaty', 'Telerate', 'essay', 'possessions', 'litigants', 'frame', 'Horton', 'tracks', 'planning', 'Helmsley', 'privatization', 'confidence', 'recession', 'Bancorp.', 'shareholders', 'breaker', 'hotel-casinos', 'write-down', 'double-B-plus', 'changes', 'pesetas', 'chaos', 'study', 'retailers', 'Disasters', 'apartments', 'refusal', 'movie', 'Green', 'mind-set', 'confrontation', 'interviews', 'Sunbelt', 'challenge', 'staff', 'Pontiac-Cadillac', 'ridges', 'robbing', 'whiplash', 'appointment', 'proviso', 'occupancy', 'Mips', 'departments', 'Capel', 'Navy', 'hips', 'principles', 'fad', 'yields', 'Kuwait', 'character', 'corruption', 'p.m.', 'discharge', 'charities', 'Maine', 'bridge', 'steelmaker', 'Harley-Davidson', 'Series', 'post', 'Achenbaum', 'House', 'bar', 'sound', 'equipment', 'Contras', 'soybeans', 'demonstrations', 'Show', 'letters', 'each', 'minutes', 'good', 'Chiefs', 'lobbyists', 're-election', 'Area', 'Lilly', 'institutions', 'Eastern', 'apartheid', 'reaction', 'schools', 'Boesky', 'Moonies', 'rejection', 'Connaught', 'Chyron', 'Tuesday', 'dignity', 'saints', 'inserts', 'Sherwin', 'counterrevolutionary', 'Kamp', 'Faberge', 'auction', 'gouging', 'realism', 'errors', 'Whittier', 'heights', 'economists', 'pork', 'food', 'Hulings', 'toughness', 'stones', 'Semel', 'WPP', 'limit', 'newcomers', 'Creswell', 'U.K.', 'Iran-Contra', 'collapse', 'Dataproducts', 'Valentine', 'times', 'unemployment', 'this', 'Lawson', 'promotions', 'Soviet', 'urgency', 'abroad', 'issuance', 'Malibu', '13/16', 'Papermils', 'exchanges', 'NASD', 'Florio', 'Smith', 'empire', 'program', 'test-marketing', 'performer', '1971', 'industries', 'arteries', 'coaches', 'ink', 'bet', 'Inco', 'grades', 'Bloomingdale', 'Hampshire', 'NASA', 'Y&R', 'democracy', 'Jean', 'acres', 'Kids', 'collection', 'Brouwer', 'Boren', 'pit', 'recipes', 'offenders', 'CDs', 'tartans', '757', 'executions', 'controversies', 'Lufkin', 'Battery', 'behavior', 'images', 'Whitbread', 'impact', 'crashes', 'Cie', 'apples', 'desecration', 'Cabinet', 'converters', 'sorts', 'ground-handling', 'dangers', 'Lantos', 'Meridian', 'Tiepolo', 'finances', 'prevention', 'half-baked', 'prize', 'resolution', 'Australia', 'herd', 'antibody', 'Quebec', 'activists', 'ships', 'south', 'chlorofluorocarbons', 'laundering', 'another', 'fabric', 'perfection', 'caller', 'reputation', 'present', 'Fleischmann', 'bailout', 'distributors', 'moxie', 'Ladenburg', 'Theater', 'liquor', 'astringency', 'hacker', 'bed', 'deportation', 'downside', 'paper', 'assassination', 'revenue', 'ususal', 'shipyards', 'reach', 'Aerospace', 'lines', 'itself', 'affections', 'underwear', 'fabrication', 'Texaco', 'agent', 'Quina', 'chromosomes', 'Helpern', 'Hills', 'mural', 'bigotry', 'top', 'quotations', 'taxation', 'lawmakers', 'ratings-getter', 'DES', 'brick', 'sports', 'Scottsdale', 'Square', 'Interface', '4,393,237', 'Saab', 'raise', 'International', 'overhaul', 'flag-burner', 'automation', 'counts', 'litigation', 'cleanup', 'pages', 'stadium', 'documents', 'frenzy', 'Pharmaceuticals', 'indecisiveness', 'semantics', 'legitimacy', 'Capital', 'places', 'Lang', 'fertilizers', 'increase', 'bequest', 'agenda', 'printers', 'Beghin-Say', 'tie', 'indignation', 'Firebird', 'occasions', 'base', 'Marathon', 'Federated', 'forays', 'cart', 'Containers', 'Olympics', 'decline', 'concentrate', 'football', 'beef', 'courthouse', 'Ortega', 'lesbians', 'congress', 'hostages', 'timetable', 'indications', 'manufacture', 'restraints', 'control', 'Missile', 'ranges', 'Inlet', 'single-A-2', 'politics', 'fleets', 'trailer', 'cores', 'expiration', 'Cobbs', 'accomplishments', 'editions', 'Tadzhikistan', 'variations', 'dictator', 'hazards', 'globalist', 'impeachment', 'sublicense', 'triples', 'strikes', 'processing', 'light', 'nexus', 'Airlines', 'differences', 'ketchup', 'victims', 'project', 'Service', 'Angels', 'virtues', '35242.65', 'Dynamics', 'pilot', 'AT&T', 'tantamount', 'miles', 'orthodoxy', 'Dun', 'brigades', '778', 'brand', 'Sierras', 'desks', 'Sudan', 'polls', 'intellect', 'Ba-3', 'figure', 'givebacks', 'SHV', 'life', 'policeman', 'Beer', 'limits', 'rate', 'noon', 'Maalox', 'gains', 'Greenfield', 'carrier', 'chip', 'rule', 'dice', 'extremes', 'alternative', 'powders', 'Hudson', 'dealers', 'militarism', 'brief', 'design', 'Skies', 'Antonio', 'Acapulco', 'declaration', 'point', 'CFCs', 'follower', 'ayatollah', 'Violetta', 'bay', '22,336', 'industry', 'anxiety', 'Boveri', 'weapon', 'erosion', 'Middletown', 'advantage', 'gallons', 'audiences', 'Quantum', 'lane', 'outskirts', 'sport', 'offices', 'Miller', 'state', 'concern', 'march', 'Mills', 'issue', 'mustard', 'task', 'copying', 'sweaters', 'globe', 'guilders', 'Sunday', 'co-publisher', 'above', 'C', 'televisions', 'capital', 'Turnbull', 'outlets', 'HyperCard', \"'80s\", 'brands', 'arsenal', 'cables', 'book', 'rocks', 'droplets', 'presidents', 'Cross', 'recorder', 'District', 'chairmen', 'retirement', 'looks', 'bridges', 'insistence', 'Bowls', 'homicides', 'outset', 'bulk', 'export', 'landfills', 'other', 'cycle', 'revisions', 'bidding', 'Atlantis', 'pregnancy', 'circumstances', 'barons', 'branches', 'signature', 'Forest', 'Man', 'seasons', 'demise', 'those', 'theocracy', 'tritium', 'leader', 'winners', 'knots', 'retreating', 'commercial', 'drawings', 'showroom', 'Hassan', 'refugees', 'softening', 'manufacturers', 'twisting', 'receipts', 'Tiffany', 'doors', 'bag', 'horizon', 'connection', 'p53', 'Giants', 'system', 'Innopac', 'Corp.', 'trusts', 'Matamoros', 'drinks', 'resale', 'intersection', 'clouds', 'boot', 'rumors', 'drama', 'pencil', 'idea', 'oiler', 'Environmentalists', 'videos', '6,930,000', 'disorders', 'CenTrust', 'man-hours', 'advances', 'Stephenson', 'cones', 'Hammacks', 'Octel', 'climb', 'Sperry', 'dealerships', 'rear', '158,863', 'Kidder', 'deliveries', 'kinds', 'arbitrator', 'displays', 'spots', 'film', 'media', 'one-third', 'officers', 'maneuver', 'Consulting', 'academy', 'BSN', 'handbills', '27', 'purchasers', 'Golenbock', 'tuition', 'economy', 'publishers', 'soaps', 'buses', 'cost-cutting', '1900', 'eye-blink', 'Brotherhood', 'phones', 'Turandot', 'psyllium', 'Lake', 'cutbacks', 'chemists', 'towns', 'response', 'evil', 'output', 'Bostonians', 'Invasion', 'neglect', 'warming', 'Amendment', 'sequence', 'search', 'home', 'buildings', 'limbo', 'encouragement', 'diplomats', 'gringos', 'judgment', 'waste', 'William', 'prejudice', '2135.5', 'momentum', 'assassinations', 'Gorbachev', 'patience', 'movements', '362', 'founder', 'RDF', 'administration', 'seisho', 'County', 'Gruntal', 'coins', 'Mexico', 'homeowners', 'account-churning', 'supplier', 'offerings', 'budget', 'Vegas', 'Members', 'statutes', 'link', 'month', 'restaurant', 'Maserati', 'Lee', 'breaks', 'index', 'Spadafora', 'prisons', 'employees', 'competition', '92-14', 'closure', 'System', 'surge', 'veterans', 'reason', 'bargains', '8.59', 'Thompson-CSF', 'influences', 'manner', 'State', 'corner', 'trepidation', 'Grumman', 'massage', 'grievance', 'pockets', 'giants', 'courage', 'December', 'moments', 'Ernst', 'forfeiture', 'practices', 'meters', 'Cineplex', 'possible', 'writer', 'art', 'Cape', 'Coast', 'dose', 'Armenia', '12', 'similarity', 'hits', 'producers', 'quotas', 'week', 'broker', 'Months', 'accord', 'showers', 'Health', 'adventure', 'powder', 'Israel', 'B.A.T', 'MeraBank', 'whole', 'audits', 'stocks', 'looseleaf', 'iron', 'Kingdom', 'surplus', 'array', 'two', 'custody', 'excuse', 'assets', 'quake', 'Castro', 'defaults', 'positioning', 'BellSouth', 'Triangle', 'deflators', 'census', 'junket', 'upset', 'promotion', 'moment', 'complaint', 'inspection', 'regulation', 'recessions', 'Motor', 'advisers', 'pageant', 'length', 'version', 'crimes', 'wake', 'Major', 'borders', 'lunch', 'mid-1980s', 'crouch', 'one', 'protectionism', '463.28', 'providing', 'loans', 'gases', 'guard', '35587.85', 'Burmah', 'Britain', 'Agricole', 'hardy', 'arbitration', '1955', 'controversy', 'movies', 'Solidarity', 'manpower', 'inference', 'screen', 'Hooker', 'Ciba-Geigy', 'earners', 'Associates', 'salmon', 'heck', 'drop', 'romance', 'personal-income', 'interest', 'loaves', 'A330-300s', 'B2', 'concept', 'Games', 'Angelo', 'Trout', 'double-C', 'boat', 'Somerset', 'freighters', 'H.', 'lawn', '1980', 'fish', 'spy-chasing', 'objectivity', 'award', 'laboratory', 'financing', 'the', 'cent', 'safe', 'Morris', 'absolutism', 'Brothers', 'Buffalo', 'exceptions', 'Turkey', 'Lester', 'priorities', 'onset', 'terror', 'harms', '2008', 'zones', 'affiliates', 'presidency', 'panels', 'location', 'Nov.', 'subcontracting', 'Henderson', 'lender', 'PLO', 'cuts', 'ruling', 'readers', 'catsup', 'Sierra', 'sandwiches', 'crop', 'cast', 'Stanley', 'customers', '35452.72', 'flight', 'Giuliani', '700', 'buck', 'legislating', 'statements', 'insurer', 'winds', 'Maryland', 'death', 'chips', 'grip', 'half-time', 'Ford', 'rats', 'analysts'}\n"
          ]
        }
      ]
    },
    {
      "cell_type": "code",
      "source": [
        "# step 4 implementing my classifier\n",
        "class AdvancedClassifier:\n",
        "    def __init__(self):\n",
        "        self.vectorizer = DictVectorizer()\n",
        "        self.model = MultinomialNB()\n",
        "\n",
        "    def extract_features(self, keywords):\n",
        "        v, n1, p, n2 = keywords\n",
        "\n",
        "        # Example: Feature extraction based on word frequencies\n",
        "        features = {\n",
        "            'v_freq': verbs.count(v),\n",
        "            'n1_freq': nouns1.count(n1),\n",
        "            'n2_freq': nouns2.count(n2),\n",
        "            'preposition': p.lower(),\n",
        "            'v_n1_same_last_char': int(v[-1] == n1[-1]),  # Example: Check if the last character of v and n1 is the same\n",
        "            'v_n1_length_diff': abs(len(v) - len(n1)),  # Example: Absolute difference in length between v and n1\n",
        "        }\n",
        "\n",
        "        return features\n",
        "\n",
        "    def train(self, training_examples):\n",
        "        X = [self.extract_features(example['keywords']) for example in training_examples]\n",
        "        y = [example['answer'] for example in training_examples]\n",
        "\n",
        "        X = self.vectorizer.fit_transform(X)\n",
        "        self.model.fit(X, y)\n",
        "\n",
        "    def classify(self, keywords):\n",
        "        features = self.extract_features(keywords)\n",
        "        features_vectorized = self.vectorizer.transform(features)\n",
        "        return self.model.predict(features_vectorized)[0]\n",
        "\n",
        "# extra feature exploration\n",
        "v_n1_same_last_char_count = sum(int(example['keywords'][0][-1] == example['keywords'][1][-1]) for example in pp_examples)\n",
        "print(\"v_n1_same_last_char_count:\", v_n1_same_last_char_count)\n",
        "\n",
        "v_n1_length_diff_values = [abs(len(example['keywords'][0]) - len(example['keywords'][1])) for example in pp_examples]\n",
        "print(\"v_n1_length_diff_values:\", set(v_n1_length_diff_values))\n",
        "\n",
        "# step 5\n",
        "classifier = AdvancedClassifier()\n",
        "classifier.train(train_examples)\n",
        "accuracy = evaluate_classifier(test_examples, classifier)\n",
        "print(f\"Accuracy of the Advanced Classifier: {accuracy * 100:.2f}%\")\n",
        "\n"
      ],
      "metadata": {
        "colab": {
          "base_uri": "https://localhost:8080/"
        },
        "id": "deweTIdpGQtn",
        "outputId": "41665408-d740-4fb3-e18a-dfb9fb404ada"
      },
      "execution_count": 67,
      "outputs": [
        {
          "output_type": "stream",
          "name": "stdout",
          "text": [
            "v_n1_same_last_char_count: 2188\n",
            "v_n1_length_diff_values: {0, 1, 2, 3, 4, 5, 6, 7, 8, 9, 10, 11, 12, 13, 14, 18}\n",
            "Accuracy of the Advanced Classifier: 58.22%\n"
          ]
        }
      ]
    },
    {
      "cell_type": "markdown",
      "source": [
        "## On Generating N-Grams"
      ],
      "metadata": {
        "id": "Fe0J8DNxo7jG"
      }
    },
    {
      "cell_type": "code",
      "source": [
        "from sklearn.feature_extraction.text import CountVectorizer"
      ],
      "metadata": {
        "id": "hlZdaoi-TEXh"
      },
      "execution_count": 64,
      "outputs": []
    },
    {
      "cell_type": "markdown",
      "source": [
        "The input of *any* machine learning model must be numerical. Since words (nor characters) aren’t numbers, we have to work a bit to convert them into a numerical representation.\n",
        "\n",
        "Such a numerical representation is also called a vector (a fancy name for a list of numbers…). A common way to achieve such vector is to perform measurements on the text (as we discussed in the first sessions – performing measurement on an apple).\n",
        "\n",
        "Such features could be the identity of a single word, given as an index number, or its frequency in a corpus or in the sentence, or TF-IDF on a corpus. Features can also be a composition of multiple words together (e.g., only the verb and the preposition), with the same or other techniques. This is also called an **n-gram**.\n",
        "\n",
        "One way to vectorize text is using that count transformer ([CountVectorizer](https://scikit-learn.org/stable/modules/generated/sklearn.feature_extraction.text.CountVectorizer.html)) from scikit-learn. These vectorizers work in two part:\n",
        "*\tFirst they learn ([fit](https://scikit-learn.org/stable/modules/generated/sklearn.feature_extraction.text.CountVectorizer.html#sklearn.feature_extraction.text.CountVectorizer.fit)) from some input data. In the case of CountVectorizer, it expects a list of sentences (a corpus) to learn from. It will then learn how many different words (types) the corpus contains, and will build a vocabulary for those words: each word will get an index number. It also cleans up the text from stop words and punctuation, and you could even ask it to learn representations of n-grams, instead of single words (a parameter of the CountVectorizer itself).\n",
        "*\tAfter learning the size of the vocabulary, it can transform any list of text into a vectorized representation. Given a list of new text inputs, sentences in different lengths (also the list itself can be any length – for example, it can be made of a single sentence, but it has to be a list), the [transform](https://scikit-learn.org/stable/modules/generated/sklearn.feature_extraction.text.CountVectorizer.html#sklearn.feature_extraction.text.CountVectorizer.transform) method will return a vector representation in the size of the learned vocabulary, where every position represent a specific word (a type) from the learned corpus. The value on that position is the number of occurrences of that word in that given sentence. Piling up these three vectors, one on top of the other, would yield a matrix (a table / excel sheet of numbers), where every column represent a specific word in our vocabulary.\n",
        "*\t`X_transformed = vectorizer.fit_transform(X)` ▶ [fit_transform](https://scikit-learn.org/stable/modules/generated/sklearn.feature_extraction.text.CountVectorizer.html#sklearn.feature_extraction.text.CountVectorizer.fit_transform) is a method that does both parts (fitting – counting the vocabulary types, and then converting that input text into the vector or even a matrix if there are more than one string) in one go.\n",
        "*\tThe result of the CountVectorizer is indeed a (sparse) matrix in a form of scipy’s scr_matrix. To convert it into an array, you can call its method “toarray()”:\n"
      ],
      "metadata": {
        "id": "GoJDQ5BjRD1b"
      }
    },
    {
      "cell_type": "code",
      "source": [
        "# to use the CountVectorizer, we must convert the tuples into \"full\" sentences;\n",
        "joined_sentences = [' '.join(example['keywords']) for example in train_examples[:10]]\n",
        "joined_sentences"
      ],
      "metadata": {
        "colab": {
          "base_uri": "https://localhost:8080/"
        },
        "id": "I5b1E6xMTGQM",
        "outputId": "d2512bef-33ef-4d0c-9e91-0b1918e8e387"
      },
      "execution_count": 65,
      "outputs": [
        {
          "output_type": "execute_result",
          "data": {
            "text/plain": [
              "['creating obstacle to sale',\n",
              " 'restrict RTC to borrowings',\n",
              " 'maintain assets of thrifts',\n",
              " 'leaving spending for bailout',\n",
              " 'leaving spending at $',\n",
              " 'including interest over years',\n",
              " 'subtracting value of assets',\n",
              " 'say opponents of plan',\n",
              " 'pay price of consultation',\n",
              " 'want kind of flexibility']"
            ]
          },
          "metadata": {},
          "execution_count": 65
        }
      ]
    },
    {
      "cell_type": "code",
      "source": [
        "# CountVectorizer would, by default, tokenize the sentence by separating by\n",
        "# spaces and collect a vocabulary from all the different words it finds:\n",
        "vect = CountVectorizer()\n",
        "vect.fit(joined_sentences)\n",
        "print(f\"vocabulary size: {len(vect.vocabulary_)}\")\n",
        "vect.get_feature_names_out()"
      ],
      "metadata": {
        "colab": {
          "base_uri": "https://localhost:8080/"
        },
        "id": "RDZ6jlsOUKli",
        "outputId": "7cb37e4c-c094-442b-fcee-696e155b28d7"
      },
      "execution_count": null,
      "outputs": [
        {
          "output_type": "stream",
          "name": "stdout",
          "text": [
            "vocabulary size: 31\n"
          ]
        },
        {
          "output_type": "execute_result",
          "data": {
            "text/plain": [
              "array(['assets', 'at', 'bailout', 'borrowings', 'consultation',\n",
              "       'creating', 'flexibility', 'for', 'including', 'interest', 'kind',\n",
              "       'leaving', 'maintain', 'obstacle', 'of', 'opponents', 'over',\n",
              "       'pay', 'plan', 'price', 'restrict', 'rtc', 'sale', 'say',\n",
              "       'spending', 'subtracting', 'thrifts', 'to', 'value', 'want',\n",
              "       'years'], dtype=object)"
            ]
          },
          "metadata": {},
          "execution_count": 44
        }
      ]
    },
    {
      "cell_type": "code",
      "source": [
        "# We can use it to generate n-grams sized 1 (unigram) to 4:\n",
        "vect = CountVectorizer(ngram_range=(1, 4))\n",
        "vect.fit(joined_sentences)\n",
        "print(f\"vocabulary size: {len(vect.vocabulary_)}\")\n",
        "vect.get_feature_names_out()"
      ],
      "metadata": {
        "id": "SCDYy4wTFiK6",
        "outputId": "fcf925f7-ffc4-452e-ffa2-ce622f326541",
        "colab": {
          "base_uri": "https://localhost:8080/"
        }
      },
      "execution_count": null,
      "outputs": [
        {
          "output_type": "stream",
          "name": "stdout",
          "text": [
            "vocabulary size: 87\n"
          ]
        },
        {
          "output_type": "execute_result",
          "data": {
            "text/plain": [
              "array(['assets', 'assets of', 'assets of thrifts', 'at', 'bailout',\n",
              "       'borrowings', 'consultation', 'creating', 'creating obstacle',\n",
              "       'creating obstacle to', 'creating obstacle to sale', 'flexibility',\n",
              "       'for', 'for bailout', 'including', 'including interest',\n",
              "       'including interest over', 'including interest over years',\n",
              "       'interest', 'interest over', 'interest over years', 'kind',\n",
              "       'kind of', 'kind of flexibility', 'leaving', 'leaving spending',\n",
              "       'leaving spending at', 'leaving spending for',\n",
              "       'leaving spending for bailout', 'maintain', 'maintain assets',\n",
              "       'maintain assets of', 'maintain assets of thrifts', 'obstacle',\n",
              "       'obstacle to', 'obstacle to sale', 'of', 'of assets',\n",
              "       'of consultation', 'of flexibility', 'of plan', 'of thrifts',\n",
              "       'opponents', 'opponents of', 'opponents of plan', 'over',\n",
              "       'over years', 'pay', 'pay price', 'pay price of',\n",
              "       'pay price of consultation', 'plan', 'price', 'price of',\n",
              "       'price of consultation', 'restrict', 'restrict rtc',\n",
              "       'restrict rtc to', 'restrict rtc to borrowings', 'rtc', 'rtc to',\n",
              "       'rtc to borrowings', 'sale', 'say', 'say opponents',\n",
              "       'say opponents of', 'say opponents of plan', 'spending',\n",
              "       'spending at', 'spending for', 'spending for bailout',\n",
              "       'subtracting', 'subtracting value', 'subtracting value of',\n",
              "       'subtracting value of assets', 'thrifts', 'to', 'to borrowings',\n",
              "       'to sale', 'value', 'value of', 'value of assets', 'want',\n",
              "       'want kind', 'want kind of', 'want kind of flexibility', 'years'],\n",
              "      dtype=object)"
            ]
          },
          "metadata": {},
          "execution_count": 45
        }
      ]
    }
  ]
}